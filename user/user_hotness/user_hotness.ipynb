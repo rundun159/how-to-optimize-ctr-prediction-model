{
  "nbformat": 4,
  "nbformat_minor": 0,
  "metadata": {
    "colab": {
      "private_outputs": true,
      "provenance": [],
      "machine_shape": "hm"
    },
    "kernelspec": {
      "name": "python3",
      "display_name": "Python 3"
    },
    "language_info": {
      "name": "python"
    }
  },
  "cells": [
    {
      "cell_type": "code",
      "execution_count": null,
      "metadata": {
        "id": "UiV_OVyOy8vL"
      },
      "outputs": [],
      "source": [
        "!pip install -q tensorflow-recommenders\n",
        "!pip install -q --upgrade tensorflow-datasets"
      ]
    },
    {
      "cell_type": "code",
      "source": [
        "import pprint\n",
        "\n",
        "%matplotlib inline\n",
        "import matplotlib.pyplot as plt\n",
        "from mpl_toolkits.axes_grid1 import make_axes_locatable\n",
        "\n",
        "import numpy as np\n",
        "import tensorflow as tf\n",
        "import tensorflow_datasets as tfds\n",
        "\n",
        "import tensorflow_recommenders as tfrs"
      ],
      "metadata": {
        "id": "d873gYbD0CGF"
      },
      "execution_count": null,
      "outputs": []
    },
    {
      "cell_type": "code",
      "source": [
        "# import packages\n",
        "import pandas as pd\n",
        "import seaborn as sns\n",
        "import matplotlib.pyplot as plt\n",
        "import random\n",
        "import sys\n",
        "import csv\n",
        "import gzip\n",
        "import copy\n",
        "import datetime\n",
        "from tqdm import tqdm\n",
        "from sklearn import metrics\n",
        "from tabulate import tabulate"
      ],
      "metadata": {
        "id": "8oRrlXZI0ETP"
      },
      "execution_count": null,
      "outputs": []
    },
    {
      "cell_type": "code",
      "source": [
        "seed_value = 42  # seed for reproducibility\n",
        "random.seed(seed_value)"
      ],
      "metadata": {
        "id": "tIqMLfCl0K2k"
      },
      "execution_count": null,
      "outputs": []
    },
    {
      "cell_type": "code",
      "source": [
        "import warnings\n",
        "warnings.filterwarnings(action='ignore')"
      ],
      "metadata": {
        "id": "HO3hrqUawL05"
      },
      "execution_count": null,
      "outputs": []
    },
    {
      "cell_type": "code",
      "source": [
        "from google.colab import drive\n",
        "drive.mount('/content/drive')"
      ],
      "metadata": {
        "id": "mtzzM19O0ZKB"
      },
      "execution_count": null,
      "outputs": []
    },
    {
      "cell_type": "code",
      "source": [
        "sys.path.append('/content/drive/MyDrive/ctr/code/model')"
      ],
      "metadata": {
        "id": "l_8Fpg8C9LZS"
      },
      "execution_count": null,
      "outputs": []
    },
    {
      "cell_type": "code",
      "source": [
        "import dcn\n",
        "import run_models"
      ],
      "metadata": {
        "id": "DEaL_7Vy9YD2"
      },
      "execution_count": null,
      "outputs": []
    },
    {
      "cell_type": "code",
      "source": [
        "FIGSIZE = (6,3)\n",
        "\n",
        "seed_value = 42  # seed for reproducibility\n",
        "random.seed(seed_value)\n",
        "subsample_ratio = 0.05\n",
        "\n",
        "n = 40428967  # total number of records in the clickstream data\n",
        "sample_size = int(n * subsample_ratio)\n",
        "\n",
        "parse_date = lambda val : datetime.datetime.strptime(val, '%y%m%d%H')\n",
        "skip_values = lambda i: i>0 and random.random() > subsample_ratio"
      ],
      "metadata": {
        "id": "8nL9Vsw-m2So"
      },
      "execution_count": null,
      "outputs": []
    },
    {
      "cell_type": "code",
      "source": [
        "# indicate the datatypes to use in the reading process\n",
        "types_train = {\n",
        "    'id': np.dtype(int),\n",
        "    'click': np.dtype(int),\n",
        "    'hour': np.dtype(int),\n",
        "    'C1': np.dtype(int),\n",
        "    'banner_pos': np.dtype(int),\n",
        "    'site_id': np.dtype(str),\n",
        "    'site_domain': np.dtype(str),\n",
        "    'site_category': np.dtype(str),\n",
        "    'app_id': np.dtype(str),\n",
        "    'app_domain': np.dtype(str),\n",
        "    'app_category': np.dtype(str),\n",
        "    'device_id': np.dtype(str),\n",
        "    'device_ip': np.dtype(str),\n",
        "    'device_model': np.dtype(str),\n",
        "    'device_type': np.dtype(int),\n",
        "    'device_conn_type': np.dtype(int),\n",
        "    'C14': np.dtype(int),\n",
        "    'C15': np.dtype(int),\n",
        "    'C16': np.dtype(int),\n",
        "    'C17': np.dtype(int),\n",
        "    'C18': np.dtype(int),\n",
        "    'C19': np.dtype(int),\n",
        "    'C20': np.dtype(int),\n",
        "    'C21':np.dtype(int)\n",
        "}"
      ],
      "metadata": {
        "id": "2_687hIu_aCc"
      },
      "execution_count": null,
      "outputs": []
    },
    {
      "cell_type": "code",
      "source": [
        "FILE_PATH = '/content/drive/MyDrive/ctr/avazu/processed/train/train.csv'\n",
        "train = pd.read_csv(FILE_PATH)"
      ],
      "metadata": {
        "id": "WkfHADIhFAEM"
      },
      "execution_count": null,
      "outputs": []
    },
    {
      "cell_type": "code",
      "source": [
        "def ret_user_hotness(train):\n",
        "    NULL_ID = 'a99f214a'\n",
        "    USED_FEATURES = {'device_id', 'device_ip', 'device_model', 'click'}\n",
        "    columns = train.columns\n",
        "    for col in columns:\n",
        "        if col not in USED_FEATURES:\n",
        "            train.drop(col, axis=1, inplace=True)\n",
        "    user_data_df = pd.DataFrame(columns=[\n",
        "        'User ID',\n",
        "        'click',\n",
        "        'imp'\n",
        "    ])\n",
        "    user_data = {}\n",
        "    for row in train.astype({'click':str}).values:\n",
        "        user_id, click = row[1], int(row[0])\n",
        "        if(user_id == NULL_ID):\n",
        "            user_id = row[2] + '-' + row[3]\n",
        "        if user_id not in user_data:\n",
        "            user_data[user_id] = { 'click': click, 'imp': 1 }\n",
        "        else:\n",
        "            user_data[user_id]['click'] += click\n",
        "            user_data[user_id]['imp'] += 1\n",
        "\n",
        "    imp_bins = [0, 1, 5, 10, 25, 50, 100, 200, 500, 1000, 2000, 3000, 999999999]\n",
        "    ratio_bins = [-1, 0, 0.1, 0.2, 0.3, 0.4, 0.5, 0.6, 0.7, 0.8, 0.9, 1]\n",
        "\n",
        "    id_list, click_list, imp_list, ratio_list = [], [], [], []\n",
        "\n",
        "    for user_id, data in user_data.items():\n",
        "        id_list.append(user_id)\n",
        "        click_list.append(data['click'])\n",
        "        imp_list.append(data['imp'])\n",
        "        ratio_list.append(data['click'] / data['imp'])\n",
        "\n",
        "    total_data_df = pd.DataFrame(data={\n",
        "        'user_id' : id_list,\n",
        "        'click' : click_list,\n",
        "        'imp' : imp_list,\n",
        "        'ratio' : ratio_list,\n",
        "    })\n",
        "\n",
        "    imp_bins = [0, 1, 5, 10, 25, 50, 100, 200, 500, 1000, 2000, 3000, 999999999]\n",
        "    total_data_df['imp_binned'] = pd.cut(total_data_df['imp'], bins=imp_bins)\n",
        "    total_data_df['ratio_binned'] = pd.cut(total_data_df['ratio'], bins=ratio_bins)\n",
        "\n",
        "    return total_data_df"
      ],
      "metadata": {
        "id": "3WUXkHVc0cDV"
      },
      "execution_count": null,
      "outputs": []
    },
    {
      "cell_type": "code",
      "source": [
        "user_hotness = ret_user_hotness(train)"
      ],
      "metadata": {
        "id": "5b7NT7a31rcL"
      },
      "execution_count": null,
      "outputs": []
    },
    {
      "cell_type": "code",
      "source": [
        "# Imp가 Threshold 이상인 유저에 대한 통계 진행\n",
        "# Imp가 Threshold 이상인 유저가 10% 이상이 되어야, labeling의 의미가 있지 않을까 추측"
      ],
      "metadata": {
        "id": "51rZJbqD4fxZ"
      },
      "execution_count": null,
      "outputs": []
    },
    {
      "cell_type": "code",
      "source": [
        "THRESHOLD = 5\n",
        "MASK_IMP = user_hotness['imp'] >= THRESHOLD\n",
        "imp_over_threshold = user_hotness[MASK_IMP]"
      ],
      "metadata": {
        "id": "xXNOeB7sUjGW"
      },
      "execution_count": null,
      "outputs": []
    },
    {
      "cell_type": "code",
      "source": [
        "print(\"Imp가 {} 이상인, 유저의 비율 : {:.2f}%\".format(THRESHOLD, len(imp_over_threshold) / len(user_hotness) * 100))"
      ],
      "metadata": {
        "id": "lClHU1Y844Gn"
      },
      "execution_count": null,
      "outputs": []
    },
    {
      "cell_type": "code",
      "source": [
        "print(\"Imp가 {} 이상인 유저 내에서의 통계\".format(THRESHOLD))\n",
        "\n",
        "# 1. ratio = 0, click = 0\n",
        "MASK1 = imp_over_threshold['ratio_binned'] ==  pd.Interval(left=-1.0, right=0.0)\n",
        "click_zero = imp_over_threshold[MASK1]\n",
        "print(\"Click = 0, Ratio = 0 인 유저의 비율 : {:.2f}%\".format(len(click_zero) / len(imp_over_threshold) * 100))\n",
        "\n",
        "# 2. 0 < Ratio <= 0.5\n",
        "MASK2 = (imp_over_threshold['ratio'] > 0) & (imp_over_threshold['ratio'] <= 0.5)\n",
        "ratio_mid = imp_over_threshold[MASK2]\n",
        "print(\"0 < Ratio <= 0.5 인 유저의 비율 : {:.2f}%\".format(len(ratio_mid) / len(imp_over_threshold) * 100))\n",
        "\n",
        "# 3. Ratio > 0.5\n",
        "MASK3 = imp_over_threshold['ratio'] > 0.5\n",
        "ratio_high = imp_over_threshold[MASK3]\n",
        "print(\"Ratio > 0.5 인 유저의 비율 : {:.2f}%\".format(len(ratio_high) / len(imp_over_threshold) * 100))"
      ],
      "metadata": {
        "id": "fuOBw9-tgfY6"
      },
      "execution_count": null,
      "outputs": []
    },
    {
      "cell_type": "code",
      "source": [
        "user_hotness['Hotness'] = [None] * len(user_hotness)"
      ],
      "metadata": {
        "id": "41XL7eZjhqVZ"
      },
      "execution_count": null,
      "outputs": []
    },
    {
      "cell_type": "code",
      "source": [
        "MASK1 = (user_hotness['imp'] >= THRESHOLD) & (user_hotness['click'] == 0)\n",
        "MASK2 = (user_hotness['imp'] >= THRESHOLD) & (user_hotness['ratio'] > 0) & (user_hotness['ratio'] <= 0.5)\n",
        "MASK3 = (user_hotness['imp'] >= THRESHOLD) & (user_hotness['ratio'] > 0.5)"
      ],
      "metadata": {
        "id": "yLN5CkSDBpnp"
      },
      "execution_count": null,
      "outputs": []
    },
    {
      "cell_type": "code",
      "source": [
        "user_hotness.loc[~MASK_IMP, 'Hotness'] = 'New'\n",
        "user_hotness.loc[MASK1, 'Hotness'] = 'Zero'\n",
        "user_hotness.loc[MASK2, 'Hotness'] = 'Mid'\n",
        "user_hotness.loc[MASK3, 'Hotness'] = 'High'"
      ],
      "metadata": {
        "id": "ly1FxY7_AqzT"
      },
      "execution_count": null,
      "outputs": []
    },
    {
      "cell_type": "code",
      "source": [
        "(user_hotness.value_counts('Hotness', normalize=True)*100).apply('{:.2f}'.format)"
      ],
      "metadata": {
        "id": "m88z1KHvAyk9"
      },
      "execution_count": null,
      "outputs": []
    },
    {
      "cell_type": "code",
      "source": [
        "USER_HOTNESS_FILE_PATH = '/content/drive/MyDrive/ctr/avazu/processed/train/user_hotness.csv'\n",
        "user_hotness.to_csv(USER_HOTNESS_FILE_PATH, index=False)"
      ],
      "metadata": {
        "id": "pviLp2TOA6Zs"
      },
      "execution_count": null,
      "outputs": []
    },
    {
      "cell_type": "code",
      "source": [],
      "metadata": {
        "id": "jvQO7z3OX3eS"
      },
      "execution_count": null,
      "outputs": []
    }
  ]
}