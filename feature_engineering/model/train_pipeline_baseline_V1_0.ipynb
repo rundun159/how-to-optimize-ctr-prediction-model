{
  "cells": [
    {
      "cell_type": "code",
      "execution_count": null,
      "metadata": {
        "id": "UiV_OVyOy8vL"
      },
      "outputs": [],
      "source": [
        "!pip install -q tensorflow-recommenders\n",
        "!pip install -q --upgrade tensorflow-datasets"
      ]
    },
    {
      "cell_type": "code",
      "execution_count": null,
      "metadata": {
        "id": "d873gYbD0CGF"
      },
      "outputs": [],
      "source": [
        "import pprint\n",
        "\n",
        "%matplotlib inline\n",
        "import matplotlib.pyplot as plt\n",
        "from mpl_toolkits.axes_grid1 import make_axes_locatable\n",
        "\n",
        "import numpy as np\n",
        "import tensorflow as tf\n",
        "import tensorflow_datasets as tfds\n",
        "\n",
        "import tensorflow_recommenders as tfrs"
      ]
    },
    {
      "cell_type": "code",
      "execution_count": null,
      "metadata": {
        "id": "8oRrlXZI0ETP"
      },
      "outputs": [],
      "source": [
        "# import packages\n",
        "import pandas as pd\n",
        "import seaborn as sns\n",
        "import matplotlib.pyplot as plt\n",
        "import random\n",
        "import sys\n",
        "import csv\n",
        "import gzip\n",
        "import copy\n",
        "import datetime\n",
        "import pickle\n",
        "from sklearn import metrics\n",
        "from tabulate import tabulate"
      ]
    },
    {
      "cell_type": "code",
      "execution_count": null,
      "metadata": {
        "id": "tIqMLfCl0K2k"
      },
      "outputs": [],
      "source": [
        "seed_value = 42  # seed for reproducibility\n",
        "random.seed(seed_value)"
      ]
    },
    {
      "cell_type": "code",
      "execution_count": null,
      "metadata": {
        "colab": {
          "base_uri": "https://localhost:8080/"
        },
        "id": "mtzzM19O0ZKB",
        "outputId": "9afc2632-cf31-4263-9b8f-fddf7fefb0b5"
      },
      "outputs": [
        {
          "name": "stdout",
          "output_type": "stream",
          "text": [
            "Drive already mounted at /content/drive; to attempt to forcibly remount, call drive.mount(\"/content/drive\", force_remount=True).\n"
          ]
        }
      ],
      "source": [
        "from google.colab import drive\n",
        "drive.mount('/content/drive')"
      ]
    },
    {
      "cell_type": "code",
      "execution_count": null,
      "metadata": {
        "id": "l_8Fpg8C9LZS"
      },
      "outputs": [],
      "source": [
        "sys.path.append('/content/drive/MyDrive/ctr/code/model')"
      ]
    },
    {
      "cell_type": "code",
      "execution_count": null,
      "metadata": {
        "id": "DEaL_7Vy9YD2"
      },
      "outputs": [],
      "source": [
        "import dcn\n",
        "import run_models"
      ]
    },
    {
      "cell_type": "code",
      "execution_count": null,
      "metadata": {
        "id": "PR_SHlAlw3NJ"
      },
      "outputs": [],
      "source": [
        "BATCH_SIZE = 100000\n",
        "SHUFFLE_BUFFER_SIZE = 10000\n",
        "SHUFFLE_SEED = 42\n",
        "DATASET_EPOCHS = 1\n",
        "FITTING_EPOCHS = 50\n",
        "LEARNING_RATE = 0.0001\n",
        "DCN_PARALLEL = True\n",
        "STR_COLUMNS = [\n",
        "    'click', 'banner_pos',\n",
        "    'site_id', 'site_domain', 'site_category',\n",
        "    'app_id', 'app_domain', 'app_category',\n",
        "    'device_id', 'device_ip', 'device_model', 'device_type', 'device_conn_type',\n",
        "    'C1', 'C14', 'C15', 'C16', 'C17', 'C18', 'C19', 'C20', 'C21',\n",
        "    'day_of_week'\n",
        "    ]\n",
        "INT_COLUMNS = [\n",
        "    'hour_of_day'\n",
        "]\n",
        "COLUMN_DEFAULTS = [tf.string] * (len(STR_COLUMNS) -1) + [tf.float32] * len(INT_COLUMNS) + [tf.string] * 1"
      ]
    },
    {
      "cell_type": "code",
      "execution_count": null,
      "metadata": {
        "id": "gIoZoTFOSxbt"
      },
      "outputs": [],
      "source": [
        "# column_defaults를 원본 CSV File의 Column 순서로 인식한다"
      ]
    },
    {
      "cell_type": "code",
      "execution_count": null,
      "metadata": {
        "id": "AMmCSs0MxEBN"
      },
      "outputs": [],
      "source": [
        "TRAIN_FILE = '/content/drive/MyDrive/ctr/avazu/processed/train/train.csv'\n",
        "train_batches = tf.data.experimental.make_csv_dataset(\n",
        "    TRAIN_FILE,\n",
        "    batch_size=BATCH_SIZE,\n",
        "    select_columns= STR_COLUMNS + INT_COLUMNS,\n",
        "    column_defaults=COLUMN_DEFAULTS,\n",
        "    shuffle=True, shuffle_buffer_size=SHUFFLE_BUFFER_SIZE, shuffle_seed=SHUFFLE_SEED,\n",
        "    num_epochs=DATASET_EPOCHS\n",
        ")"
      ]
    },
    {
      "cell_type": "code",
      "execution_count": null,
      "metadata": {
        "id": "JV6KkFW_7TMC"
      },
      "outputs": [],
      "source": [
        "TEST_FILE = '/content/drive/MyDrive/ctr/avazu/processed/train/test.csv'\n",
        "test = tf.data.experimental.make_csv_dataset(\n",
        "    TEST_FILE,\n",
        "    batch_size=BATCH_SIZE,\n",
        "    select_columns= STR_COLUMNS + INT_COLUMNS,\n",
        "    column_defaults=COLUMN_DEFAULTS,\n",
        "    num_epochs=DATASET_EPOCHS\n",
        ")"
      ]
    },
    {
      "cell_type": "code",
      "execution_count": null,
      "metadata": {
        "id": "Y6RrztcX7q25"
      },
      "outputs": [],
      "source": [
        "with open('/content/drive/MyDrive/ctr/avazu/processed/train/vocabularies.p', 'rb') as f:\n",
        "    total_voca = pickle.load(f)"
      ]
    },
    {
      "cell_type": "code",
      "execution_count": null,
      "metadata": {
        "id": "VoLF_VKb7_pj"
      },
      "outputs": [],
      "source": [
        "FEATURE_ENGINEERING = {\n",
        "    'embedding' : [\n",
        "        'site_id', 'site_domain', 'site_category',\n",
        "        'app_id', 'app_domain', 'app_category',\n",
        "        'device_model', 'device_type',\n",
        "        'C1', 'C14', 'C15', 'C16', 'C17', 'C18', 'C19', 'C20', 'C21',\n",
        "        'day_of_week'\n",
        "    ]\n",
        "}"
      ]
    },
    {
      "cell_type": "code",
      "execution_count": null,
      "metadata": {
        "id": "f8LTV5xoAMOn"
      },
      "outputs": [],
      "source": [
        "vocabularies = {}\n",
        "\n",
        "vocabularies['embedding'] = {}\n",
        "for feature in FEATURE_ENGINEERING['embedding']:\n",
        "    vocabularies['embedding'][feature] = total_voca[feature]"
      ]
    },
    {
      "cell_type": "code",
      "execution_count": null,
      "metadata": {
        "id": "H7w75Z08GPlO"
      },
      "outputs": [],
      "source": [
        "str_features = list(vocabularies['embedding'].keys())\n",
        "int_features = ['hour_of_day']"
      ]
    },
    {
      "cell_type": "code",
      "execution_count": null,
      "metadata": {
        "id": "Osk4pWksIncf"
      },
      "outputs": [],
      "source": [
        "nodes = [32, 64, 128, 256, 512, 1024]\n",
        "deep_layers = [1, 2, 3, 4, 5]\n",
        "cross_layers = [1, 2, 3, 4, 5, 6]\n",
        "result_dict = {}"
      ]
    },
    {
      "cell_type": "code",
      "execution_count": null,
      "metadata": {
        "id": "Y264Xnlke8BW"
      },
      "outputs": [],
      "source": [
        "import warnings\n",
        "warnings.filterwarnings(action='ignore')"
      ]
    },
    {
      "cell_type": "code",
      "execution_count": null,
      "metadata": {
        "id": "27xdQUl0fwpM"
      },
      "outputs": [],
      "source": [
        "for engineering_method, voca_set in vocabularies.items():\n",
        "    for feature, voca in voca_set.items():\n",
        "        vocabularies[engineering_method][feature] = list(map(str, voca))"
      ]
    },
    {
      "cell_type": "code",
      "execution_count": null,
      "metadata": {
        "id": "E6RaTOb03hc8"
      },
      "outputs": [],
      "source": [
        "HISTORY_FILE_DIR = '/content/drive/MyDrive/ctr/data/baseline/'\n",
        "HISTORY_FILE_NAME = 'fitting_history.V1.0'"
      ]
    },
    {
      "cell_type": "code",
      "execution_count": null,
      "metadata": {
        "id": "xqYdN7404DJW"
      },
      "outputs": [],
      "source": [
        "CHECKPOINTS_DIR = '/content/drive/MyDrive/ctr/data/baseline/'\n",
        "CHECKPOINTS_NAME = 'checkpoints.V1.0'"
      ]
    },
    {
      "cell_type": "code",
      "execution_count": null,
      "metadata": {
        "colab": {
          "background_save": true,
          "base_uri": "https://localhost:8080/"
        },
        "id": "R0Tn0IVVBLLV",
        "outputId": "f5c256f4-adb1-4db6-ac9e-c8d6ae208e95"
      },
      "outputs": [
        {
          "name": "stdout",
          "output_type": "stream",
          "text": [
            "Node: 1024, Deep Layer : 4, Cross Layer : 1\n",
            "\u001b[1m363/363\u001b[0m \u001b[32m━━━━━━━━━━━━━━━━━━━━\u001b[0m\u001b[37m\u001b[0m \u001b[1m944s\u001b[0m 3s/step - AUC: 0.5942 - LogLoss: 0.5121 - loss: 0.4895 - regularization_loss: 0.0000e+00 - total_loss: 0.4895\n",
            "\u001b[1m43/43\u001b[0m \u001b[32m━━━━━━━━━━━━━━━━━━━━\u001b[0m\u001b[37m\u001b[0m \u001b[1m112s\u001b[0m 3s/step - AUC: 0.6812 - LogLoss: 0.4412 - loss: 0.4721 - regularization_loss: 0.0000e+00 - total_loss: 0.4721\n",
            "1th Epoch\n",
            "\u001b[1m363/363\u001b[0m \u001b[32m━━━━━━━━━━━━━━━━━━━━\u001b[0m\u001b[37m\u001b[0m \u001b[1m1002s\u001b[0m 3s/step - AUC: 0.6875 - LogLoss: 0.4307 - loss: 0.4257 - regularization_loss: 0.0000e+00 - total_loss: 0.4257\n",
            "\u001b[1m43/43\u001b[0m \u001b[32m━━━━━━━━━━━━━━━━━━━━\u001b[0m\u001b[37m\u001b[0m \u001b[1m126s\u001b[0m 3s/step - AUC: 0.7173 - LogLoss: 0.4256 - loss: 0.4500 - regularization_loss: 0.0000e+00 - total_loss: 0.4500\n",
            "\u001b[1m363/363\u001b[0m \u001b[32m━━━━━━━━━━━━━━━━━━━━\u001b[0m\u001b[37m\u001b[0m \u001b[1m1099s\u001b[0m 3s/step - AUC: 0.7271 - LogLoss: 0.4138 - loss: 0.4117 - regularization_loss: 0.0000e+00 - total_loss: 0.4117\n",
            "\u001b[1m43/43\u001b[0m \u001b[32m━━━━━━━━━━━━━━━━━━━━\u001b[0m\u001b[37m\u001b[0m \u001b[1m130s\u001b[0m 3s/step - AUC: 0.7278 - LogLoss: 0.4050 - loss: 0.4258 - regularization_loss: 0.0000e+00 - total_loss: 0.4258\n",
            "\u001b[1m363/363\u001b[0m \u001b[32m━━━━━━━━━━━━━━━━━━━━\u001b[0m\u001b[37m\u001b[0m \u001b[1m1111s\u001b[0m 3s/step - AUC: 0.7269 - LogLoss: 0.4112 - loss: 0.4099 - regularization_loss: 0.0000e+00 - total_loss: 0.4099\n",
            "\u001b[1m43/43\u001b[0m \u001b[32m━━━━━━━━━━━━━━━━━━━━\u001b[0m\u001b[37m\u001b[0m \u001b[1m129s\u001b[0m 3s/step - AUC: 0.7307 - LogLoss: 0.4049 - loss: 0.4223 - regularization_loss: 0.0000e+00 - total_loss: 0.4223\n",
            "\u001b[1m363/363\u001b[0m \u001b[32m━━━━━━━━━━━━━━━━━━━━\u001b[0m\u001b[37m\u001b[0m \u001b[1m1044s\u001b[0m 3s/step - AUC: 0.7355 - LogLoss: 0.4076 - loss: 0.4076 - regularization_loss: 0.0000e+00 - total_loss: 0.4076\n",
            "\u001b[1m43/43\u001b[0m \u001b[32m━━━━━━━━━━━━━━━━━━━━\u001b[0m\u001b[37m\u001b[0m \u001b[1m114s\u001b[0m 3s/step - AUC: 0.7340 - LogLoss: 0.4009 - loss: 0.4275 - regularization_loss: 0.0000e+00 - total_loss: 0.4275\n",
            "\u001b[1m363/363\u001b[0m \u001b[32m━━━━━━━━━━━━━━━━━━━━\u001b[0m\u001b[37m\u001b[0m \u001b[1m958s\u001b[0m 3s/step - AUC: 0.7411 - LogLoss: 0.4040 - loss: 0.4017 - regularization_loss: 0.0000e+00 - total_loss: 0.4017\n",
            "\u001b[1m43/43\u001b[0m \u001b[32m━━━━━━━━━━━━━━━━━━━━\u001b[0m\u001b[37m\u001b[0m \u001b[1m111s\u001b[0m 3s/step - AUC: 0.7370 - LogLoss: 0.3978 - loss: 0.4118 - regularization_loss: 0.0000e+00 - total_loss: 0.4118\n",
            "\u001b[1m363/363\u001b[0m \u001b[32m━━━━━━━━━━━━━━━━━━━━\u001b[0m\u001b[37m\u001b[0m \u001b[1m964s\u001b[0m 3s/step - AUC: 0.7379 - LogLoss: 0.4054 - loss: 0.4039 - regularization_loss: 0.0000e+00 - total_loss: 0.4039\n",
            "\u001b[1m43/43\u001b[0m \u001b[32m━━━━━━━━━━━━━━━━━━━━\u001b[0m\u001b[37m\u001b[0m \u001b[1m114s\u001b[0m 3s/step - AUC: 0.7355 - LogLoss: 0.3972 - loss: 0.4118 - regularization_loss: 0.0000e+00 - total_loss: 0.4118\n",
            "\u001b[1m363/363\u001b[0m \u001b[32m━━━━━━━━━━━━━━━━━━━━\u001b[0m\u001b[37m\u001b[0m \u001b[1m978s\u001b[0m 3s/step - AUC: 0.7440 - LogLoss: 0.4017 - loss: 0.3996 - regularization_loss: 0.0000e+00 - total_loss: 0.3996\n",
            "\u001b[1m43/43\u001b[0m \u001b[32m━━━━━━━━━━━━━━━━━━━━\u001b[0m\u001b[37m\u001b[0m \u001b[1m114s\u001b[0m 3s/step - AUC: 0.7391 - LogLoss: 0.3970 - loss: 0.4112 - regularization_loss: 0.0000e+00 - total_loss: 0.4112\n",
            "\u001b[1m363/363\u001b[0m \u001b[32m━━━━━━━━━━━━━━━━━━━━\u001b[0m\u001b[37m\u001b[0m \u001b[1m978s\u001b[0m 3s/step - AUC: 0.7420 - LogLoss: 0.4027 - loss: 0.4021 - regularization_loss: 0.0000e+00 - total_loss: 0.4021\n",
            "\u001b[1m43/43\u001b[0m \u001b[32m━━━━━━━━━━━━━━━━━━━━\u001b[0m\u001b[37m\u001b[0m \u001b[1m114s\u001b[0m 3s/step - AUC: 0.7400 - LogLoss: 0.3950 - loss: 0.4067 - regularization_loss: 0.0000e+00 - total_loss: 0.4067\n",
            "\u001b[1m363/363\u001b[0m \u001b[32m━━━━━━━━━━━━━━━━━━━━\u001b[0m\u001b[37m\u001b[0m \u001b[1m958s\u001b[0m 3s/step - AUC: 0.7457 - LogLoss: 0.4004 - loss: 0.4024 - regularization_loss: 0.0000e+00 - total_loss: 0.4024\n",
            "\u001b[1m43/43\u001b[0m \u001b[32m━━━━━━━━━━━━━━━━━━━━\u001b[0m\u001b[37m\u001b[0m \u001b[1m112s\u001b[0m 3s/step - AUC: 0.7224 - LogLoss: 0.4060 - loss: 0.4164 - regularization_loss: 0.0000e+00 - total_loss: 0.4164\n",
            "\u001b[1m363/363\u001b[0m \u001b[32m━━━━━━━━━━━━━━━━━━━━\u001b[0m\u001b[37m\u001b[0m \u001b[1m975s\u001b[0m 3s/step - AUC: 0.7390 - LogLoss: 0.4047 - loss: 0.4007 - regularization_loss: 0.0000e+00 - total_loss: 0.4007\n",
            "\u001b[1m43/43\u001b[0m \u001b[32m━━━━━━━━━━━━━━━━━━━━\u001b[0m\u001b[37m\u001b[0m \u001b[1m118s\u001b[0m 3s/step - AUC: 0.7390 - LogLoss: 0.4002 - loss: 0.4089 - regularization_loss: 0.0000e+00 - total_loss: 0.4089\n",
            "11th Epoch\n",
            "\u001b[1m363/363\u001b[0m \u001b[32m━━━━━━━━━━━━━━━━━━━━\u001b[0m\u001b[37m\u001b[0m \u001b[1m997s\u001b[0m 3s/step - AUC: 0.7408 - LogLoss: 0.4034 - loss: 0.4009 - regularization_loss: 0.0000e+00 - total_loss: 0.4009\n",
            "\u001b[1m43/43\u001b[0m \u001b[32m━━━━━━━━━━━━━━━━━━━━\u001b[0m\u001b[37m\u001b[0m \u001b[1m116s\u001b[0m 3s/step - AUC: 0.7301 - LogLoss: 0.4049 - loss: 0.4101 - regularization_loss: 0.0000e+00 - total_loss: 0.4101\n",
            "\u001b[1m363/363\u001b[0m \u001b[32m━━━━━━━━━━━━━━━━━━━━\u001b[0m\u001b[37m\u001b[0m \u001b[1m996s\u001b[0m 3s/step - AUC: 0.7455 - LogLoss: 0.4018 - loss: 0.3978 - regularization_loss: 0.0000e+00 - total_loss: 0.3978\n",
            "\u001b[1m43/43\u001b[0m \u001b[32m━━━━━━━━━━━━━━━━━━━━\u001b[0m\u001b[37m\u001b[0m \u001b[1m116s\u001b[0m 3s/step - AUC: 0.7434 - LogLoss: 0.3918 - loss: 0.4047 - regularization_loss: 0.0000e+00 - total_loss: 0.4047\n",
            "\u001b[1m363/363\u001b[0m \u001b[32m━━━━━━━━━━━━━━━━━━━━\u001b[0m\u001b[37m\u001b[0m \u001b[1m996s\u001b[0m 3s/step - AUC: 0.7482 - LogLoss: 0.3989 - loss: 0.3966 - regularization_loss: 0.0000e+00 - total_loss: 0.3966\n",
            "\u001b[1m43/43\u001b[0m \u001b[32m━━━━━━━━━━━━━━━━━━━━\u001b[0m\u001b[37m\u001b[0m \u001b[1m116s\u001b[0m 3s/step - AUC: 0.7433 - LogLoss: 0.4022 - loss: 0.4152 - regularization_loss: 0.0000e+00 - total_loss: 0.4152\n",
            "\u001b[1m363/363\u001b[0m \u001b[32m━━━━━━━━━━━━━━━━━━━━\u001b[0m\u001b[37m\u001b[0m \u001b[1m989s\u001b[0m 3s/step - AUC: 0.7490 - LogLoss: 0.3987 - loss: 0.3960 - regularization_loss: 0.0000e+00 - total_loss: 0.3960\n",
            "\u001b[1m43/43\u001b[0m \u001b[32m━━━━━━━━━━━━━━━━━━━━\u001b[0m\u001b[37m\u001b[0m \u001b[1m116s\u001b[0m 3s/step - AUC: 0.7469 - LogLoss: 0.3942 - loss: 0.4056 - regularization_loss: 0.0000e+00 - total_loss: 0.4056\n",
            "\u001b[1m363/363\u001b[0m \u001b[32m━━━━━━━━━━━━━━━━━━━━\u001b[0m\u001b[37m\u001b[0m \u001b[1m987s\u001b[0m 3s/step - AUC: 0.7456 - LogLoss: 0.4008 - loss: 0.3972 - regularization_loss: 0.0000e+00 - total_loss: 0.3972\n",
            "\u001b[1m43/43\u001b[0m \u001b[32m━━━━━━━━━━━━━━━━━━━━\u001b[0m\u001b[37m\u001b[0m \u001b[1m115s\u001b[0m 3s/step - AUC: 0.7446 - LogLoss: 0.3959 - loss: 0.4040 - regularization_loss: 0.0000e+00 - total_loss: 0.4040\n",
            "\u001b[1m363/363\u001b[0m \u001b[32m━━━━━━━━━━━━━━━━━━━━\u001b[0m\u001b[37m\u001b[0m \u001b[1m990s\u001b[0m 3s/step - AUC: 0.7501 - LogLoss: 0.3979 - loss: 0.3952 - regularization_loss: 0.0000e+00 - total_loss: 0.3952\n",
            "\u001b[1m43/43\u001b[0m \u001b[32m━━━━━━━━━━━━━━━━━━━━\u001b[0m\u001b[37m\u001b[0m \u001b[1m115s\u001b[0m 3s/step - AUC: 0.7475 - LogLoss: 0.3913 - loss: 0.4053 - regularization_loss: 0.0000e+00 - total_loss: 0.4053\n",
            "\u001b[1m363/363\u001b[0m \u001b[32m━━━━━━━━━━━━━━━━━━━━\u001b[0m\u001b[37m\u001b[0m \u001b[1m989s\u001b[0m 3s/step - AUC: 0.7456 - LogLoss: 0.4000 - loss: 0.3970 - regularization_loss: 0.0000e+00 - total_loss: 0.3970\n",
            "\u001b[1m43/43\u001b[0m \u001b[32m━━━━━━━━━━━━━━━━━━━━\u001b[0m\u001b[37m\u001b[0m \u001b[1m118s\u001b[0m 3s/step - AUC: 0.7475 - LogLoss: 0.3926 - loss: 0.4102 - regularization_loss: 0.0000e+00 - total_loss: 0.4102\n",
            "\u001b[1m363/363\u001b[0m \u001b[32m━━━━━━━━━━━━━━━━━━━━\u001b[0m\u001b[37m\u001b[0m \u001b[1m953s\u001b[0m 3s/step - AUC: 0.7501 - LogLoss: 0.3977 - loss: 0.3965 - regularization_loss: 0.0000e+00 - total_loss: 0.3965\n",
            "\u001b[1m43/43\u001b[0m \u001b[32m━━━━━━━━━━━━━━━━━━━━\u001b[0m\u001b[37m\u001b[0m \u001b[1m111s\u001b[0m 3s/step - AUC: 0.7459 - LogLoss: 0.4002 - loss: 0.4181 - regularization_loss: 0.0000e+00 - total_loss: 0.4181\n",
            "\u001b[1m363/363\u001b[0m \u001b[32m━━━━━━━━━━━━━━━━━━━━\u001b[0m\u001b[37m\u001b[0m \u001b[1m959s\u001b[0m 3s/step - AUC: 0.7515 - LogLoss: 0.3970 - loss: 0.3946 - regularization_loss: 0.0000e+00 - total_loss: 0.3946\n",
            "\u001b[1m43/43\u001b[0m \u001b[32m━━━━━━━━━━━━━━━━━━━━\u001b[0m\u001b[37m\u001b[0m \u001b[1m112s\u001b[0m 3s/step - AUC: 0.7484 - LogLoss: 0.3895 - loss: 0.4043 - regularization_loss: 0.0000e+00 - total_loss: 0.4043\n",
            "\u001b[1m363/363\u001b[0m \u001b[32m━━━━━━━━━━━━━━━━━━━━\u001b[0m\u001b[37m\u001b[0m \u001b[1m956s\u001b[0m 3s/step - AUC: 0.7523 - LogLoss: 0.3963 - loss: 0.3941 - regularization_loss: 0.0000e+00 - total_loss: 0.3941\n",
            "\u001b[1m43/43\u001b[0m \u001b[32m━━━━━━━━━━━━━━━━━━━━\u001b[0m\u001b[37m\u001b[0m \u001b[1m111s\u001b[0m 3s/step - AUC: 0.7493 - LogLoss: 0.3915 - loss: 0.4019 - regularization_loss: 0.0000e+00 - total_loss: 0.4019\n",
            "21th Epoch\n",
            "\u001b[1m363/363\u001b[0m \u001b[32m━━━━━━━━━━━━━━━━━━━━\u001b[0m\u001b[37m\u001b[0m \u001b[1m945s\u001b[0m 3s/step - AUC: 0.7523 - LogLoss: 0.3965 - loss: 0.3939 - regularization_loss: 0.0000e+00 - total_loss: 0.3939\n",
            "\u001b[1m43/43\u001b[0m \u001b[32m━━━━━━━━━━━━━━━━━━━━\u001b[0m\u001b[37m\u001b[0m \u001b[1m111s\u001b[0m 3s/step - AUC: 0.7504 - LogLoss: 0.3904 - loss: 0.4042 - regularization_loss: 0.0000e+00 - total_loss: 0.4042\n",
            "\u001b[1m363/363\u001b[0m \u001b[32m━━━━━━━━━━━━━━━━━━━━\u001b[0m\u001b[37m\u001b[0m \u001b[1m974s\u001b[0m 3s/step - AUC: 0.7536 - LogLoss: 0.3957 - loss: 0.3934 - regularization_loss: 0.0000e+00 - total_loss: 0.3934\n",
            "\u001b[1m43/43\u001b[0m \u001b[32m━━━━━━━━━━━━━━━━━━━━\u001b[0m\u001b[37m\u001b[0m \u001b[1m117s\u001b[0m 3s/step - AUC: 0.7497 - LogLoss: 0.3939 - loss: 0.4083 - regularization_loss: 0.0000e+00 - total_loss: 0.4083\n",
            "\u001b[1m363/363\u001b[0m \u001b[32m━━━━━━━━━━━━━━━━━━━━\u001b[0m\u001b[37m\u001b[0m \u001b[1m977s\u001b[0m 3s/step - AUC: 0.7533 - LogLoss: 0.3958 - loss: 0.3937 - regularization_loss: 0.0000e+00 - total_loss: 0.3937\n",
            "\u001b[1m43/43\u001b[0m \u001b[32m━━━━━━━━━━━━━━━━━━━━\u001b[0m\u001b[37m\u001b[0m \u001b[1m114s\u001b[0m 3s/step - AUC: 0.7509 - LogLoss: 0.3878 - loss: 0.4004 - regularization_loss: 0.0000e+00 - total_loss: 0.4004\n",
            "\u001b[1m363/363\u001b[0m \u001b[32m━━━━━━━━━━━━━━━━━━━━\u001b[0m\u001b[37m\u001b[0m \u001b[1m968s\u001b[0m 3s/step - AUC: 0.7464 - LogLoss: 0.3997 - loss: 0.4045 - regularization_loss: 0.0000e+00 - total_loss: 0.4045\n",
            "\u001b[1m43/43\u001b[0m \u001b[32m━━━━━━━━━━━━━━━━━━━━\u001b[0m\u001b[37m\u001b[0m \u001b[1m113s\u001b[0m 3s/step - AUC: 0.7410 - LogLoss: 0.5162 - loss: 0.4733 - regularization_loss: 0.0000e+00 - total_loss: 0.4733\n",
            "\u001b[1m363/363\u001b[0m \u001b[32m━━━━━━━━━━━━━━━━━━━━\u001b[0m\u001b[37m\u001b[0m \u001b[1m949s\u001b[0m 3s/step - AUC: 0.7423 - LogLoss: 0.4062 - loss: 0.3984 - regularization_loss: 0.0000e+00 - total_loss: 0.3984\n",
            "\u001b[1m43/43\u001b[0m \u001b[32m━━━━━━━━━━━━━━━━━━━━\u001b[0m\u001b[37m\u001b[0m \u001b[1m112s\u001b[0m 3s/step - AUC: 0.7451 - LogLoss: 0.4045 - loss: 0.4097 - regularization_loss: 0.0000e+00 - total_loss: 0.4097\n",
            "\u001b[1m363/363\u001b[0m \u001b[32m━━━━━━━━━━━━━━━━━━━━\u001b[0m\u001b[37m\u001b[0m \u001b[1m958s\u001b[0m 3s/step - AUC: 0.7474 - LogLoss: 0.4004 - loss: 0.3954 - regularization_loss: 0.0000e+00 - total_loss: 0.3954\n",
            "\u001b[1m43/43\u001b[0m \u001b[32m━━━━━━━━━━━━━━━━━━━━\u001b[0m\u001b[37m\u001b[0m \u001b[1m111s\u001b[0m 3s/step - AUC: 0.7489 - LogLoss: 0.3913 - loss: 0.4070 - regularization_loss: 0.0000e+00 - total_loss: 0.4070\n",
            "\u001b[1m363/363\u001b[0m \u001b[32m━━━━━━━━━━━━━━━━━━━━\u001b[0m\u001b[37m\u001b[0m \u001b[1m940s\u001b[0m 3s/step - AUC: 0.7524 - LogLoss: 0.3966 - loss: 0.3940 - regularization_loss: 0.0000e+00 - total_loss: 0.3940\n",
            "\u001b[1m43/43\u001b[0m \u001b[32m━━━━━━━━━━━━━━━━━━━━\u001b[0m\u001b[37m\u001b[0m \u001b[1m110s\u001b[0m 3s/step - AUC: 0.7490 - LogLoss: 0.3976 - loss: 0.4063 - regularization_loss: 0.0000e+00 - total_loss: 0.4063\n",
            "\u001b[1m363/363\u001b[0m \u001b[32m━━━━━━━━━━━━━━━━━━━━\u001b[0m\u001b[37m\u001b[0m \u001b[1m941s\u001b[0m 3s/step - AUC: 0.7507 - LogLoss: 0.3979 - loss: 0.3941 - regularization_loss: 0.0000e+00 - total_loss: 0.3941\n",
            "\u001b[1m43/43\u001b[0m \u001b[32m━━━━━━━━━━━━━━━━━━━━\u001b[0m\u001b[37m\u001b[0m \u001b[1m109s\u001b[0m 3s/step - AUC: 0.7496 - LogLoss: 0.3892 - loss: 0.4020 - regularization_loss: 0.0000e+00 - total_loss: 0.4020\n",
            "\u001b[1m363/363\u001b[0m \u001b[32m━━━━━━━━━━━━━━━━━━━━\u001b[0m\u001b[37m\u001b[0m \u001b[1m939s\u001b[0m 3s/step - AUC: 0.7541 - LogLoss: 0.3956 - loss: 0.3928 - regularization_loss: 0.0000e+00 - total_loss: 0.3928\n",
            "\u001b[1m43/43\u001b[0m \u001b[32m━━━━━━━━━━━━━━━━━━━━\u001b[0m\u001b[37m\u001b[0m \u001b[1m111s\u001b[0m 3s/step - AUC: 0.7497 - LogLoss: 0.3909 - loss: 0.4089 - regularization_loss: 0.0000e+00 - total_loss: 0.4089\n",
            "\u001b[1m363/363\u001b[0m \u001b[32m━━━━━━━━━━━━━━━━━━━━\u001b[0m\u001b[37m\u001b[0m \u001b[1m944s\u001b[0m 3s/step - AUC: 0.7544 - LogLoss: 0.3951 - loss: 0.3925 - regularization_loss: 0.0000e+00 - total_loss: 0.3925\n",
            "\u001b[1m43/43\u001b[0m \u001b[32m━━━━━━━━━━━━━━━━━━━━\u001b[0m\u001b[37m\u001b[0m \u001b[1m109s\u001b[0m 3s/step - AUC: 0.7500 - LogLoss: 0.3903 - loss: 0.4091 - regularization_loss: 0.0000e+00 - total_loss: 0.4091\n",
            "31th Epoch\n",
            "\u001b[1m363/363\u001b[0m \u001b[32m━━━━━━━━━━━━━━━━━━━━\u001b[0m\u001b[37m\u001b[0m \u001b[1m940s\u001b[0m 3s/step - AUC: 0.7555 - LogLoss: 0.3945 - loss: 0.3925 - regularization_loss: 0.0000e+00 - total_loss: 0.3925\n",
            "\u001b[1m43/43\u001b[0m \u001b[32m━━━━━━━━━━━━━━━━━━━━\u001b[0m\u001b[37m\u001b[0m \u001b[1m111s\u001b[0m 3s/step - AUC: 0.7489 - LogLoss: 0.4287 - loss: 0.4298 - regularization_loss: 0.0000e+00 - total_loss: 0.4298\n",
            "\u001b[1m363/363\u001b[0m \u001b[32m━━━━━━━━━━━━━━━━━━━━\u001b[0m\u001b[37m\u001b[0m \u001b[1m942s\u001b[0m 3s/step - AUC: 0.7538 - LogLoss: 0.3969 - loss: 0.3931 - regularization_loss: 0.0000e+00 - total_loss: 0.3931\n",
            "\u001b[1m43/43\u001b[0m \u001b[32m━━━━━━━━━━━━━━━━━━━━\u001b[0m\u001b[37m\u001b[0m \u001b[1m111s\u001b[0m 3s/step - AUC: 0.7472 - LogLoss: 0.3952 - loss: 0.4166 - regularization_loss: 0.0000e+00 - total_loss: 0.4166\n",
            "\u001b[1m363/363\u001b[0m \u001b[32m━━━━━━━━━━━━━━━━━━━━\u001b[0m\u001b[37m\u001b[0m \u001b[1m947s\u001b[0m 3s/step - AUC: 0.7547 - LogLoss: 0.3953 - loss: 0.3923 - regularization_loss: 0.0000e+00 - total_loss: 0.3923\n",
            "\u001b[1m43/43\u001b[0m \u001b[32m━━━━━━━━━━━━━━━━━━━━\u001b[0m\u001b[37m\u001b[0m \u001b[1m111s\u001b[0m 3s/step - AUC: 0.7492 - LogLoss: 0.3896 - loss: 0.4025 - regularization_loss: 0.0000e+00 - total_loss: 0.4025\n",
            "\u001b[1m363/363\u001b[0m \u001b[32m━━━━━━━━━━━━━━━━━━━━\u001b[0m\u001b[37m\u001b[0m \u001b[1m950s\u001b[0m 3s/step - AUC: 0.7550 - LogLoss: 0.3951 - loss: 0.3923 - regularization_loss: 0.0000e+00 - total_loss: 0.3923\n",
            "\u001b[1m43/43\u001b[0m \u001b[32m━━━━━━━━━━━━━━━━━━━━\u001b[0m\u001b[37m\u001b[0m \u001b[1m113s\u001b[0m 3s/step - AUC: 0.7506 - LogLoss: 0.4014 - loss: 0.4166 - regularization_loss: 0.0000e+00 - total_loss: 0.4166\n",
            "\u001b[1m363/363\u001b[0m \u001b[32m━━━━━━━━━━━━━━━━━━━━\u001b[0m\u001b[37m\u001b[0m \u001b[1m954s\u001b[0m 3s/step - AUC: 0.7522 - LogLoss: 0.3970 - loss: 0.3941 - regularization_loss: 0.0000e+00 - total_loss: 0.3941\n",
            "\u001b[1m43/43\u001b[0m \u001b[32m━━━━━━━━━━━━━━━━━━━━\u001b[0m\u001b[37m\u001b[0m \u001b[1m111s\u001b[0m 3s/step - AUC: 0.7487 - LogLoss: 0.4024 - loss: 0.4159 - regularization_loss: 0.0000e+00 - total_loss: 0.4159\n",
            "\u001b[1m363/363\u001b[0m \u001b[32m━━━━━━━━━━━━━━━━━━━━\u001b[0m\u001b[37m\u001b[0m \u001b[1m1003s\u001b[0m 3s/step - AUC: 0.7558 - LogLoss: 0.3951 - loss: 0.3927 - regularization_loss: 0.0000e+00 - total_loss: 0.3927\n",
            "\u001b[1m43/43\u001b[0m \u001b[32m━━━━━━━━━━━━━━━━━━━━\u001b[0m\u001b[37m\u001b[0m \u001b[1m114s\u001b[0m 3s/step - AUC: 0.7504 - LogLoss: 0.3936 - loss: 0.4162 - regularization_loss: 0.0000e+00 - total_loss: 0.4162\n",
            "\u001b[1m363/363\u001b[0m \u001b[32m━━━━━━━━━━━━━━━━━━━━\u001b[0m\u001b[37m\u001b[0m \u001b[1m967s\u001b[0m 3s/step - AUC: 0.7568 - LogLoss: 0.3939 - loss: 0.3916 - regularization_loss: 0.0000e+00 - total_loss: 0.3916\n",
            "\u001b[1m43/43\u001b[0m \u001b[32m━━━━━━━━━━━━━━━━━━━━\u001b[0m\u001b[37m\u001b[0m \u001b[1m112s\u001b[0m 3s/step - AUC: 0.7507 - LogLoss: 0.3909 - loss: 0.4157 - regularization_loss: 0.0000e+00 - total_loss: 0.4157\n",
            "\u001b[1m363/363\u001b[0m \u001b[32m━━━━━━━━━━━━━━━━━━━━\u001b[0m\u001b[37m\u001b[0m \u001b[1m960s\u001b[0m 3s/step - AUC: 0.7568 - LogLoss: 0.3939 - loss: 0.3914 - regularization_loss: 0.0000e+00 - total_loss: 0.3914\n",
            "\u001b[1m43/43\u001b[0m \u001b[32m━━━━━━━━━━━━━━━━━━━━\u001b[0m\u001b[37m\u001b[0m \u001b[1m111s\u001b[0m 3s/step - AUC: 0.7506 - LogLoss: 0.3938 - loss: 0.4165 - regularization_loss: 0.0000e+00 - total_loss: 0.4165\n",
            "\u001b[1m363/363\u001b[0m \u001b[32m━━━━━━━━━━━━━━━━━━━━\u001b[0m\u001b[37m\u001b[0m \u001b[1m948s\u001b[0m 3s/step - AUC: 0.7577 - LogLoss: 0.3934 - loss: 0.3911 - regularization_loss: 0.0000e+00 - total_loss: 0.3911\n",
            "\u001b[1m43/43\u001b[0m \u001b[32m━━━━━━━━━━━━━━━━━━━━\u001b[0m\u001b[37m\u001b[0m \u001b[1m111s\u001b[0m 3s/step - AUC: 0.7517 - LogLoss: 0.3901 - loss: 0.4123 - regularization_loss: 0.0000e+00 - total_loss: 0.4123\n",
            "\u001b[1m363/363\u001b[0m \u001b[32m━━━━━━━━━━━━━━━━━━━━\u001b[0m\u001b[37m\u001b[0m \u001b[1m946s\u001b[0m 3s/step - AUC: 0.7536 - LogLoss: 0.3959 - loss: 0.3950 - regularization_loss: 0.0000e+00 - total_loss: 0.3950\n",
            "\u001b[1m43/43\u001b[0m \u001b[32m━━━━━━━━━━━━━━━━━━━━\u001b[0m\u001b[37m\u001b[0m \u001b[1m112s\u001b[0m 3s/step - AUC: 0.7486 - LogLoss: 0.4073 - loss: 0.4354 - regularization_loss: 0.0000e+00 - total_loss: 0.4354\n",
            "41th Epoch\n",
            "\u001b[1m363/363\u001b[0m \u001b[32m━━━━━━━━━━━━━━━━━━━━\u001b[0m\u001b[37m\u001b[0m \u001b[1m944s\u001b[0m 3s/step - AUC: 0.7560 - LogLoss: 0.3948 - loss: 0.3920 - regularization_loss: 0.0000e+00 - total_loss: 0.3920\n",
            "\u001b[1m43/43\u001b[0m \u001b[32m━━━━━━━━━━━━━━━━━━━━\u001b[0m\u001b[37m\u001b[0m \u001b[1m111s\u001b[0m 3s/step - AUC: 0.7517 - LogLoss: 0.3893 - loss: 0.4087 - regularization_loss: 0.0000e+00 - total_loss: 0.4087\n",
            "\u001b[1m363/363\u001b[0m \u001b[32m━━━━━━━━━━━━━━━━━━━━\u001b[0m\u001b[37m\u001b[0m \u001b[1m946s\u001b[0m 3s/step - AUC: 0.7581 - LogLoss: 0.3933 - loss: 0.3910 - regularization_loss: 0.0000e+00 - total_loss: 0.3910\n",
            "\u001b[1m43/43\u001b[0m \u001b[32m━━━━━━━━━━━━━━━━━━━━\u001b[0m\u001b[37m\u001b[0m \u001b[1m110s\u001b[0m 3s/step - AUC: 0.7515 - LogLoss: 0.3930 - loss: 0.4184 - regularization_loss: 0.0000e+00 - total_loss: 0.4184\n",
            "\u001b[1m363/363\u001b[0m \u001b[32m━━━━━━━━━━━━━━━━━━━━\u001b[0m\u001b[37m\u001b[0m \u001b[1m935s\u001b[0m 3s/step - AUC: 0.7588 - LogLoss: 0.3927 - loss: 0.3916 - regularization_loss: 0.0000e+00 - total_loss: 0.3916\n",
            "\u001b[1m43/43\u001b[0m \u001b[32m━━━━━━━━━━━━━━━━━━━━\u001b[0m\u001b[37m\u001b[0m \u001b[1m108s\u001b[0m 3s/step - AUC: 0.7423 - LogLoss: 0.3937 - loss: 0.4086 - regularization_loss: 0.0000e+00 - total_loss: 0.4086\n",
            "\u001b[1m363/363\u001b[0m \u001b[32m━━━━━━━━━━━━━━━━━━━━\u001b[0m\u001b[37m\u001b[0m \u001b[1m929s\u001b[0m 3s/step - AUC: 0.7526 - LogLoss: 0.3975 - loss: 0.3940 - regularization_loss: 0.0000e+00 - total_loss: 0.3940\n",
            "\u001b[1m43/43\u001b[0m \u001b[32m━━━━━━━━━━━━━━━━━━━━\u001b[0m\u001b[37m\u001b[0m \u001b[1m110s\u001b[0m 3s/step - AUC: 0.7438 - LogLoss: 0.3943 - loss: 0.4154 - regularization_loss: 0.0000e+00 - total_loss: 0.4154\n",
            "\u001b[1m363/363\u001b[0m \u001b[32m━━━━━━━━━━━━━━━━━━━━\u001b[0m\u001b[37m\u001b[0m \u001b[1m996s\u001b[0m 3s/step - AUC: 0.7571 - LogLoss: 0.3941 - loss: 0.3912 - regularization_loss: 0.0000e+00 - total_loss: 0.3912\n",
            "\u001b[1m43/43\u001b[0m \u001b[32m━━━━━━━━━━━━━━━━━━━━\u001b[0m\u001b[37m\u001b[0m \u001b[1m114s\u001b[0m 3s/step - AUC: 0.7506 - LogLoss: 0.3946 - loss: 0.4193 - regularization_loss: 0.0000e+00 - total_loss: 0.4193\n",
            "\u001b[1m363/363\u001b[0m \u001b[32m━━━━━━━━━━━━━━━━━━━━\u001b[0m\u001b[37m\u001b[0m \u001b[1m979s\u001b[0m 3s/step - AUC: 0.7584 - LogLoss: 0.3936 - loss: 0.3907 - regularization_loss: 0.0000e+00 - total_loss: 0.3907\n",
            "\u001b[1m43/43\u001b[0m \u001b[32m━━━━━━━━━━━━━━━━━━━━\u001b[0m\u001b[37m\u001b[0m \u001b[1m118s\u001b[0m 3s/step - AUC: 0.7512 - LogLoss: 0.3951 - loss: 0.4178 - regularization_loss: 0.0000e+00 - total_loss: 0.4178\n",
            "\u001b[1m363/363\u001b[0m \u001b[32m━━━━━━━━━━━━━━━━━━━━\u001b[0m\u001b[37m\u001b[0m \u001b[1m1051s\u001b[0m 3s/step - AUC: 0.7587 - LogLoss: 0.3930 - loss: 0.3904 - regularization_loss: 0.0000e+00 - total_loss: 0.3904\n",
            "\u001b[1m43/43\u001b[0m \u001b[32m━━━━━━━━━━━━━━━━━━━━\u001b[0m\u001b[37m\u001b[0m \u001b[1m127s\u001b[0m 3s/step - AUC: 0.7516 - LogLoss: 0.3920 - loss: 0.4143 - regularization_loss: 0.0000e+00 - total_loss: 0.4143\n",
            "\u001b[1m363/363\u001b[0m \u001b[32m━━━━━━━━━━━━━━━━━━━━\u001b[0m\u001b[37m\u001b[0m \u001b[1m1071s\u001b[0m 3s/step - AUC: 0.7598 - LogLoss: 0.3921 - loss: 0.3899 - regularization_loss: 0.0000e+00 - total_loss: 0.3899\n",
            "\u001b[1m43/43\u001b[0m \u001b[32m━━━━━━━━━━━━━━━━━━━━\u001b[0m\u001b[37m\u001b[0m \u001b[1m123s\u001b[0m 3s/step - AUC: 0.7506 - LogLoss: 0.3917 - loss: 0.4168 - regularization_loss: 0.0000e+00 - total_loss: 0.4168\n",
            "\u001b[1m363/363\u001b[0m \u001b[32m━━━━━━━━━━━━━━━━━━━━\u001b[0m\u001b[37m\u001b[0m \u001b[1m1021s\u001b[0m 3s/step - AUC: 0.7600 - LogLoss: 0.3920 - loss: 0.3904 - regularization_loss: 0.0000e+00 - total_loss: 0.3904\n",
            "\u001b[1m43/43\u001b[0m \u001b[32m━━━━━━━━━━━━━━━━━━━━\u001b[0m\u001b[37m\u001b[0m \u001b[1m120s\u001b[0m 3s/step - AUC: 0.7504 - LogLoss: 0.4633 - loss: 0.4603 - regularization_loss: 0.0000e+00 - total_loss: 0.4603\n",
            "\u001b[1m363/363\u001b[0m \u001b[32m━━━━━━━━━━━━━━━━━━━━\u001b[0m\u001b[37m\u001b[0m \u001b[1m1029s\u001b[0m 3s/step - AUC: 0.6377 - LogLoss: 0.4567 - loss: 0.4395 - regularization_loss: 0.0000e+00 - total_loss: 0.4395\n",
            "\u001b[1m43/43\u001b[0m \u001b[32m━━━━━━━━━━━━━━━━━━━━\u001b[0m\u001b[37m\u001b[0m \u001b[1m119s\u001b[0m 3s/step - AUC: 0.7133 - LogLoss: 0.5309 - loss: 0.5374 - regularization_loss: 0.0000e+00 - total_loss: 0.5374\n",
            "1th Epoch\n",
            "\u001b[1m363/363\u001b[0m \u001b[32m━━━━━━━━━━━━━━━━━━━━\u001b[0m\u001b[37m\u001b[0m \u001b[1m1035s\u001b[0m 3s/step - AUC: 0.6939 - LogLoss: 0.4322 - loss: 0.4383 - regularization_loss: 0.0000e+00 - total_loss: 0.4383\n",
            "\u001b[1m43/43\u001b[0m \u001b[32m━━━━━━━━━━━━━━━━━━━━\u001b[0m\u001b[37m\u001b[0m \u001b[1m124s\u001b[0m 3s/step - AUC: 0.7134 - LogLoss: 0.4431 - loss: 0.5187 - regularization_loss: 0.0000e+00 - total_loss: 0.5187\n",
            "\u001b[1m363/363\u001b[0m \u001b[32m━━━━━━━━━━━━━━━━━━━━\u001b[0m\u001b[37m\u001b[0m \u001b[1m1024s\u001b[0m 3s/step - AUC: 0.7189 - LogLoss: 0.4200 - loss: 0.4154 - regularization_loss: 0.0000e+00 - total_loss: 0.4154\n",
            "\u001b[1m43/43\u001b[0m \u001b[32m━━━━━━━━━━━━━━━━━━━━\u001b[0m\u001b[37m\u001b[0m \u001b[1m116s\u001b[0m 3s/step - AUC: 0.7247 - LogLoss: 0.6519 - loss: 0.6313 - regularization_loss: 0.0000e+00 - total_loss: 0.6313\n",
            "\u001b[1m363/363\u001b[0m \u001b[32m━━━━━━━━━━━━━━━━━━━━\u001b[0m\u001b[37m\u001b[0m \u001b[1m1012s\u001b[0m 3s/step - AUC: 0.7349 - LogLoss: 0.4112 - loss: 0.4078 - regularization_loss: 0.0000e+00 - total_loss: 0.4078\n",
            "\u001b[1m43/43\u001b[0m \u001b[32m━━━━━━━━━━━━━━━━━━━━\u001b[0m\u001b[37m\u001b[0m \u001b[1m121s\u001b[0m 3s/step - AUC: 0.7235 - LogLoss: 0.5130 - loss: 0.5710 - regularization_loss: 0.0000e+00 - total_loss: 0.5710\n",
            "\u001b[1m363/363\u001b[0m \u001b[32m━━━━━━━━━━━━━━━━━━━━\u001b[0m\u001b[37m\u001b[0m \u001b[1m1028s\u001b[0m 3s/step - AUC: 0.7396 - LogLoss: 0.4048 - loss: 0.4047 - regularization_loss: 0.0000e+00 - total_loss: 0.4047\n",
            "\u001b[1m43/43\u001b[0m \u001b[32m━━━━━━━━━━━━━━━━━━━━\u001b[0m\u001b[37m\u001b[0m \u001b[1m125s\u001b[0m 3s/step - AUC: 0.7240 - LogLoss: 0.5527 - loss: 0.6688 - regularization_loss: 0.0000e+00 - total_loss: 0.6688\n",
            "\u001b[1m363/363\u001b[0m \u001b[32m━━━━━━━━━━━━━━━━━━━━\u001b[0m\u001b[37m\u001b[0m \u001b[1m1061s\u001b[0m 3s/step - AUC: 0.7394 - LogLoss: 0.4048 - loss: 0.4055 - regularization_loss: 0.0000e+00 - total_loss: 0.4055\n",
            "\u001b[1m43/43\u001b[0m \u001b[32m━━━━━━━━━━━━━━━━━━━━\u001b[0m\u001b[37m\u001b[0m \u001b[1m125s\u001b[0m 3s/step - AUC: 0.7306 - LogLoss: 0.4103 - loss: 0.4582 - regularization_loss: 0.0000e+00 - total_loss: 0.4582\n",
            "\u001b[1m363/363\u001b[0m \u001b[32m━━━━━━━━━━━━━━━━━━━━\u001b[0m\u001b[37m\u001b[0m \u001b[1m1042s\u001b[0m 3s/step - AUC: 0.7432 - LogLoss: 0.4024 - loss: 0.4001 - regularization_loss: 0.0000e+00 - total_loss: 0.4001\n",
            "\u001b[1m43/43\u001b[0m \u001b[32m━━━━━━━━━━━━━━━━━━━━\u001b[0m\u001b[37m\u001b[0m \u001b[1m120s\u001b[0m 3s/step - AUC: 0.7275 - LogLoss: 0.4394 - loss: 0.5171 - regularization_loss: 0.0000e+00 - total_loss: 0.5171\n",
            "\u001b[1m363/363\u001b[0m \u001b[32m━━━━━━━━━━━━━━━━━━━━\u001b[0m\u001b[37m\u001b[0m \u001b[1m1039s\u001b[0m 3s/step - AUC: 0.7428 - LogLoss: 0.4022 - loss: 0.4013 - regularization_loss: 0.0000e+00 - total_loss: 0.4013\n",
            "\u001b[1m43/43\u001b[0m \u001b[32m━━━━━━━━━━━━━━━━━━━━\u001b[0m\u001b[37m\u001b[0m \u001b[1m121s\u001b[0m 3s/step - AUC: 0.7387 - LogLoss: 0.3992 - loss: 0.4271 - regularization_loss: 0.0000e+00 - total_loss: 0.4271\n",
            "\u001b[1m363/363\u001b[0m \u001b[32m━━━━━━━━━━━━━━━━━━━━\u001b[0m\u001b[37m\u001b[0m \u001b[1m1024s\u001b[0m 3s/step - AUC: 0.7423 - LogLoss: 0.4028 - loss: 0.4008 - regularization_loss: 0.0000e+00 - total_loss: 0.4008\n",
            "\u001b[1m43/43\u001b[0m \u001b[32m━━━━━━━━━━━━━━━━━━━━\u001b[0m\u001b[37m\u001b[0m \u001b[1m120s\u001b[0m 3s/step - AUC: 0.7390 - LogLoss: 0.3968 - loss: 0.4225 - regularization_loss: 0.0000e+00 - total_loss: 0.4225\n",
            "\u001b[1m363/363\u001b[0m \u001b[32m━━━━━━━━━━━━━━━━━━━━\u001b[0m\u001b[37m\u001b[0m \u001b[1m1035s\u001b[0m 3s/step - AUC: 0.7228 - LogLoss: 0.4129 - loss: 0.4075 - regularization_loss: 0.0000e+00 - total_loss: 0.4075\n",
            "\u001b[1m43/43\u001b[0m \u001b[32m━━━━━━━━━━━━━━━━━━━━\u001b[0m\u001b[37m\u001b[0m \u001b[1m126s\u001b[0m 3s/step - AUC: 0.7370 - LogLoss: 0.3970 - loss: 0.4074 - regularization_loss: 0.0000e+00 - total_loss: 0.4074\n",
            "\u001b[1m363/363\u001b[0m \u001b[32m━━━━━━━━━━━━━━━━━━━━\u001b[0m\u001b[37m\u001b[0m \u001b[1m1075s\u001b[0m 3s/step - AUC: 0.7423 - LogLoss: 0.4036 - loss: 0.4025 - regularization_loss: 0.0000e+00 - total_loss: 0.4025\n",
            "\u001b[1m43/43\u001b[0m \u001b[32m━━━━━━━━━━━━━━━━━━━━\u001b[0m\u001b[37m\u001b[0m \u001b[1m127s\u001b[0m 3s/step - AUC: 0.7400 - LogLoss: 0.3992 - loss: 0.4216 - regularization_loss: 0.0000e+00 - total_loss: 0.4216\n",
            "11th Epoch\n",
            "\u001b[1m363/363\u001b[0m \u001b[32m━━━━━━━━━━━━━━━━━━━━\u001b[0m\u001b[37m\u001b[0m \u001b[1m1086s\u001b[0m 3s/step - AUC: 0.7441 - LogLoss: 0.4013 - loss: 0.4001 - regularization_loss: 0.0000e+00 - total_loss: 0.4001\n",
            "\u001b[1m43/43\u001b[0m \u001b[32m━━━━━━━━━━━━━━━━━━━━\u001b[0m\u001b[37m\u001b[0m \u001b[1m127s\u001b[0m 3s/step - AUC: 0.7040 - LogLoss: 0.4250 - loss: 0.4420 - regularization_loss: 0.0000e+00 - total_loss: 0.4420\n",
            "\u001b[1m363/363\u001b[0m \u001b[32m━━━━━━━━━━━━━━━━━━━━\u001b[0m\u001b[37m\u001b[0m \u001b[1m1081s\u001b[0m 3s/step - AUC: 0.7387 - LogLoss: 0.4041 - loss: 0.3980 - regularization_loss: 0.0000e+00 - total_loss: 0.3980\n",
            "\u001b[1m43/43\u001b[0m \u001b[32m━━━━━━━━━━━━━━━━━━━━\u001b[0m\u001b[37m\u001b[0m \u001b[1m125s\u001b[0m 3s/step - AUC: 0.7373 - LogLoss: 0.3981 - loss: 0.4142 - regularization_loss: 0.0000e+00 - total_loss: 0.4142\n",
            "\u001b[1m363/363\u001b[0m \u001b[32m━━━━━━━━━━━━━━━━━━━━\u001b[0m\u001b[37m\u001b[0m \u001b[1m1068s\u001b[0m 3s/step - AUC: 0.7477 - LogLoss: 0.3996 - loss: 0.3966 - regularization_loss: 0.0000e+00 - total_loss: 0.3966\n",
            "\u001b[1m43/43\u001b[0m \u001b[32m━━━━━━━━━━━━━━━━━━━━\u001b[0m\u001b[37m\u001b[0m \u001b[1m125s\u001b[0m 3s/step - AUC: 0.7413 - LogLoss: 0.3956 - loss: 0.4217 - regularization_loss: 0.0000e+00 - total_loss: 0.4217\n",
            "\u001b[1m363/363\u001b[0m \u001b[32m━━━━━━━━━━━━━━━━━━━━\u001b[0m\u001b[37m\u001b[0m \u001b[1m1069s\u001b[0m 3s/step - AUC: 0.7485 - LogLoss: 0.3986 - loss: 0.3971 - regularization_loss: 0.0000e+00 - total_loss: 0.3971\n",
            "\u001b[1m43/43\u001b[0m \u001b[32m━━━━━━━━━━━━━━━━━━━━\u001b[0m\u001b[37m\u001b[0m \u001b[1m126s\u001b[0m 3s/step - AUC: 0.7428 - LogLoss: 0.3956 - loss: 0.4214 - regularization_loss: 0.0000e+00 - total_loss: 0.4214\n",
            "\u001b[1m363/363\u001b[0m \u001b[32m━━━━━━━━━━━━━━━━━━━━\u001b[0m\u001b[37m\u001b[0m \u001b[1m1105s\u001b[0m 3s/step - AUC: 0.7410 - LogLoss: 0.4021 - loss: 0.3994 - regularization_loss: 0.0000e+00 - total_loss: 0.3994\n",
            "\u001b[1m43/43\u001b[0m \u001b[32m━━━━━━━━━━━━━━━━━━━━\u001b[0m\u001b[37m\u001b[0m \u001b[1m130s\u001b[0m 3s/step - AUC: 0.7420 - LogLoss: 0.4126 - loss: 0.4480 - regularization_loss: 0.0000e+00 - total_loss: 0.4480\n",
            "\u001b[1m363/363\u001b[0m \u001b[32m━━━━━━━━━━━━━━━━━━━━\u001b[0m\u001b[37m\u001b[0m \u001b[1m1105s\u001b[0m 3s/step - AUC: 0.7489 - LogLoss: 0.3983 - loss: 0.3958 - regularization_loss: 0.0000e+00 - total_loss: 0.3958\n",
            "\u001b[1m43/43\u001b[0m \u001b[32m━━━━━━━━━━━━━━━━━━━━\u001b[0m\u001b[37m\u001b[0m \u001b[1m131s\u001b[0m 3s/step - AUC: 0.7442 - LogLoss: 0.3989 - loss: 0.4262 - regularization_loss: 0.0000e+00 - total_loss: 0.4262\n",
            "\u001b[1m363/363\u001b[0m \u001b[32m━━━━━━━━━━━━━━━━━━━━\u001b[0m\u001b[37m\u001b[0m \u001b[1m1110s\u001b[0m 3s/step - AUC: 0.7498 - LogLoss: 0.3977 - loss: 0.3962 - regularization_loss: 0.0000e+00 - total_loss: 0.3962\n",
            "\u001b[1m43/43\u001b[0m \u001b[32m━━━━━━━━━━━━━━━━━━━━\u001b[0m\u001b[37m\u001b[0m \u001b[1m129s\u001b[0m 3s/step - AUC: 0.7452 - LogLoss: 0.3957 - loss: 0.4069 - regularization_loss: 0.0000e+00 - total_loss: 0.4069\n",
            "\u001b[1m363/363\u001b[0m \u001b[32m━━━━━━━━━━━━━━━━━━━━\u001b[0m\u001b[37m\u001b[0m \u001b[1m1110s\u001b[0m 3s/step - AUC: 0.7482 - LogLoss: 0.3996 - loss: 0.3971 - regularization_loss: 0.0000e+00 - total_loss: 0.3971\n",
            "\u001b[1m43/43\u001b[0m \u001b[32m━━━━━━━━━━━━━━━━━━━━\u001b[0m\u001b[37m\u001b[0m \u001b[1m132s\u001b[0m 3s/step - AUC: 0.7435 - LogLoss: 0.3966 - loss: 0.4239 - regularization_loss: 0.0000e+00 - total_loss: 0.4239\n",
            "\u001b[1m363/363\u001b[0m \u001b[32m━━━━━━━━━━━━━━━━━━━━\u001b[0m\u001b[37m\u001b[0m \u001b[1m1104s\u001b[0m 3s/step - AUC: 0.7483 - LogLoss: 0.3986 - loss: 0.3976 - regularization_loss: 0.0000e+00 - total_loss: 0.3976\n",
            "\u001b[1m43/43\u001b[0m \u001b[32m━━━━━━━━━━━━━━━━━━━━\u001b[0m\u001b[37m\u001b[0m \u001b[1m129s\u001b[0m 3s/step - AUC: 0.7448 - LogLoss: 0.4017 - loss: 0.4135 - regularization_loss: 0.0000e+00 - total_loss: 0.4135\n",
            "\u001b[1m363/363\u001b[0m \u001b[32m━━━━━━━━━━━━━━━━━━━━\u001b[0m\u001b[37m\u001b[0m \u001b[1m1109s\u001b[0m 3s/step - AUC: 0.7423 - LogLoss: 0.4022 - loss: 0.4004 - regularization_loss: 0.0000e+00 - total_loss: 0.4004\n",
            "\u001b[1m43/43\u001b[0m \u001b[32m━━━━━━━━━━━━━━━━━━━━\u001b[0m\u001b[37m\u001b[0m \u001b[1m132s\u001b[0m 3s/step - AUC: 0.7436 - LogLoss: 0.4060 - loss: 0.4219 - regularization_loss: 0.0000e+00 - total_loss: 0.4219\n",
            "21th Epoch\n",
            "\u001b[1m363/363\u001b[0m \u001b[32m━━━━━━━━━━━━━━━━━━━━\u001b[0m\u001b[37m\u001b[0m \u001b[1m1126s\u001b[0m 3s/step - AUC: 0.7516 - LogLoss: 0.3970 - loss: 0.3951 - regularization_loss: 0.0000e+00 - total_loss: 0.3951\n",
            "\u001b[1m43/43\u001b[0m \u001b[32m━━━━━━━━━━━━━━━━━━━━\u001b[0m\u001b[37m\u001b[0m \u001b[1m130s\u001b[0m 3s/step - AUC: 0.7424 - LogLoss: 0.4019 - loss: 0.4266 - regularization_loss: 0.0000e+00 - total_loss: 0.4266\n",
            "\u001b[1m363/363\u001b[0m \u001b[32m━━━━━━━━━━━━━━━━━━━━\u001b[0m\u001b[37m\u001b[0m \u001b[1m1105s\u001b[0m 3s/step - AUC: 0.7509 - LogLoss: 0.3973 - loss: 0.3969 - regularization_loss: 0.0000e+00 - total_loss: 0.3969\n",
            "\u001b[1m43/43\u001b[0m \u001b[32m━━━━━━━━━━━━━━━━━━━━\u001b[0m\u001b[37m\u001b[0m \u001b[1m130s\u001b[0m 3s/step - AUC: 0.7419 - LogLoss: 0.3992 - loss: 0.4172 - regularization_loss: 0.0000e+00 - total_loss: 0.4172\n",
            "\u001b[1m363/363\u001b[0m \u001b[32m━━━━━━━━━━━━━━━━━━━━\u001b[0m\u001b[37m\u001b[0m \u001b[1m1106s\u001b[0m 3s/step - AUC: 0.7502 - LogLoss: 0.3977 - loss: 0.3990 - regularization_loss: 0.0000e+00 - total_loss: 0.3990\n",
            "\u001b[1m43/43\u001b[0m \u001b[32m━━━━━━━━━━━━━━━━━━━━\u001b[0m\u001b[37m\u001b[0m \u001b[1m130s\u001b[0m 3s/step - AUC: 0.7420 - LogLoss: 0.4050 - loss: 0.4207 - regularization_loss: 0.0000e+00 - total_loss: 0.4207\n",
            "\u001b[1m363/363\u001b[0m \u001b[32m━━━━━━━━━━━━━━━━━━━━\u001b[0m\u001b[37m\u001b[0m \u001b[1m1101s\u001b[0m 3s/step - AUC: 0.7503 - LogLoss: 0.3985 - loss: 0.3963 - regularization_loss: 0.0000e+00 - total_loss: 0.3963\n",
            "\u001b[1m43/43\u001b[0m \u001b[32m━━━━━━━━━━━━━━━━━━━━\u001b[0m\u001b[37m\u001b[0m \u001b[1m130s\u001b[0m 3s/step - AUC: 0.7455 - LogLoss: 0.3954 - loss: 0.4069 - regularization_loss: 0.0000e+00 - total_loss: 0.4069\n",
            "     83/Unknown \u001b[1m256s\u001b[0m 3s/step - AUC: 0.7533 - LogLoss: 0.3937 - loss: 0.3867 - regularization_loss: 0.0000e+00 - total_loss: 0.3867"
          ]
        }
      ],
      "source": [
        "node, deep_layer, cross_layer = 1024, 4, 1\n",
        "print(\"Node: {}, Deep Layer : {}, Cross Layer : {}\".format(node, deep_layer, cross_layer))\n",
        "\n",
        "fitting_history = run_models.run_models(\n",
        "    dcn_parallel=DCN_PARALLEL,\n",
        "    cross_layer_size=cross_layer,\n",
        "    deep_layer_sizes=[node]*deep_layer,\n",
        "    vocabularies=vocabularies,\n",
        "    str_features=str_features,\n",
        "    int_features=int_features,\n",
        "    train=train_batches,\n",
        "    test=test,\n",
        "    learning_rate=LEARNING_RATE,\n",
        "    epochs=FITTING_EPOCHS,\n",
        "    history_file_dir=HISTORY_FILE_DIR,\n",
        "    history_file_name=HISTORY_FILE_NAME,\n",
        "    checkpoints_dir=CHECKPOINTS_DIR,\n",
        "    checkpoints_name=CHECKPOINTS_NAME\n",
        "    )"
      ]
    },
    {
      "cell_type": "code",
      "execution_count": null,
      "metadata": {
        "id": "0zFNP4QvWqpL"
      },
      "outputs": [],
      "source": [
        "HISTORY_FILE_PATH = '/content/drive/MyDrive/ctr/data/baseline/fitting_history.V1.0.p'\n",
        "\n",
        "with open(HISTORY_FILE_PATH, 'wb') as f:\n",
        "    pickle.dump(fitting_history, f)"
      ]
    },
    {
      "cell_type": "code",
      "execution_count": null,
      "metadata": {
        "id": "yppQjxOwWrk6"
      },
      "outputs": [],
      "source": []
    }
  ],
  "metadata": {
    "accelerator": "GPU",
    "colab": {
      "gpuType": "T4",
      "machine_shape": "hm",
      "provenance": []
    },
    "kernelspec": {
      "display_name": "Python 3",
      "name": "python3"
    },
    "language_info": {
      "name": "python"
    }
  },
  "nbformat": 4,
  "nbformat_minor": 0
}