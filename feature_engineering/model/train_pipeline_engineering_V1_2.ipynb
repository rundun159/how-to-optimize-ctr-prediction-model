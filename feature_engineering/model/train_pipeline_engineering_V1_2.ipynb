{
  "cells": [
    {
      "cell_type": "code",
      "execution_count": null,
      "metadata": {
        "id": "UiV_OVyOy8vL"
      },
      "outputs": [],
      "source": [
        "!pip install -q tensorflow-recommenders\n",
        "!pip install -q --upgrade tensorflow-datasets"
      ]
    },
    {
      "cell_type": "code",
      "execution_count": null,
      "metadata": {
        "id": "d873gYbD0CGF"
      },
      "outputs": [],
      "source": [
        "import pprint\n",
        "\n",
        "%matplotlib inline\n",
        "import matplotlib.pyplot as plt\n",
        "from mpl_toolkits.axes_grid1 import make_axes_locatable\n",
        "\n",
        "import numpy as np\n",
        "import tensorflow as tf\n",
        "import tensorflow_datasets as tfds\n",
        "\n",
        "import tensorflow_recommenders as tfrs"
      ]
    },
    {
      "cell_type": "code",
      "execution_count": null,
      "metadata": {
        "id": "8oRrlXZI0ETP"
      },
      "outputs": [],
      "source": [
        "# import packages\n",
        "import pandas as pd\n",
        "import seaborn as sns\n",
        "import matplotlib.pyplot as plt\n",
        "import random\n",
        "import sys\n",
        "import csv\n",
        "import gzip\n",
        "import copy\n",
        "import datetime\n",
        "import pickle\n",
        "from sklearn import metrics\n",
        "from tabulate import tabulate"
      ]
    },
    {
      "cell_type": "code",
      "execution_count": null,
      "metadata": {
        "id": "tIqMLfCl0K2k"
      },
      "outputs": [],
      "source": [
        "seed_value = 42  # seed for reproducibility\n",
        "random.seed(seed_value)"
      ]
    },
    {
      "cell_type": "code",
      "execution_count": null,
      "metadata": {
        "colab": {
          "base_uri": "https://localhost:8080/"
        },
        "id": "mtzzM19O0ZKB",
        "outputId": "f33b35df-15bc-4bf2-de0c-d1f64ef4fb41"
      },
      "outputs": [
        {
          "name": "stdout",
          "output_type": "stream",
          "text": [
            "Drive already mounted at /content/drive; to attempt to forcibly remount, call drive.mount(\"/content/drive\", force_remount=True).\n"
          ]
        }
      ],
      "source": [
        "from google.colab import drive\n",
        "drive.mount('/content/drive')"
      ]
    },
    {
      "cell_type": "code",
      "execution_count": null,
      "metadata": {
        "id": "l_8Fpg8C9LZS"
      },
      "outputs": [],
      "source": [
        "sys.path.append('/content/drive/MyDrive/ctr/code/model')"
      ]
    },
    {
      "cell_type": "code",
      "execution_count": null,
      "metadata": {
        "id": "DEaL_7Vy9YD2"
      },
      "outputs": [],
      "source": [
        "import dcn\n",
        "import run_models"
      ]
    },
    {
      "cell_type": "code",
      "execution_count": null,
      "metadata": {
        "id": "PR_SHlAlw3NJ"
      },
      "outputs": [],
      "source": [
        "BATCH_SIZE = 100000\n",
        "SHUFFLE_BUFFER_SIZE = 10000\n",
        "SHUFFLE_SEED = 42\n",
        "DATASET_EPOCHS = 1\n",
        "FITTING_EPOCHS = 50\n",
        "LEARNING_RATE = 0.0001\n",
        "DCN_PARALLEL = True\n",
        "STR_COLUMNS = [\n",
        "    'click', 'banner_pos',\n",
        "    'site_id', 'site_domain', 'site_category',\n",
        "    'app_id', 'app_domain', 'app_category',\n",
        "    'device_id', 'device_ip', 'device_model', 'device_type', 'device_conn_type',\n",
        "    'C1', 'C14', 'C15', 'C16', 'C17', 'C18', 'C19', 'C20', 'C21',\n",
        "    'day_of_week'\n",
        "    ]\n",
        "INT_COLUMNS = [\n",
        "    'hour_of_day'\n",
        "]\n",
        "COLUMN_DEFAULTS = [tf.string] * (len(STR_COLUMNS) -1) + [tf.float32] * len(INT_COLUMNS) + [tf.string] * 1"
      ]
    },
    {
      "cell_type": "code",
      "execution_count": null,
      "metadata": {
        "id": "gIoZoTFOSxbt"
      },
      "outputs": [],
      "source": [
        "# column_defaults를 원본 CSV File의 Column 순서로 인식한다"
      ]
    },
    {
      "cell_type": "code",
      "execution_count": null,
      "metadata": {
        "id": "AMmCSs0MxEBN"
      },
      "outputs": [],
      "source": [
        "TRAIN_FILE = '/content/drive/MyDrive/ctr/avazu/processed/train/train.csv'\n",
        "train_batches = tf.data.experimental.make_csv_dataset(\n",
        "    TRAIN_FILE,\n",
        "    batch_size=BATCH_SIZE,\n",
        "    select_columns= STR_COLUMNS + INT_COLUMNS,\n",
        "    column_defaults=COLUMN_DEFAULTS,\n",
        "    shuffle=True, shuffle_buffer_size=SHUFFLE_BUFFER_SIZE, shuffle_seed=SHUFFLE_SEED,\n",
        "    num_epochs=DATASET_EPOCHS\n",
        ")"
      ]
    },
    {
      "cell_type": "code",
      "execution_count": null,
      "metadata": {
        "id": "JV6KkFW_7TMC"
      },
      "outputs": [],
      "source": [
        "TEST_FILE = '/content/drive/MyDrive/ctr/avazu/processed/train/test.csv'\n",
        "test = tf.data.experimental.make_csv_dataset(\n",
        "    TEST_FILE,\n",
        "    batch_size=BATCH_SIZE,\n",
        "    select_columns= STR_COLUMNS + INT_COLUMNS,\n",
        "    column_defaults=COLUMN_DEFAULTS,\n",
        "    num_epochs=DATASET_EPOCHS\n",
        ")"
      ]
    },
    {
      "cell_type": "code",
      "execution_count": null,
      "metadata": {
        "id": "Y6RrztcX7q25"
      },
      "outputs": [],
      "source": [
        "import pickle\n",
        "with open('/content/drive/MyDrive/ctr/data/total_voca.p', 'rb') as f:\n",
        "    total_voca = pickle.load(f)"
      ]
    },
    {
      "cell_type": "code",
      "execution_count": null,
      "metadata": {
        "id": "UDgg_IUVAE5R"
      },
      "outputs": [],
      "source": [
        "with open('/content/drive/MyDrive/ctr/data/one_hot_encoding_voca.p', 'rb') as f:\n",
        "    one_hot_encoding_voca = pickle.load(f)"
      ]
    },
    {
      "cell_type": "code",
      "execution_count": null,
      "metadata": {
        "id": "vhS3Zlc_HxZe"
      },
      "outputs": [],
      "source": [
        "one_hot_encoding_voca['day_of_week'] = ['Tuesday', 'Wednesday', 'Thursday', 'Friday', 'Saturday', 'Sunday',\n",
        "       'Monday']"
      ]
    },
    {
      "cell_type": "code",
      "execution_count": null,
      "metadata": {
        "id": "VoLF_VKb7_pj"
      },
      "outputs": [],
      "source": [
        "FEATURE_ENGINEERING = {\n",
        "    'one-hot encoding' : ['site_category', 'app_category', 'device_type', 'C1', 'C15', 'C16', 'C18', 'C21', 'day_of_week'],\n",
        "    'threshold + embedding' : ['device_model', 'C14', 'C17', 'site_id', 'site_domain', 'app_id'],\n",
        "    'top-n + one-hot encoding' : ['app_domain', 'C19', 'C20']\n",
        "}"
      ]
    },
    {
      "cell_type": "code",
      "execution_count": null,
      "metadata": {
        "id": "5xVMOO-I7xYY"
      },
      "outputs": [],
      "source": [
        "THRESHOLD_VOCA = total_voca[(10,1000)]\n",
        "TOP_N_VOCA = total_voca[(25, 500)]"
      ]
    },
    {
      "cell_type": "code",
      "execution_count": null,
      "metadata": {
        "colab": {
          "base_uri": "https://localhost:8080/"
        },
        "id": "S1XFUWn_8OXl",
        "outputId": "c85d33da-6eac-4e7c-a9b7-9e85b57f4d22"
      },
      "outputs": [
        {
          "data": {
            "text/plain": [
              "dict_keys(['site_id', 'site_domain', 'device_model', 'app_id', 'app_domain', 'C14', 'C17', 'C19', 'C20'])"
            ]
          },
          "execution_count": 17,
          "metadata": {},
          "output_type": "execute_result"
        }
      ],
      "source": [
        "THRESHOLD_VOCA.keys()"
      ]
    },
    {
      "cell_type": "code",
      "execution_count": null,
      "metadata": {
        "id": "f8LTV5xoAMOn"
      },
      "outputs": [],
      "source": [
        "vocabularies = {}\n",
        "\n",
        "vocabularies['one-hot encoding'] = {}\n",
        "for feature in FEATURE_ENGINEERING['one-hot encoding']:\n",
        "    vocabularies['one-hot encoding'][feature] = one_hot_encoding_voca[feature]\n",
        "\n",
        "vocabularies['threshold + embedding'] = {}\n",
        "for feature in FEATURE_ENGINEERING['threshold + embedding']:\n",
        "    vocabularies['threshold + embedding'][feature] = THRESHOLD_VOCA[feature]['over_threshold']\n",
        "\n",
        "vocabularies['top-n + one-hot encoding'] = {}\n",
        "for feature in FEATURE_ENGINEERING['top-n + one-hot encoding']:\n",
        "    vocabularies['top-n + one-hot encoding'][feature] = TOP_N_VOCA[feature]['top_num']"
      ]
    },
    {
      "cell_type": "code",
      "execution_count": null,
      "metadata": {
        "id": "H7w75Z08GPlO"
      },
      "outputs": [],
      "source": [
        "str_features = list(vocabularies['one-hot encoding'].keys()) + list(vocabularies['threshold + embedding'].keys()) + list(vocabularies['top-n + one-hot encoding'].keys())\n",
        "int_features = ['hour_of_day']"
      ]
    },
    {
      "cell_type": "code",
      "execution_count": null,
      "metadata": {
        "id": "Osk4pWksIncf"
      },
      "outputs": [],
      "source": [
        "nodes = [32, 64, 128, 256, 512, 1024]\n",
        "deep_layers = [1, 2, 3, 4, 5]\n",
        "cross_layers = [1, 2, 3, 4, 5, 6]\n",
        "result_dict = {}"
      ]
    },
    {
      "cell_type": "code",
      "execution_count": null,
      "metadata": {
        "id": "Y264Xnlke8BW"
      },
      "outputs": [],
      "source": [
        "import warnings\n",
        "warnings.filterwarnings(action='ignore')"
      ]
    },
    {
      "cell_type": "code",
      "execution_count": null,
      "metadata": {
        "id": "27xdQUl0fwpM"
      },
      "outputs": [],
      "source": [
        "for engineering_method, voca_set in vocabularies.items():\n",
        "    for feature, voca in voca_set.items():\n",
        "        vocabularies[engineering_method][feature] = list(map(str, voca))"
      ]
    },
    {
      "cell_type": "code",
      "execution_count": null,
      "metadata": {
        "id": "E6RaTOb03hc8"
      },
      "outputs": [],
      "source": [
        "HISTORY_FILE_DIR = '/content/drive/MyDrive/ctr/data/feature_engineering/'\n",
        "HISTORY_FILE_NAME = 'fitting_history.V1.2'"
      ]
    },
    {
      "cell_type": "code",
      "execution_count": null,
      "metadata": {
        "colab": {
          "background_save": true,
          "base_uri": "https://localhost:8080/"
        },
        "id": "R0Tn0IVVBLLV",
        "outputId": "89f965e9-284e-4509-a11f-7353017a22cc"
      },
      "outputs": [
        {
          "name": "stdout",
          "output_type": "stream",
          "text": [
            "Node: 1024, Deep Layer : 4, Cross Layer : 1\n",
            "\u001b[1m363/363\u001b[0m \u001b[32m━━━━━━━━━━━━━━━━━━━━\u001b[0m\u001b[37m\u001b[0m \u001b[1m990s\u001b[0m 3s/step - AUC: 0.5836 - LogLoss: 0.6583 - loss: 0.5387 - regularization_loss: 0.0000e+00 - total_loss: 0.5387\n",
            "\u001b[1m43/43\u001b[0m \u001b[32m━━━━━━━━━━━━━━━━━━━━\u001b[0m\u001b[37m\u001b[0m \u001b[1m116s\u001b[0m 3s/step - AUC: 0.6448 - LogLoss: 0.4293 - loss: 0.4450 - regularization_loss: 0.0000e+00 - total_loss: 0.4450\n",
            "1th Epoch\n",
            "\u001b[1m363/363\u001b[0m \u001b[32m━━━━━━━━━━━━━━━━━━━━\u001b[0m\u001b[37m\u001b[0m \u001b[1m976s\u001b[0m 3s/step - AUC: 0.6517 - LogLoss: 0.4769 - loss: 0.4852 - regularization_loss: 0.0000e+00 - total_loss: 0.4852\n",
            "\u001b[1m43/43\u001b[0m \u001b[32m━━━━━━━━━━━━━━━━━━━━\u001b[0m\u001b[37m\u001b[0m \u001b[1m114s\u001b[0m 3s/step - AUC: 0.6586 - LogLoss: 0.4241 - loss: 0.4368 - regularization_loss: 0.0000e+00 - total_loss: 0.4368\n",
            "\u001b[1m363/363\u001b[0m \u001b[32m━━━━━━━━━━━━━━━━━━━━\u001b[0m\u001b[37m\u001b[0m \u001b[1m974s\u001b[0m 3s/step - AUC: 0.6989 - LogLoss: 0.4303 - loss: 0.4537 - regularization_loss: 0.0000e+00 - total_loss: 0.4537\n",
            "\u001b[1m43/43\u001b[0m \u001b[32m━━━━━━━━━━━━━━━━━━━━\u001b[0m\u001b[37m\u001b[0m \u001b[1m115s\u001b[0m 3s/step - AUC: 0.6559 - LogLoss: 0.4709 - loss: 0.4748 - regularization_loss: 0.0000e+00 - total_loss: 0.4748\n",
            "\u001b[1m363/363\u001b[0m \u001b[32m━━━━━━━━━━━━━━━━━━━━\u001b[0m\u001b[37m\u001b[0m \u001b[1m979s\u001b[0m 3s/step - AUC: 0.6961 - LogLoss: 0.4305 - loss: 0.4263 - regularization_loss: 0.0000e+00 - total_loss: 0.4263\n",
            "\u001b[1m43/43\u001b[0m \u001b[32m━━━━━━━━━━━━━━━━━━━━\u001b[0m\u001b[37m\u001b[0m \u001b[1m113s\u001b[0m 3s/step - AUC: 0.6565 - LogLoss: 0.4384 - loss: 0.4845 - regularization_loss: 0.0000e+00 - total_loss: 0.4845\n",
            "\u001b[1m363/363\u001b[0m \u001b[32m━━━━━━━━━━━━━━━━━━━━\u001b[0m\u001b[37m\u001b[0m \u001b[1m962s\u001b[0m 3s/step - AUC: 0.6921 - LogLoss: 0.5324 - loss: 0.6539 - regularization_loss: 0.0000e+00 - total_loss: 0.6539\n",
            "\u001b[1m43/43\u001b[0m \u001b[32m━━━━━━━━━━━━━━━━━━━━\u001b[0m\u001b[37m\u001b[0m \u001b[1m112s\u001b[0m 3s/step - AUC: 0.5970 - LogLoss: 0.9811 - loss: 1.0010 - regularization_loss: 0.0000e+00 - total_loss: 1.0010\n",
            "\u001b[1m363/363\u001b[0m \u001b[32m━━━━━━━━━━━━━━━━━━━━\u001b[0m\u001b[37m\u001b[0m \u001b[1m959s\u001b[0m 3s/step - AUC: 0.6795 - LogLoss: 0.4626 - loss: 0.4313 - regularization_loss: 0.0000e+00 - total_loss: 0.4313\n",
            "\u001b[1m43/43\u001b[0m \u001b[32m━━━━━━━━━━━━━━━━━━━━\u001b[0m\u001b[37m\u001b[0m \u001b[1m112s\u001b[0m 3s/step - AUC: 0.6612 - LogLoss: 0.4536 - loss: 0.5083 - regularization_loss: 0.0000e+00 - total_loss: 0.5083\n",
            "\u001b[1m363/363\u001b[0m \u001b[32m━━━━━━━━━━━━━━━━━━━━\u001b[0m\u001b[37m\u001b[0m \u001b[1m947s\u001b[0m 3s/step - AUC: 0.7055 - LogLoss: 0.4265 - loss: 0.4253 - regularization_loss: 0.0000e+00 - total_loss: 0.4253\n",
            "\u001b[1m43/43\u001b[0m \u001b[32m━━━━━━━━━━━━━━━━━━━━\u001b[0m\u001b[37m\u001b[0m \u001b[1m110s\u001b[0m 3s/step - AUC: 0.6938 - LogLoss: 0.4161 - loss: 0.4280 - regularization_loss: 0.0000e+00 - total_loss: 0.4280\n",
            "\u001b[1m363/363\u001b[0m \u001b[32m━━━━━━━━━━━━━━━━━━━━\u001b[0m\u001b[37m\u001b[0m \u001b[1m955s\u001b[0m 3s/step - AUC: 0.7157 - LogLoss: 0.4173 - loss: 0.4160 - regularization_loss: 0.0000e+00 - total_loss: 0.4160\n",
            "\u001b[1m43/43\u001b[0m \u001b[32m━━━━━━━━━━━━━━━━━━━━\u001b[0m\u001b[37m\u001b[0m \u001b[1m112s\u001b[0m 3s/step - AUC: 0.6982 - LogLoss: 0.5599 - loss: 0.7217 - regularization_loss: 0.0000e+00 - total_loss: 0.7217\n",
            "\u001b[1m363/363\u001b[0m \u001b[32m━━━━━━━━━━━━━━━━━━━━\u001b[0m\u001b[37m\u001b[0m \u001b[1m945s\u001b[0m 3s/step - AUC: 0.7100 - LogLoss: 0.4244 - loss: 0.4487 - regularization_loss: 0.0000e+00 - total_loss: 0.4487\n",
            "\u001b[1m43/43\u001b[0m \u001b[32m━━━━━━━━━━━━━━━━━━━━\u001b[0m\u001b[37m\u001b[0m \u001b[1m111s\u001b[0m 3s/step - AUC: 0.5938 - LogLoss: 0.8279 - loss: 0.9311 - regularization_loss: 0.0000e+00 - total_loss: 0.9311\n",
            "\u001b[1m363/363\u001b[0m \u001b[32m━━━━━━━━━━━━━━━━━━━━\u001b[0m\u001b[37m\u001b[0m \u001b[1m954s\u001b[0m 3s/step - AUC: 0.6773 - LogLoss: 0.4535 - loss: 0.4307 - regularization_loss: 0.0000e+00 - total_loss: 0.4307\n",
            "\u001b[1m43/43\u001b[0m \u001b[32m━━━━━━━━━━━━━━━━━━━━\u001b[0m\u001b[37m\u001b[0m \u001b[1m111s\u001b[0m 3s/step - AUC: 0.6906 - LogLoss: 0.4284 - loss: 0.5102 - regularization_loss: 0.0000e+00 - total_loss: 0.5102\n",
            "\u001b[1m363/363\u001b[0m \u001b[32m━━━━━━━━━━━━━━━━━━━━\u001b[0m\u001b[37m\u001b[0m \u001b[1m946s\u001b[0m 3s/step - AUC: 0.7124 - LogLoss: 0.4240 - loss: 0.4189 - regularization_loss: 0.0000e+00 - total_loss: 0.4189\n",
            "\u001b[1m43/43\u001b[0m \u001b[32m━━━━━━━━━━━━━━━━━━━━\u001b[0m\u001b[37m\u001b[0m \u001b[1m113s\u001b[0m 3s/step - AUC: 0.6984 - LogLoss: 0.4508 - loss: 0.4554 - regularization_loss: 0.0000e+00 - total_loss: 0.4554\n",
            "11th Epoch\n",
            "\u001b[1m363/363\u001b[0m \u001b[32m━━━━━━━━━━━━━━━━━━━━\u001b[0m\u001b[37m\u001b[0m \u001b[1m950s\u001b[0m 3s/step - AUC: 0.7102 - LogLoss: 0.4285 - loss: 0.4368 - regularization_loss: 0.0000e+00 - total_loss: 0.4368\n",
            "\u001b[1m43/43\u001b[0m \u001b[32m━━━━━━━━━━━━━━━━━━━━\u001b[0m\u001b[37m\u001b[0m \u001b[1m113s\u001b[0m 3s/step - AUC: 0.6034 - LogLoss: 0.8428 - loss: 1.1273 - regularization_loss: 0.0000e+00 - total_loss: 1.1273\n",
            "\u001b[1m363/363\u001b[0m \u001b[32m━━━━━━━━━━━━━━━━━━━━\u001b[0m\u001b[37m\u001b[0m \u001b[1m950s\u001b[0m 3s/step - AUC: 0.7020 - LogLoss: 0.4265 - loss: 0.4161 - regularization_loss: 0.0000e+00 - total_loss: 0.4161\n",
            "\u001b[1m43/43\u001b[0m \u001b[32m━━━━━━━━━━━━━━━━━━━━\u001b[0m\u001b[37m\u001b[0m \u001b[1m111s\u001b[0m 3s/step - AUC: 0.7078 - LogLoss: 0.4258 - loss: 0.4612 - regularization_loss: 0.0000e+00 - total_loss: 0.4612\n",
            "\u001b[1m363/363\u001b[0m \u001b[32m━━━━━━━━━━━━━━━━━━━━\u001b[0m\u001b[37m\u001b[0m \u001b[1m951s\u001b[0m 3s/step - AUC: 0.7138 - LogLoss: 0.4223 - loss: 0.4199 - regularization_loss: 0.0000e+00 - total_loss: 0.4199\n",
            "\u001b[1m43/43\u001b[0m \u001b[32m━━━━━━━━━━━━━━━━━━━━\u001b[0m\u001b[37m\u001b[0m \u001b[1m112s\u001b[0m 3s/step - AUC: 0.7127 - LogLoss: 0.4162 - loss: 0.4350 - regularization_loss: 0.0000e+00 - total_loss: 0.4350\n",
            "\u001b[1m363/363\u001b[0m \u001b[32m━━━━━━━━━━━━━━━━━━━━\u001b[0m\u001b[37m\u001b[0m \u001b[1m949s\u001b[0m 3s/step - AUC: 0.7322 - LogLoss: 0.4101 - loss: 0.4113 - regularization_loss: 0.0000e+00 - total_loss: 0.4113\n",
            "\u001b[1m43/43\u001b[0m \u001b[32m━━━━━━━━━━━━━━━━━━━━\u001b[0m\u001b[37m\u001b[0m \u001b[1m112s\u001b[0m 3s/step - AUC: 0.6957 - LogLoss: 0.4226 - loss: 0.4237 - regularization_loss: 0.0000e+00 - total_loss: 0.4237\n",
            "\u001b[1m363/363\u001b[0m \u001b[32m━━━━━━━━━━━━━━━━━━━━\u001b[0m\u001b[37m\u001b[0m \u001b[1m949s\u001b[0m 3s/step - AUC: 0.7323 - LogLoss: 0.4091 - loss: 0.4062 - regularization_loss: 0.0000e+00 - total_loss: 0.4062\n",
            "\u001b[1m43/43\u001b[0m \u001b[32m━━━━━━━━━━━━━━━━━━━━\u001b[0m\u001b[37m\u001b[0m \u001b[1m112s\u001b[0m 3s/step - AUC: 0.7103 - LogLoss: 0.4358 - loss: 0.4549 - regularization_loss: 0.0000e+00 - total_loss: 0.4549\n",
            "\u001b[1m363/363\u001b[0m \u001b[32m━━━━━━━━━━━━━━━━━━━━\u001b[0m\u001b[37m\u001b[0m \u001b[1m953s\u001b[0m 3s/step - AUC: 0.7297 - LogLoss: 0.4108 - loss: 0.4126 - regularization_loss: 0.0000e+00 - total_loss: 0.4126\n",
            "\u001b[1m43/43\u001b[0m \u001b[32m━━━━━━━━━━━━━━━━━━━━\u001b[0m\u001b[37m\u001b[0m \u001b[1m112s\u001b[0m 3s/step - AUC: 0.6974 - LogLoss: 0.4246 - loss: 0.4544 - regularization_loss: 0.0000e+00 - total_loss: 0.4544\n",
            "\u001b[1m363/363\u001b[0m \u001b[32m━━━━━━━━━━━━━━━━━━━━\u001b[0m\u001b[37m\u001b[0m \u001b[1m954s\u001b[0m 3s/step - AUC: 0.7338 - LogLoss: 0.4079 - loss: 0.4049 - regularization_loss: 0.0000e+00 - total_loss: 0.4049\n",
            "\u001b[1m43/43\u001b[0m \u001b[32m━━━━━━━━━━━━━━━━━━━━\u001b[0m\u001b[37m\u001b[0m \u001b[1m111s\u001b[0m 3s/step - AUC: 0.7121 - LogLoss: 0.4121 - loss: 0.4263 - regularization_loss: 0.0000e+00 - total_loss: 0.4263\n",
            "\u001b[1m363/363\u001b[0m \u001b[32m━━━━━━━━━━━━━━━━━━━━\u001b[0m\u001b[37m\u001b[0m \u001b[1m952s\u001b[0m 3s/step - AUC: 0.7398 - LogLoss: 0.4044 - loss: 0.4013 - regularization_loss: 0.0000e+00 - total_loss: 0.4013\n",
            "\u001b[1m43/43\u001b[0m \u001b[32m━━━━━━━━━━━━━━━━━━━━\u001b[0m\u001b[37m\u001b[0m \u001b[1m112s\u001b[0m 3s/step - AUC: 0.7267 - LogLoss: 0.4053 - loss: 0.4158 - regularization_loss: 0.0000e+00 - total_loss: 0.4158\n",
            "\u001b[1m363/363\u001b[0m \u001b[32m━━━━━━━━━━━━━━━━━━━━\u001b[0m\u001b[37m\u001b[0m \u001b[1m953s\u001b[0m 3s/step - AUC: 0.7430 - LogLoss: 0.4027 - loss: 0.4003 - regularization_loss: 0.0000e+00 - total_loss: 0.4003\n",
            "\u001b[1m43/43\u001b[0m \u001b[32m━━━━━━━━━━━━━━━━━━━━\u001b[0m\u001b[37m\u001b[0m \u001b[1m113s\u001b[0m 3s/step - AUC: 0.7283 - LogLoss: 0.4038 - loss: 0.4217 - regularization_loss: 0.0000e+00 - total_loss: 0.4217\n",
            "\u001b[1m363/363\u001b[0m \u001b[32m━━━━━━━━━━━━━━━━━━━━\u001b[0m\u001b[37m\u001b[0m \u001b[1m960s\u001b[0m 3s/step - AUC: 0.7414 - LogLoss: 0.4036 - loss: 0.4032 - regularization_loss: 0.0000e+00 - total_loss: 0.4032\n",
            "\u001b[1m43/43\u001b[0m \u001b[32m━━━━━━━━━━━━━━━━━━━━\u001b[0m\u001b[37m\u001b[0m \u001b[1m112s\u001b[0m 3s/step - AUC: 0.7186 - LogLoss: 0.4077 - loss: 0.4249 - regularization_loss: 0.0000e+00 - total_loss: 0.4249\n",
            "21th Epoch\n",
            "\u001b[1m363/363\u001b[0m \u001b[32m━━━━━━━━━━━━━━━━━━━━\u001b[0m\u001b[37m\u001b[0m \u001b[1m952s\u001b[0m 3s/step - AUC: 0.7201 - LogLoss: 0.4163 - loss: 0.4187 - regularization_loss: 0.0000e+00 - total_loss: 0.4187\n",
            "\u001b[1m43/43\u001b[0m \u001b[32m━━━━━━━━━━━━━━━━━━━━\u001b[0m\u001b[37m\u001b[0m \u001b[1m112s\u001b[0m 3s/step - AUC: 0.7308 - LogLoss: 0.4052 - loss: 0.4310 - regularization_loss: 0.0000e+00 - total_loss: 0.4310\n",
            "\u001b[1m363/363\u001b[0m \u001b[32m━━━━━━━━━━━━━━━━━━━━\u001b[0m\u001b[37m\u001b[0m \u001b[1m949s\u001b[0m 3s/step - AUC: 0.7367 - LogLoss: 0.4093 - loss: 0.4052 - regularization_loss: 0.0000e+00 - total_loss: 0.4052\n",
            "\u001b[1m43/43\u001b[0m \u001b[32m━━━━━━━━━━━━━━━━━━━━\u001b[0m\u001b[37m\u001b[0m \u001b[1m112s\u001b[0m 3s/step - AUC: 0.7240 - LogLoss: 0.4053 - loss: 0.4315 - regularization_loss: 0.0000e+00 - total_loss: 0.4315\n",
            "\u001b[1m363/363\u001b[0m \u001b[32m━━━━━━━━━━━━━━━━━━━━\u001b[0m\u001b[37m\u001b[0m \u001b[1m949s\u001b[0m 3s/step - AUC: 0.7438 - LogLoss: 0.4020 - loss: 0.4001 - regularization_loss: 0.0000e+00 - total_loss: 0.4001\n",
            "\u001b[1m43/43\u001b[0m \u001b[32m━━━━━━━━━━━━━━━━━━━━\u001b[0m\u001b[37m\u001b[0m \u001b[1m111s\u001b[0m 3s/step - AUC: 0.7223 - LogLoss: 0.4147 - loss: 0.4263 - regularization_loss: 0.0000e+00 - total_loss: 0.4263\n",
            "\u001b[1m363/363\u001b[0m \u001b[32m━━━━━━━━━━━━━━━━━━━━\u001b[0m\u001b[37m\u001b[0m \u001b[1m943s\u001b[0m 3s/step - AUC: 0.7423 - LogLoss: 0.4036 - loss: 0.4002 - regularization_loss: 0.0000e+00 - total_loss: 0.4002\n",
            "\u001b[1m43/43\u001b[0m \u001b[32m━━━━━━━━━━━━━━━━━━━━\u001b[0m\u001b[37m\u001b[0m \u001b[1m111s\u001b[0m 3s/step - AUC: 0.7322 - LogLoss: 0.4003 - loss: 0.4213 - regularization_loss: 0.0000e+00 - total_loss: 0.4213\n",
            "\u001b[1m363/363\u001b[0m \u001b[32m━━━━━━━━━━━━━━━━━━━━\u001b[0m\u001b[37m\u001b[0m \u001b[1m944s\u001b[0m 3s/step - AUC: 0.7214 - LogLoss: 0.4217 - loss: 0.4159 - regularization_loss: 0.0000e+00 - total_loss: 0.4159\n",
            "\u001b[1m43/43\u001b[0m \u001b[32m━━━━━━━━━━━━━━━━━━━━\u001b[0m\u001b[37m\u001b[0m \u001b[1m122s\u001b[0m 3s/step - AUC: 0.7344 - LogLoss: 0.3985 - loss: 0.4115 - regularization_loss: 0.0000e+00 - total_loss: 0.4115\n",
            "\u001b[1m363/363\u001b[0m \u001b[32m━━━━━━━━━━━━━━━━━━━━\u001b[0m\u001b[37m\u001b[0m \u001b[1m974s\u001b[0m 3s/step - AUC: 0.7414 - LogLoss: 0.4028 - loss: 0.4005 - regularization_loss: 0.0000e+00 - total_loss: 0.4005\n",
            "\u001b[1m43/43\u001b[0m \u001b[32m━━━━━━━━━━━━━━━━━━━━\u001b[0m\u001b[37m\u001b[0m \u001b[1m116s\u001b[0m 3s/step - AUC: 0.7210 - LogLoss: 0.4083 - loss: 0.4179 - regularization_loss: 0.0000e+00 - total_loss: 0.4179\n",
            "\u001b[1m363/363\u001b[0m \u001b[32m━━━━━━━━━━━━━━━━━━━━\u001b[0m\u001b[37m\u001b[0m \u001b[1m972s\u001b[0m 3s/step - AUC: 0.7240 - LogLoss: 0.4143 - loss: 0.4061 - regularization_loss: 0.0000e+00 - total_loss: 0.4061\n",
            "\u001b[1m43/43\u001b[0m \u001b[32m━━━━━━━━━━━━━━━━━━━━\u001b[0m\u001b[37m\u001b[0m \u001b[1m114s\u001b[0m 3s/step - AUC: 0.7320 - LogLoss: 0.4021 - loss: 0.4158 - regularization_loss: 0.0000e+00 - total_loss: 0.4158\n",
            "\u001b[1m363/363\u001b[0m \u001b[32m━━━━━━━━━━━━━━━━━━━━\u001b[0m\u001b[37m\u001b[0m \u001b[1m982s\u001b[0m 3s/step - AUC: 0.7440 - LogLoss: 0.4023 - loss: 0.4013 - regularization_loss: 0.0000e+00 - total_loss: 0.4013\n",
            "\u001b[1m43/43\u001b[0m \u001b[32m━━━━━━━━━━━━━━━━━━━━\u001b[0m\u001b[37m\u001b[0m \u001b[1m113s\u001b[0m 3s/step - AUC: 0.7240 - LogLoss: 0.4043 - loss: 0.4260 - regularization_loss: 0.0000e+00 - total_loss: 0.4260\n",
            "\u001b[1m363/363\u001b[0m \u001b[32m━━━━━━━━━━━━━━━━━━━━\u001b[0m\u001b[37m\u001b[0m \u001b[1m991s\u001b[0m 3s/step - AUC: 0.7453 - LogLoss: 0.4009 - loss: 0.3987 - regularization_loss: 0.0000e+00 - total_loss: 0.3987\n",
            "\u001b[1m43/43\u001b[0m \u001b[32m━━━━━━━━━━━━━━━━━━━━\u001b[0m\u001b[37m\u001b[0m \u001b[1m115s\u001b[0m 3s/step - AUC: 0.7337 - LogLoss: 0.3990 - loss: 0.4144 - regularization_loss: 0.0000e+00 - total_loss: 0.4144\n",
            "\u001b[1m363/363\u001b[0m \u001b[32m━━━━━━━━━━━━━━━━━━━━\u001b[0m\u001b[37m\u001b[0m \u001b[1m992s\u001b[0m 3s/step - AUC: 0.7466 - LogLoss: 0.4000 - loss: 0.3979 - regularization_loss: 0.0000e+00 - total_loss: 0.3979\n",
            "\u001b[1m43/43\u001b[0m \u001b[32m━━━━━━━━━━━━━━━━━━━━\u001b[0m\u001b[37m\u001b[0m \u001b[1m118s\u001b[0m 3s/step - AUC: 0.7354 - LogLoss: 0.3985 - loss: 0.4117 - regularization_loss: 0.0000e+00 - total_loss: 0.4117\n",
            "31th Epoch\n",
            "\u001b[1m363/363\u001b[0m \u001b[32m━━━━━━━━━━━━━━━━━━━━\u001b[0m\u001b[37m\u001b[0m \u001b[1m996s\u001b[0m 3s/step - AUC: 0.7490 - LogLoss: 0.3989 - loss: 0.3968 - regularization_loss: 0.0000e+00 - total_loss: 0.3968\n",
            "\u001b[1m43/43\u001b[0m \u001b[32m━━━━━━━━━━━━━━━━━━━━\u001b[0m\u001b[37m\u001b[0m \u001b[1m118s\u001b[0m 3s/step - AUC: 0.7342 - LogLoss: 0.3979 - loss: 0.4213 - regularization_loss: 0.0000e+00 - total_loss: 0.4213\n",
            "\u001b[1m363/363\u001b[0m \u001b[32m━━━━━━━━━━━━━━━━━━━━\u001b[0m\u001b[37m\u001b[0m \u001b[1m995s\u001b[0m 3s/step - AUC: 0.7496 - LogLoss: 0.3983 - loss: 0.3962 - regularization_loss: 0.0000e+00 - total_loss: 0.3962\n",
            "\u001b[1m43/43\u001b[0m \u001b[32m━━━━━━━━━━━━━━━━━━━━\u001b[0m\u001b[37m\u001b[0m \u001b[1m115s\u001b[0m 3s/step - AUC: 0.7333 - LogLoss: 0.4021 - loss: 0.4191 - regularization_loss: 0.0000e+00 - total_loss: 0.4191\n",
            "\u001b[1m363/363\u001b[0m \u001b[32m━━━━━━━━━━━━━━━━━━━━\u001b[0m\u001b[37m\u001b[0m \u001b[1m996s\u001b[0m 3s/step - AUC: 0.7426 - LogLoss: 0.4022 - loss: 0.3989 - regularization_loss: 0.0000e+00 - total_loss: 0.3989\n",
            "\u001b[1m43/43\u001b[0m \u001b[32m━━━━━━━━━━━━━━━━━━━━\u001b[0m\u001b[37m\u001b[0m \u001b[1m118s\u001b[0m 3s/step - AUC: 0.7372 - LogLoss: 0.4120 - loss: 0.4184 - regularization_loss: 0.0000e+00 - total_loss: 0.4184\n",
            "\u001b[1m363/363\u001b[0m \u001b[32m━━━━━━━━━━━━━━━━━━━━\u001b[0m\u001b[37m\u001b[0m \u001b[1m1015s\u001b[0m 3s/step - AUC: 0.7497 - LogLoss: 0.3987 - loss: 0.3961 - regularization_loss: 0.0000e+00 - total_loss: 0.3961\n",
            "\u001b[1m43/43\u001b[0m \u001b[32m━━━━━━━━━━━━━━━━━━━━\u001b[0m\u001b[37m\u001b[0m \u001b[1m118s\u001b[0m 3s/step - AUC: 0.7340 - LogLoss: 0.4031 - loss: 0.4296 - regularization_loss: 0.0000e+00 - total_loss: 0.4296\n",
            "\u001b[1m363/363\u001b[0m \u001b[32m━━━━━━━━━━━━━━━━━━━━\u001b[0m\u001b[37m\u001b[0m \u001b[1m1007s\u001b[0m 3s/step - AUC: 0.7472 - LogLoss: 0.4000 - loss: 0.3966 - regularization_loss: 0.0000e+00 - total_loss: 0.3966\n",
            "\u001b[1m43/43\u001b[0m \u001b[32m━━━━━━━━━━━━━━━━━━━━\u001b[0m\u001b[37m\u001b[0m \u001b[1m118s\u001b[0m 3s/step - AUC: 0.7408 - LogLoss: 0.3938 - loss: 0.4101 - regularization_loss: 0.0000e+00 - total_loss: 0.4101\n",
            "\u001b[1m363/363\u001b[0m \u001b[32m━━━━━━━━━━━━━━━━━━━━\u001b[0m\u001b[37m\u001b[0m \u001b[1m1003s\u001b[0m 3s/step - AUC: 0.7502 - LogLoss: 0.3979 - loss: 0.3966 - regularization_loss: 0.0000e+00 - total_loss: 0.3966\n",
            "\u001b[1m43/43\u001b[0m \u001b[32m━━━━━━━━━━━━━━━━━━━━\u001b[0m\u001b[37m\u001b[0m \u001b[1m119s\u001b[0m 3s/step - AUC: 0.7369 - LogLoss: 0.4003 - loss: 0.4251 - regularization_loss: 0.0000e+00 - total_loss: 0.4251\n",
            "\u001b[1m363/363\u001b[0m \u001b[32m━━━━━━━━━━━━━━━━━━━━\u001b[0m\u001b[37m\u001b[0m \u001b[1m1013s\u001b[0m 3s/step - AUC: 0.7512 - LogLoss: 0.3973 - loss: 0.3954 - regularization_loss: 0.0000e+00 - total_loss: 0.3954\n",
            "\u001b[1m43/43\u001b[0m \u001b[32m━━━━━━━━━━━━━━━━━━━━\u001b[0m\u001b[37m\u001b[0m \u001b[1m118s\u001b[0m 3s/step - AUC: 0.7373 - LogLoss: 0.3967 - loss: 0.4236 - regularization_loss: 0.0000e+00 - total_loss: 0.4236\n",
            "\u001b[1m363/363\u001b[0m \u001b[32m━━━━━━━━━━━━━━━━━━━━\u001b[0m\u001b[37m\u001b[0m \u001b[1m1019s\u001b[0m 3s/step - AUC: 0.7369 - LogLoss: 0.4064 - loss: 0.4010 - regularization_loss: 0.0000e+00 - total_loss: 0.4010\n",
            "\u001b[1m43/43\u001b[0m \u001b[32m━━━━━━━━━━━━━━━━━━━━\u001b[0m\u001b[37m\u001b[0m \u001b[1m120s\u001b[0m 3s/step - AUC: 0.7366 - LogLoss: 0.4281 - loss: 0.4244 - regularization_loss: 0.0000e+00 - total_loss: 0.4244\n",
            "\u001b[1m363/363\u001b[0m \u001b[32m━━━━━━━━━━━━━━━━━━━━\u001b[0m\u001b[37m\u001b[0m \u001b[1m1013s\u001b[0m 3s/step - AUC: 0.7498 - LogLoss: 0.3987 - loss: 0.3959 - regularization_loss: 0.0000e+00 - total_loss: 0.3959\n",
            "\u001b[1m43/43\u001b[0m \u001b[32m━━━━━━━━━━━━━━━━━━━━\u001b[0m\u001b[37m\u001b[0m \u001b[1m121s\u001b[0m 3s/step - AUC: 0.7395 - LogLoss: 0.4017 - loss: 0.4129 - regularization_loss: 0.0000e+00 - total_loss: 0.4129\n",
            "\u001b[1m363/363\u001b[0m \u001b[32m━━━━━━━━━━━━━━━━━━━━\u001b[0m\u001b[37m\u001b[0m \u001b[1m1024s\u001b[0m 3s/step - AUC: 0.7509 - LogLoss: 0.3978 - loss: 0.3963 - regularization_loss: 0.0000e+00 - total_loss: 0.3963\n",
            "\u001b[1m43/43\u001b[0m \u001b[32m━━━━━━━━━━━━━━━━━━━━\u001b[0m\u001b[37m\u001b[0m \u001b[1m121s\u001b[0m 3s/step - AUC: 0.7411 - LogLoss: 0.3986 - loss: 0.4101 - regularization_loss: 0.0000e+00 - total_loss: 0.4101\n",
            "41th Epoch\n",
            "\u001b[1m363/363\u001b[0m \u001b[32m━━━━━━━━━━━━━━━━━━━━\u001b[0m\u001b[37m\u001b[0m \u001b[1m1017s\u001b[0m 3s/step - AUC: 0.7515 - LogLoss: 0.3974 - loss: 0.3949 - regularization_loss: 0.0000e+00 - total_loss: 0.3949\n",
            "\u001b[1m43/43\u001b[0m \u001b[32m━━━━━━━━━━━━━━━━━━━━\u001b[0m\u001b[37m\u001b[0m \u001b[1m119s\u001b[0m 3s/step - AUC: 0.7419 - LogLoss: 0.3947 - loss: 0.4200 - regularization_loss: 0.0000e+00 - total_loss: 0.4200\n",
            "\u001b[1m363/363\u001b[0m \u001b[32m━━━━━━━━━━━━━━━━━━━━\u001b[0m\u001b[37m\u001b[0m \u001b[1m1021s\u001b[0m 3s/step - AUC: 0.7527 - LogLoss: 0.3966 - loss: 0.3943 - regularization_loss: 0.0000e+00 - total_loss: 0.3943\n",
            "\u001b[1m43/43\u001b[0m \u001b[32m━━━━━━━━━━━━━━━━━━━━\u001b[0m\u001b[37m\u001b[0m \u001b[1m119s\u001b[0m 3s/step - AUC: 0.7406 - LogLoss: 0.3979 - loss: 0.4132 - regularization_loss: 0.0000e+00 - total_loss: 0.4132\n",
            "\u001b[1m363/363\u001b[0m \u001b[32m━━━━━━━━━━━━━━━━━━━━\u001b[0m\u001b[37m\u001b[0m \u001b[1m1011s\u001b[0m 3s/step - AUC: 0.7514 - LogLoss: 0.3971 - loss: 0.3959 - regularization_loss: 0.0000e+00 - total_loss: 0.3959\n",
            "\u001b[1m43/43\u001b[0m \u001b[32m━━━━━━━━━━━━━━━━━━━━\u001b[0m\u001b[37m\u001b[0m \u001b[1m119s\u001b[0m 3s/step - AUC: 0.7392 - LogLoss: 0.4252 - loss: 0.4279 - regularization_loss: 0.0000e+00 - total_loss: 0.4279\n",
            "\u001b[1m363/363\u001b[0m \u001b[32m━━━━━━━━━━━━━━━━━━━━\u001b[0m\u001b[37m\u001b[0m \u001b[1m1003s\u001b[0m 3s/step - AUC: 0.7488 - LogLoss: 0.4029 - loss: 0.3976 - regularization_loss: 0.0000e+00 - total_loss: 0.3976\n",
            "\u001b[1m43/43\u001b[0m \u001b[32m━━━━━━━━━━━━━━━━━━━━\u001b[0m\u001b[37m\u001b[0m \u001b[1m119s\u001b[0m 3s/step - AUC: 0.7386 - LogLoss: 0.4004 - loss: 0.4306 - regularization_loss: 0.0000e+00 - total_loss: 0.4306\n",
            "\u001b[1m363/363\u001b[0m \u001b[32m━━━━━━━━━━━━━━━━━━━━\u001b[0m\u001b[37m\u001b[0m \u001b[1m1034s\u001b[0m 3s/step - AUC: 0.7511 - LogLoss: 0.3976 - loss: 0.3952 - regularization_loss: 0.0000e+00 - total_loss: 0.3952\n",
            "\u001b[1m43/43\u001b[0m \u001b[32m━━━━━━━━━━━━━━━━━━━━\u001b[0m\u001b[37m\u001b[0m \u001b[1m122s\u001b[0m 3s/step - AUC: 0.7433 - LogLoss: 0.3973 - loss: 0.4341 - regularization_loss: 0.0000e+00 - total_loss: 0.4341\n",
            "\u001b[1m363/363\u001b[0m \u001b[32m━━━━━━━━━━━━━━━━━━━━\u001b[0m\u001b[37m\u001b[0m \u001b[1m1028s\u001b[0m 3s/step - AUC: 0.7517 - LogLoss: 0.3974 - loss: 0.3944 - regularization_loss: 0.0000e+00 - total_loss: 0.3944\n",
            "\u001b[1m43/43\u001b[0m \u001b[32m━━━━━━━━━━━━━━━━━━━━\u001b[0m\u001b[37m\u001b[0m \u001b[1m119s\u001b[0m 3s/step - AUC: 0.7435 - LogLoss: 0.3960 - loss: 0.4234 - regularization_loss: 0.0000e+00 - total_loss: 0.4234\n",
            "\u001b[1m363/363\u001b[0m \u001b[32m━━━━━━━━━━━━━━━━━━━━\u001b[0m\u001b[37m\u001b[0m \u001b[1m1025s\u001b[0m 3s/step - AUC: 0.7532 - LogLoss: 0.3964 - loss: 0.3956 - regularization_loss: 0.0000e+00 - total_loss: 0.3956\n",
            "\u001b[1m43/43\u001b[0m \u001b[32m━━━━━━━━━━━━━━━━━━━━\u001b[0m\u001b[37m\u001b[0m \u001b[1m120s\u001b[0m 3s/step - AUC: 0.7316 - LogLoss: 0.4105 - loss: 0.4297 - regularization_loss: 0.0000e+00 - total_loss: 0.4297\n",
            "\u001b[1m363/363\u001b[0m \u001b[32m━━━━━━━━━━━━━━━━━━━━\u001b[0m\u001b[37m\u001b[0m \u001b[1m1016s\u001b[0m 3s/step - AUC: 0.7446 - LogLoss: 0.4026 - loss: 0.3992 - regularization_loss: 0.0000e+00 - total_loss: 0.3992\n",
            "\u001b[1m43/43\u001b[0m \u001b[32m━━━━━━━━━━━━━━━━━━━━\u001b[0m\u001b[37m\u001b[0m \u001b[1m120s\u001b[0m 3s/step - AUC: 0.7423 - LogLoss: 0.3998 - loss: 0.4134 - regularization_loss: 0.0000e+00 - total_loss: 0.4134\n",
            "\u001b[1m363/363\u001b[0m \u001b[32m━━━━━━━━━━━━━━━━━━━━\u001b[0m\u001b[37m\u001b[0m \u001b[1m1018s\u001b[0m 3s/step - AUC: 0.7506 - LogLoss: 0.3981 - loss: 0.3973 - regularization_loss: 0.0000e+00 - total_loss: 0.3973\n",
            "\u001b[1m43/43\u001b[0m \u001b[32m━━━━━━━━━━━━━━━━━━━━\u001b[0m\u001b[37m\u001b[0m \u001b[1m119s\u001b[0m 3s/step - AUC: 0.7381 - LogLoss: 0.4003 - loss: 0.4135 - regularization_loss: 0.0000e+00 - total_loss: 0.4135\n",
            "\u001b[1m363/363\u001b[0m \u001b[32m━━━━━━━━━━━━━━━━━━━━\u001b[0m\u001b[37m\u001b[0m \u001b[1m1023s\u001b[0m 3s/step - AUC: 0.6111 - LogLoss: 0.5149 - loss: 0.5046 - regularization_loss: 0.0000e+00 - total_loss: 0.5046\n",
            "\u001b[1m43/43\u001b[0m \u001b[32m━━━━━━━━━━━━━━━━━━━━\u001b[0m\u001b[37m\u001b[0m \u001b[1m119s\u001b[0m 3s/step - AUC: 0.6323 - LogLoss: 0.4761 - loss: 0.4879 - regularization_loss: 0.0000e+00 - total_loss: 0.4879\n",
            "1th Epoch\n",
            "\u001b[1m363/363\u001b[0m \u001b[32m━━━━━━━━━━━━━━━━━━━━\u001b[0m\u001b[37m\u001b[0m \u001b[1m1017s\u001b[0m 3s/step - AUC: 0.6510 - LogLoss: 0.4682 - loss: 0.4741 - regularization_loss: 0.0000e+00 - total_loss: 0.4741\n",
            "\u001b[1m43/43\u001b[0m \u001b[32m━━━━━━━━━━━━━━━━━━━━\u001b[0m\u001b[37m\u001b[0m \u001b[1m120s\u001b[0m 3s/step - AUC: 0.6158 - LogLoss: 0.5534 - loss: 0.5267 - regularization_loss: 0.0000e+00 - total_loss: 0.5267\n",
            "\u001b[1m363/363\u001b[0m \u001b[32m━━━━━━━━━━━━━━━━━━━━\u001b[0m\u001b[37m\u001b[0m \u001b[1m1017s\u001b[0m 3s/step - AUC: 0.6748 - LogLoss: 0.4461 - loss: 0.4388 - regularization_loss: 0.0000e+00 - total_loss: 0.4388\n",
            "\u001b[1m43/43\u001b[0m \u001b[32m━━━━━━━━━━━━━━━━━━━━\u001b[0m\u001b[37m\u001b[0m \u001b[1m119s\u001b[0m 3s/step - AUC: 0.6572 - LogLoss: 0.4644 - loss: 0.4482 - regularization_loss: 0.0000e+00 - total_loss: 0.4482\n",
            "\u001b[1m363/363\u001b[0m \u001b[32m━━━━━━━━━━━━━━━━━━━━\u001b[0m\u001b[37m\u001b[0m \u001b[1m1019s\u001b[0m 3s/step - AUC: 0.6898 - LogLoss: 0.4402 - loss: 0.4340 - regularization_loss: 0.0000e+00 - total_loss: 0.4340\n",
            "\u001b[1m43/43\u001b[0m \u001b[32m━━━━━━━━━━━━━━━━━━━━\u001b[0m\u001b[37m\u001b[0m \u001b[1m120s\u001b[0m 3s/step - AUC: 0.7137 - LogLoss: 0.4219 - loss: 0.4291 - regularization_loss: 0.0000e+00 - total_loss: 0.4291\n",
            "\u001b[1m363/363\u001b[0m \u001b[32m━━━━━━━━━━━━━━━━━━━━\u001b[0m\u001b[37m\u001b[0m \u001b[1m1024s\u001b[0m 3s/step - AUC: 0.7163 - LogLoss: 0.4209 - loss: 0.4201 - regularization_loss: 0.0000e+00 - total_loss: 0.4201\n",
            "\u001b[1m43/43\u001b[0m \u001b[32m━━━━━━━━━━━━━━━━━━━━\u001b[0m\u001b[37m\u001b[0m \u001b[1m121s\u001b[0m 3s/step - AUC: 0.7140 - LogLoss: 0.4097 - loss: 0.4216 - regularization_loss: 0.0000e+00 - total_loss: 0.4216\n",
            "\u001b[1m363/363\u001b[0m \u001b[32m━━━━━━━━━━━━━━━━━━━━\u001b[0m\u001b[37m\u001b[0m \u001b[1m1018s\u001b[0m 3s/step - AUC: 0.6511 - LogLoss: 0.4961 - loss: 0.5097 - regularization_loss: 0.0000e+00 - total_loss: 0.5097\n",
            "\u001b[1m43/43\u001b[0m \u001b[32m━━━━━━━━━━━━━━━━━━━━\u001b[0m\u001b[37m\u001b[0m \u001b[1m120s\u001b[0m 3s/step - AUC: 0.6520 - LogLoss: 0.5035 - loss: 0.4667 - regularization_loss: 0.0000e+00 - total_loss: 0.4667\n",
            "\u001b[1m363/363\u001b[0m \u001b[32m━━━━━━━━━━━━━━━━━━━━\u001b[0m\u001b[37m\u001b[0m \u001b[1m1023s\u001b[0m 3s/step - AUC: 0.6713 - LogLoss: 0.4654 - loss: 0.4430 - regularization_loss: 0.0000e+00 - total_loss: 0.4430\n",
            "\u001b[1m43/43\u001b[0m \u001b[32m━━━━━━━━━━━━━━━━━━━━\u001b[0m\u001b[37m\u001b[0m \u001b[1m120s\u001b[0m 3s/step - AUC: 0.7045 - LogLoss: 0.4767 - loss: 0.4569 - regularization_loss: 0.0000e+00 - total_loss: 0.4569\n",
            "\u001b[1m363/363\u001b[0m \u001b[32m━━━━━━━━━━━━━━━━━━━━\u001b[0m\u001b[37m\u001b[0m \u001b[1m1013s\u001b[0m 3s/step - AUC: 0.7110 - LogLoss: 0.4238 - loss: 0.4428 - regularization_loss: 0.0000e+00 - total_loss: 0.4428\n",
            "\u001b[1m43/43\u001b[0m \u001b[32m━━━━━━━━━━━━━━━━━━━━\u001b[0m\u001b[37m\u001b[0m \u001b[1m121s\u001b[0m 3s/step - AUC: 0.7218 - LogLoss: 0.5266 - loss: 0.5083 - regularization_loss: 0.0000e+00 - total_loss: 0.5083\n",
            "\u001b[1m363/363\u001b[0m \u001b[32m━━━━━━━━━━━━━━━━━━━━\u001b[0m\u001b[37m\u001b[0m \u001b[1m1007s\u001b[0m 3s/step - AUC: 0.6483 - LogLoss: 0.4910 - loss: 0.5145 - regularization_loss: 0.0000e+00 - total_loss: 0.5145\n",
            "\u001b[1m43/43\u001b[0m \u001b[32m━━━━━━━━━━━━━━━━━━━━\u001b[0m\u001b[37m\u001b[0m \u001b[1m118s\u001b[0m 3s/step - AUC: 0.6564 - LogLoss: 1.0806 - loss: 0.8623 - regularization_loss: 0.0000e+00 - total_loss: 0.8623\n",
            "\u001b[1m363/363\u001b[0m \u001b[32m━━━━━━━━━━━━━━━━━━━━\u001b[0m\u001b[37m\u001b[0m \u001b[1m1016s\u001b[0m 3s/step - AUC: 0.6511 - LogLoss: 0.4909 - loss: 0.4496 - regularization_loss: 0.0000e+00 - total_loss: 0.4496\n",
            "\u001b[1m43/43\u001b[0m \u001b[32m━━━━━━━━━━━━━━━━━━━━\u001b[0m\u001b[37m\u001b[0m \u001b[1m120s\u001b[0m 3s/step - AUC: 0.6601 - LogLoss: 0.4679 - loss: 0.4771 - regularization_loss: 0.0000e+00 - total_loss: 0.4771\n",
            "\u001b[1m363/363\u001b[0m \u001b[32m━━━━━━━━━━━━━━━━━━━━\u001b[0m\u001b[37m\u001b[0m \u001b[1m1018s\u001b[0m 3s/step - AUC: 0.7077 - LogLoss: 0.4221 - loss: 0.4183 - regularization_loss: 0.0000e+00 - total_loss: 0.4183\n",
            "\u001b[1m43/43\u001b[0m \u001b[32m━━━━━━━━━━━━━━━━━━━━\u001b[0m\u001b[37m\u001b[0m \u001b[1m119s\u001b[0m 3s/step - AUC: 0.7142 - LogLoss: 0.4389 - loss: 0.4383 - regularization_loss: 0.0000e+00 - total_loss: 0.4383\n",
            "11th Epoch\n",
            "\u001b[1m363/363\u001b[0m \u001b[32m━━━━━━━━━━━━━━━━━━━━\u001b[0m\u001b[37m\u001b[0m \u001b[1m1016s\u001b[0m 3s/step - AUC: 0.7032 - LogLoss: 0.4267 - loss: 0.4228 - regularization_loss: 0.0000e+00 - total_loss: 0.4228\n",
            "\u001b[1m43/43\u001b[0m \u001b[32m━━━━━━━━━━━━━━━━━━━━\u001b[0m\u001b[37m\u001b[0m \u001b[1m118s\u001b[0m 3s/step - AUC: 0.7003 - LogLoss: 0.4334 - loss: 0.4392 - regularization_loss: 0.0000e+00 - total_loss: 0.4392\n",
            "\u001b[1m363/363\u001b[0m \u001b[32m━━━━━━━━━━━━━━━━━━━━\u001b[0m\u001b[37m\u001b[0m \u001b[1m1029s\u001b[0m 3s/step - AUC: 0.7232 - LogLoss: 0.4161 - loss: 0.4128 - regularization_loss: 0.0000e+00 - total_loss: 0.4128\n",
            "\u001b[1m43/43\u001b[0m \u001b[32m━━━━━━━━━━━━━━━━━━━━\u001b[0m\u001b[37m\u001b[0m \u001b[1m122s\u001b[0m 3s/step - AUC: 0.7294 - LogLoss: 0.4087 - loss: 0.4157 - regularization_loss: 0.0000e+00 - total_loss: 0.4157\n",
            "\u001b[1m363/363\u001b[0m \u001b[32m━━━━━━━━━━━━━━━━━━━━\u001b[0m\u001b[37m\u001b[0m \u001b[1m1052s\u001b[0m 3s/step - AUC: 0.7241 - LogLoss: 0.4140 - loss: 0.4168 - regularization_loss: 0.0000e+00 - total_loss: 0.4168\n",
            "\u001b[1m43/43\u001b[0m \u001b[32m━━━━━━━━━━━━━━━━━━━━\u001b[0m\u001b[37m\u001b[0m \u001b[1m120s\u001b[0m 3s/step - AUC: 0.7238 - LogLoss: 0.4158 - loss: 0.4267 - regularization_loss: 0.0000e+00 - total_loss: 0.4267\n",
            "\u001b[1m363/363\u001b[0m \u001b[32m━━━━━━━━━━━━━━━━━━━━\u001b[0m\u001b[37m\u001b[0m \u001b[1m1042s\u001b[0m 3s/step - AUC: 0.7276 - LogLoss: 0.4150 - loss: 0.4152 - regularization_loss: 0.0000e+00 - total_loss: 0.4152\n",
            "\u001b[1m43/43\u001b[0m \u001b[32m━━━━━━━━━━━━━━━━━━━━\u001b[0m\u001b[37m\u001b[0m \u001b[1m128s\u001b[0m 3s/step - AUC: 0.7282 - LogLoss: 0.4202 - loss: 0.4203 - regularization_loss: 0.0000e+00 - total_loss: 0.4203\n",
            "\u001b[1m363/363\u001b[0m \u001b[32m━━━━━━━━━━━━━━━━━━━━\u001b[0m\u001b[37m\u001b[0m \u001b[1m1070s\u001b[0m 3s/step - AUC: 0.7064 - LogLoss: 0.4626 - loss: 0.4559 - regularization_loss: 0.0000e+00 - total_loss: 0.4559\n",
            "\u001b[1m43/43\u001b[0m \u001b[32m━━━━━━━━━━━━━━━━━━━━\u001b[0m\u001b[37m\u001b[0m \u001b[1m123s\u001b[0m 3s/step - AUC: 0.7252 - LogLoss: 0.4124 - loss: 0.4356 - regularization_loss: 0.0000e+00 - total_loss: 0.4356\n",
            "\u001b[1m363/363\u001b[0m \u001b[32m━━━━━━━━━━━━━━━━━━━━\u001b[0m\u001b[37m\u001b[0m \u001b[1m1060s\u001b[0m 3s/step - AUC: 0.7176 - LogLoss: 0.4172 - loss: 0.4185 - regularization_loss: 0.0000e+00 - total_loss: 0.4185\n",
            "\u001b[1m43/43\u001b[0m \u001b[32m━━━━━━━━━━━━━━━━━━━━\u001b[0m\u001b[37m\u001b[0m \u001b[1m123s\u001b[0m 3s/step - AUC: 0.7241 - LogLoss: 0.4233 - loss: 0.4368 - regularization_loss: 0.0000e+00 - total_loss: 0.4368\n",
            "\u001b[1m363/363\u001b[0m \u001b[32m━━━━━━━━━━━━━━━━━━━━\u001b[0m\u001b[37m\u001b[0m \u001b[1m1053s\u001b[0m 3s/step - AUC: 0.7217 - LogLoss: 0.4173 - loss: 0.4151 - regularization_loss: 0.0000e+00 - total_loss: 0.4151\n",
            "\u001b[1m43/43\u001b[0m \u001b[32m━━━━━━━━━━━━━━━━━━━━\u001b[0m\u001b[37m\u001b[0m \u001b[1m123s\u001b[0m 3s/step - AUC: 0.7287 - LogLoss: 0.4085 - loss: 0.4202 - regularization_loss: 0.0000e+00 - total_loss: 0.4202\n",
            "\u001b[1m363/363\u001b[0m \u001b[32m━━━━━━━━━━━━━━━━━━━━\u001b[0m\u001b[37m\u001b[0m \u001b[1m1056s\u001b[0m 3s/step - AUC: 0.7290 - LogLoss: 0.4126 - loss: 0.4083 - regularization_loss: 0.0000e+00 - total_loss: 0.4083\n",
            "\u001b[1m43/43\u001b[0m \u001b[32m━━━━━━━━━━━━━━━━━━━━\u001b[0m\u001b[37m\u001b[0m \u001b[1m123s\u001b[0m 3s/step - AUC: 0.7396 - LogLoss: 0.4200 - loss: 0.4250 - regularization_loss: 0.0000e+00 - total_loss: 0.4250\n",
            "\u001b[1m363/363\u001b[0m \u001b[32m━━━━━━━━━━━━━━━━━━━━\u001b[0m\u001b[37m\u001b[0m \u001b[1m1058s\u001b[0m 3s/step - AUC: 0.7380 - LogLoss: 0.4062 - loss: 0.4045 - regularization_loss: 0.0000e+00 - total_loss: 0.4045\n",
            "\u001b[1m43/43\u001b[0m \u001b[32m━━━━━━━━━━━━━━━━━━━━\u001b[0m\u001b[37m\u001b[0m \u001b[1m124s\u001b[0m 3s/step - AUC: 0.7331 - LogLoss: 0.4099 - loss: 0.4134 - regularization_loss: 0.0000e+00 - total_loss: 0.4134\n",
            "\u001b[1m363/363\u001b[0m \u001b[32m━━━━━━━━━━━━━━━━━━━━\u001b[0m\u001b[37m\u001b[0m \u001b[1m1064s\u001b[0m 3s/step - AUC: 0.7376 - LogLoss: 0.4107 - loss: 0.4041 - regularization_loss: 0.0000e+00 - total_loss: 0.4041\n",
            "\u001b[1m43/43\u001b[0m \u001b[32m━━━━━━━━━━━━━━━━━━━━\u001b[0m\u001b[37m\u001b[0m \u001b[1m124s\u001b[0m 3s/step - AUC: 0.7348 - LogLoss: 0.4235 - loss: 0.4271 - regularization_loss: 0.0000e+00 - total_loss: 0.4271\n",
            "21th Epoch\n",
            "\u001b[1m363/363\u001b[0m \u001b[32m━━━━━━━━━━━━━━━━━━━━\u001b[0m\u001b[37m\u001b[0m \u001b[1m1061s\u001b[0m 3s/step - AUC: 0.7367 - LogLoss: 0.4069 - loss: 0.4038 - regularization_loss: 0.0000e+00 - total_loss: 0.4038\n",
            "\u001b[1m43/43\u001b[0m \u001b[32m━━━━━━━━━━━━━━━━━━━━\u001b[0m\u001b[37m\u001b[0m \u001b[1m125s\u001b[0m 3s/step - AUC: 0.7403 - LogLoss: 0.4002 - loss: 0.4110 - regularization_loss: 0.0000e+00 - total_loss: 0.4110\n",
            "    296/Unknown \u001b[1m866s\u001b[0m 3s/step - AUC: 0.7382 - LogLoss: 0.4062 - loss: 0.4098 - regularization_loss: 0.0000e+00 - total_loss: 0.4098"
          ]
        }
      ],
      "source": [
        "node, deep_layer, cross_layer = 1024, 4, 1\n",
        "print(\"Node: {}, Deep Layer : {}, Cross Layer : {}\".format(node, deep_layer, cross_layer))\n",
        "\n",
        "fitting_history = run_models.run_models(\n",
        "    dcn_parallel=DCN_PARALLEL,\n",
        "    cross_layer_size=cross_layer,\n",
        "    deep_layer_sizes=[node]*deep_layer,\n",
        "    vocabularies=vocabularies,\n",
        "    str_features=str_features,\n",
        "    int_features=int_features,\n",
        "    train=train_batches,\n",
        "    test=test,\n",
        "    learning_rate=LEARNING_RATE,\n",
        "    epochs=FITTING_EPOCHS,\n",
        "    history_file_dir=HISTORY_FILE_DIR,\n",
        "    history_file_name=HISTORY_FILE_NAME\n",
        "    )"
      ]
    },
    {
      "cell_type": "code",
      "execution_count": null,
      "metadata": {
        "id": "0zFNP4QvWqpL"
      },
      "outputs": [],
      "source": [
        "import pickle\n",
        "with open(HISTORY_FILE_PATH, 'wb') as f:\n",
        "    pickle.dump(fitting_history, f)"
      ]
    },
    {
      "cell_type": "code",
      "execution_count": null,
      "metadata": {
        "id": "yppQjxOwWrk6"
      },
      "outputs": [],
      "source": []
    }
  ],
  "metadata": {
    "accelerator": "GPU",
    "colab": {
      "gpuType": "T4",
      "machine_shape": "hm",
      "provenance": []
    },
    "kernelspec": {
      "display_name": "Python 3",
      "name": "python3"
    },
    "language_info": {
      "name": "python"
    }
  },
  "nbformat": 4,
  "nbformat_minor": 0
}