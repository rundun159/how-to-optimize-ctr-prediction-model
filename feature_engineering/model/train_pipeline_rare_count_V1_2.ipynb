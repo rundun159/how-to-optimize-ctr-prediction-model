{
  "cells": [
    {
      "cell_type": "code",
      "execution_count": null,
      "metadata": {
        "colab": {
          "base_uri": "https://localhost:8080/"
        },
        "id": "UiV_OVyOy8vL",
        "outputId": "fe40a066-7a5f-42ec-9d35-603d701b0896"
      },
      "outputs": [
        {
          "name": "stdout",
          "output_type": "stream",
          "text": [
            "\u001b[?25l   \u001b[90m━━━━━━━━━━━━━━━━━━━━━━━━━━━━━━━━━━━━━━━━\u001b[0m \u001b[32m0.0/96.2 kB\u001b[0m \u001b[31m?\u001b[0m eta \u001b[36m-:--:--\u001b[0m\r\u001b[2K   \u001b[90m━━━━━━━━━━━━━━━━━━━━━━━━━━━━━━━━━━━━━━━━\u001b[0m \u001b[32m96.2/96.2 kB\u001b[0m \u001b[31m6.2 MB/s\u001b[0m eta \u001b[36m0:00:00\u001b[0m\n",
            "\u001b[?25h"
          ]
        }
      ],
      "source": [
        "!pip install -q tensorflow-recommenders\n",
        "!pip install -q --upgrade tensorflow-datasets"
      ]
    },
    {
      "cell_type": "code",
      "execution_count": null,
      "metadata": {
        "id": "d873gYbD0CGF"
      },
      "outputs": [],
      "source": [
        "import pprint\n",
        "\n",
        "%matplotlib inline\n",
        "import matplotlib.pyplot as plt\n",
        "from mpl_toolkits.axes_grid1 import make_axes_locatable\n",
        "\n",
        "import numpy as np\n",
        "import tensorflow as tf\n",
        "import tensorflow_datasets as tfds\n",
        "\n",
        "import tensorflow_recommenders as tfrs"
      ]
    },
    {
      "cell_type": "code",
      "execution_count": null,
      "metadata": {
        "id": "8oRrlXZI0ETP"
      },
      "outputs": [],
      "source": [
        "# import packages\n",
        "import pandas as pd\n",
        "import seaborn as sns\n",
        "import matplotlib.pyplot as plt\n",
        "import random\n",
        "import sys\n",
        "import csv\n",
        "import gzip\n",
        "import copy\n",
        "import datetime\n",
        "import pickle\n",
        "from sklearn import metrics\n",
        "from tabulate import tabulate"
      ]
    },
    {
      "cell_type": "code",
      "execution_count": null,
      "metadata": {
        "id": "tIqMLfCl0K2k"
      },
      "outputs": [],
      "source": [
        "seed_value = 42  # seed for reproducibility\n",
        "random.seed(seed_value)"
      ]
    },
    {
      "cell_type": "code",
      "execution_count": null,
      "metadata": {
        "colab": {
          "base_uri": "https://localhost:8080/"
        },
        "id": "mtzzM19O0ZKB",
        "outputId": "ac77cda4-5c22-4988-e912-b3d53369241b"
      },
      "outputs": [
        {
          "name": "stdout",
          "output_type": "stream",
          "text": [
            "Mounted at /content/drive\n"
          ]
        }
      ],
      "source": [
        "from google.colab import drive\n",
        "drive.mount('/content/drive')"
      ]
    },
    {
      "cell_type": "code",
      "execution_count": null,
      "metadata": {
        "id": "l_8Fpg8C9LZS"
      },
      "outputs": [],
      "source": [
        "sys.path.append('/content/drive/MyDrive/ctr/code/model')"
      ]
    },
    {
      "cell_type": "code",
      "execution_count": null,
      "metadata": {
        "id": "DEaL_7Vy9YD2"
      },
      "outputs": [],
      "source": [
        "import dcn\n",
        "import run_models"
      ]
    },
    {
      "cell_type": "code",
      "execution_count": null,
      "metadata": {
        "id": "PR_SHlAlw3NJ"
      },
      "outputs": [],
      "source": [
        "BATCH_SIZE = 100000\n",
        "SHUFFLE_BUFFER_SIZE = 10000\n",
        "SHUFFLE_SEED = 42\n",
        "DATASET_EPOCHS = 1\n",
        "FITTING_EPOCHS = 50\n",
        "LEARNING_RATE = 0.0001\n",
        "DCN_PARALLEL = True\n",
        "STR_COLUMNS = [\n",
        "    'click', 'banner_pos',\n",
        "    'site_id', 'site_domain', 'site_category',\n",
        "    'app_id', 'app_domain', 'app_category',\n",
        "    'device_id', 'device_ip', 'device_model', 'device_type', 'device_conn_type',\n",
        "    'C1', 'C14', 'C15', 'C16', 'C17', 'C18', 'C19', 'C20', 'C21',\n",
        "    'day_of_week'\n",
        "    ]\n",
        "INT_COLUMNS = [\n",
        "    'hour_of_day', 'rare count'\n",
        "]\n",
        "COLUMN_DEFAULTS = [tf.string] * (len(STR_COLUMNS) -1) + [tf.float32] + [tf.string] * 1 + [tf.float32]"
      ]
    },
    {
      "cell_type": "code",
      "execution_count": null,
      "metadata": {
        "id": "gIoZoTFOSxbt"
      },
      "outputs": [],
      "source": [
        "# column_defaults를 원본 CSV File의 Column 순서로 인식한다"
      ]
    },
    {
      "cell_type": "code",
      "execution_count": null,
      "metadata": {
        "id": "AMmCSs0MxEBN"
      },
      "outputs": [],
      "source": [
        "TRAIN_FILE = '/content/drive/MyDrive/ctr/avazu/processed/train/train_rare_count.csv'\n",
        "train_batches = tf.data.experimental.make_csv_dataset(\n",
        "    TRAIN_FILE,\n",
        "    batch_size=BATCH_SIZE,\n",
        "    select_columns= STR_COLUMNS + INT_COLUMNS,\n",
        "    column_defaults=COLUMN_DEFAULTS,\n",
        "    shuffle=True, shuffle_buffer_size=SHUFFLE_BUFFER_SIZE, shuffle_seed=SHUFFLE_SEED,\n",
        "    num_epochs=DATASET_EPOCHS\n",
        ")"
      ]
    },
    {
      "cell_type": "code",
      "execution_count": null,
      "metadata": {
        "id": "JV6KkFW_7TMC"
      },
      "outputs": [],
      "source": [
        "TEST_FILE = '/content/drive/MyDrive/ctr/avazu/processed/train/test_rare_count.csv'\n",
        "test = tf.data.experimental.make_csv_dataset(\n",
        "    TEST_FILE,\n",
        "    batch_size=BATCH_SIZE,\n",
        "    select_columns= STR_COLUMNS + INT_COLUMNS,\n",
        "    column_defaults=COLUMN_DEFAULTS,\n",
        "    num_epochs=DATASET_EPOCHS\n",
        ")"
      ]
    },
    {
      "cell_type": "code",
      "execution_count": null,
      "metadata": {
        "id": "Y6RrztcX7q25"
      },
      "outputs": [],
      "source": [
        "import pickle\n",
        "with open('/content/drive/MyDrive/ctr/data/total_voca.p', 'rb') as f:\n",
        "    total_voca = pickle.load(f)"
      ]
    },
    {
      "cell_type": "code",
      "execution_count": null,
      "metadata": {
        "id": "UDgg_IUVAE5R"
      },
      "outputs": [],
      "source": [
        "with open('/content/drive/MyDrive/ctr/data/one_hot_encoding_voca.p', 'rb') as f:\n",
        "    one_hot_encoding_voca = pickle.load(f)"
      ]
    },
    {
      "cell_type": "code",
      "execution_count": null,
      "metadata": {
        "id": "vhS3Zlc_HxZe"
      },
      "outputs": [],
      "source": [
        "one_hot_encoding_voca['day_of_week'] = ['Tuesday', 'Wednesday', 'Thursday', 'Friday', 'Saturday', 'Sunday',\n",
        "       'Monday']"
      ]
    },
    {
      "cell_type": "code",
      "execution_count": null,
      "metadata": {
        "id": "VoLF_VKb7_pj"
      },
      "outputs": [],
      "source": [
        "FEATURE_ENGINEERING = {\n",
        "    'one-hot encoding' : ['site_category', 'app_category', 'device_type', 'C1', 'C15', 'C16', 'C18', 'C21', 'day_of_week'],\n",
        "    'threshold + embedding' : ['device_model', 'C14', 'C17', 'site_id', 'site_domain', 'app_id'],\n",
        "    'top-n + one-hot encoding' : ['app_domain', 'C19', 'C20']\n",
        "}"
      ]
    },
    {
      "cell_type": "code",
      "execution_count": null,
      "metadata": {
        "id": "5xVMOO-I7xYY"
      },
      "outputs": [],
      "source": [
        "THRESHOLD_VOCA = total_voca[(10,1000)]\n",
        "TOP_N_VOCA = total_voca[(25, 500)]"
      ]
    },
    {
      "cell_type": "code",
      "execution_count": null,
      "metadata": {
        "colab": {
          "base_uri": "https://localhost:8080/"
        },
        "id": "S1XFUWn_8OXl",
        "outputId": "7d426c12-2083-48b0-fc0f-4eb96f9daf54"
      },
      "outputs": [
        {
          "data": {
            "text/plain": [
              "dict_keys(['site_id', 'site_domain', 'device_model', 'app_id', 'app_domain', 'C14', 'C17', 'C19', 'C20'])"
            ]
          },
          "execution_count": 17,
          "metadata": {},
          "output_type": "execute_result"
        }
      ],
      "source": [
        "THRESHOLD_VOCA.keys()"
      ]
    },
    {
      "cell_type": "code",
      "execution_count": null,
      "metadata": {
        "id": "f8LTV5xoAMOn"
      },
      "outputs": [],
      "source": [
        "vocabularies = {}\n",
        "\n",
        "vocabularies['one-hot encoding'] = {}\n",
        "for feature in FEATURE_ENGINEERING['one-hot encoding']:\n",
        "    vocabularies['one-hot encoding'][feature] = one_hot_encoding_voca[feature]\n",
        "\n",
        "vocabularies['threshold + embedding'] = {}\n",
        "for feature in FEATURE_ENGINEERING['threshold + embedding']:\n",
        "    vocabularies['threshold + embedding'][feature] = THRESHOLD_VOCA[feature]['over_threshold']\n",
        "\n",
        "vocabularies['top-n + one-hot encoding'] = {}\n",
        "for feature in FEATURE_ENGINEERING['top-n + one-hot encoding']:\n",
        "    vocabularies['top-n + one-hot encoding'][feature] = TOP_N_VOCA[feature]['top_num']"
      ]
    },
    {
      "cell_type": "code",
      "execution_count": null,
      "metadata": {
        "id": "H7w75Z08GPlO"
      },
      "outputs": [],
      "source": [
        "str_features = list(vocabularies['one-hot encoding'].keys()) + list(vocabularies['threshold + embedding'].keys()) + list(vocabularies['top-n + one-hot encoding'].keys())\n",
        "int_features = ['hour_of_day']"
      ]
    },
    {
      "cell_type": "code",
      "execution_count": null,
      "metadata": {
        "id": "Osk4pWksIncf"
      },
      "outputs": [],
      "source": [
        "nodes = [32, 64, 128, 256, 512, 1024]\n",
        "deep_layers = [1, 2, 3, 4, 5]\n",
        "cross_layers = [1, 2, 3, 4, 5, 6]\n",
        "result_dict = {}"
      ]
    },
    {
      "cell_type": "code",
      "execution_count": null,
      "metadata": {
        "id": "Y264Xnlke8BW"
      },
      "outputs": [],
      "source": [
        "import warnings\n",
        "warnings.filterwarnings(action='ignore')"
      ]
    },
    {
      "cell_type": "code",
      "execution_count": null,
      "metadata": {
        "id": "27xdQUl0fwpM"
      },
      "outputs": [],
      "source": [
        "for engineering_method, voca_set in vocabularies.items():\n",
        "    for feature, voca in voca_set.items():\n",
        "        vocabularies[engineering_method][feature] = list(map(str, voca))"
      ]
    },
    {
      "cell_type": "code",
      "execution_count": null,
      "metadata": {
        "id": "AkFe57y447rG"
      },
      "outputs": [],
      "source": [
        "HISTORY_FILE_DIR = '/content/drive/MyDrive/ctr/data/feature_engineering.rare_count/'\n",
        "HISTORY_FILE_NAME = 'fitting_history.V1.2'"
      ]
    },
    {
      "cell_type": "code",
      "execution_count": null,
      "metadata": {
        "colab": {
          "background_save": true,
          "base_uri": "https://localhost:8080/"
        },
        "id": "R0Tn0IVVBLLV",
        "outputId": "29aa4a16-6b50-48ca-9de8-c8224b83e3f9"
      },
      "outputs": [
        {
          "name": "stdout",
          "output_type": "stream",
          "text": [
            "Node: 1024, Deep Layer : 4, Cross Layer : 1\n",
            "\u001b[1m363/363\u001b[0m \u001b[32m━━━━━━━━━━━━━━━━━━━━\u001b[0m\u001b[37m\u001b[0m \u001b[1m1174s\u001b[0m 3s/step - AUC: 0.6106 - LogLoss: 0.6034 - loss: 0.5516 - regularization_loss: 0.0000e+00 - total_loss: 0.5516\n",
            "\u001b[1m43/43\u001b[0m \u001b[32m━━━━━━━━━━━━━━━━━━━━\u001b[0m\u001b[37m\u001b[0m \u001b[1m136s\u001b[0m 3s/step - AUC: 0.5415 - LogLoss: 2.0947 - loss: 2.5719 - regularization_loss: 0.0000e+00 - total_loss: 2.5719\n",
            "1th Epoch\n",
            "\u001b[1m363/363\u001b[0m \u001b[32m━━━━━━━━━━━━━━━━━━━━\u001b[0m\u001b[37m\u001b[0m \u001b[1m1148s\u001b[0m 3s/step - AUC: 0.6312 - LogLoss: 0.6067 - loss: 0.5058 - regularization_loss: 0.0000e+00 - total_loss: 0.5058\n",
            "\u001b[1m43/43\u001b[0m \u001b[32m━━━━━━━━━━━━━━━━━━━━\u001b[0m\u001b[37m\u001b[0m \u001b[1m135s\u001b[0m 3s/step - AUC: 0.6818 - LogLoss: 0.4284 - loss: 0.4721 - regularization_loss: 0.0000e+00 - total_loss: 0.4721\n",
            "\u001b[1m363/363\u001b[0m \u001b[32m━━━━━━━━━━━━━━━━━━━━\u001b[0m\u001b[37m\u001b[0m \u001b[1m1159s\u001b[0m 3s/step - AUC: 0.6981 - LogLoss: 0.4340 - loss: 0.4348 - regularization_loss: 0.0000e+00 - total_loss: 0.4348\n",
            "\u001b[1m43/43\u001b[0m \u001b[32m━━━━━━━━━━━━━━━━━━━━\u001b[0m\u001b[37m\u001b[0m \u001b[1m133s\u001b[0m 3s/step - AUC: 0.6849 - LogLoss: 0.4281 - loss: 0.4855 - regularization_loss: 0.0000e+00 - total_loss: 0.4855\n",
            "\u001b[1m363/363\u001b[0m \u001b[32m━━━━━━━━━━━━━━━━━━━━\u001b[0m\u001b[37m\u001b[0m \u001b[1m1124s\u001b[0m 3s/step - AUC: 0.6896 - LogLoss: 0.4384 - loss: 0.4273 - regularization_loss: 0.0000e+00 - total_loss: 0.4273\n",
            "\u001b[1m43/43\u001b[0m \u001b[32m━━━━━━━━━━━━━━━━━━━━\u001b[0m\u001b[37m\u001b[0m \u001b[1m133s\u001b[0m 3s/step - AUC: 0.6854 - LogLoss: 0.9992 - loss: 0.9051 - regularization_loss: 0.0000e+00 - total_loss: 0.9051\n",
            "\u001b[1m363/363\u001b[0m \u001b[32m━━━━━━━━━━━━━━━━━━━━\u001b[0m\u001b[37m\u001b[0m \u001b[1m1083s\u001b[0m 3s/step - AUC: 0.7152 - LogLoss: 0.4231 - loss: 0.4219 - regularization_loss: 0.0000e+00 - total_loss: 0.4219\n",
            "\u001b[1m43/43\u001b[0m \u001b[32m━━━━━━━━━━━━━━━━━━━━\u001b[0m\u001b[37m\u001b[0m \u001b[1m125s\u001b[0m 3s/step - AUC: 0.7058 - LogLoss: 0.4691 - loss: 0.5719 - regularization_loss: 0.0000e+00 - total_loss: 0.5719\n",
            "\u001b[1m363/363\u001b[0m \u001b[32m━━━━━━━━━━━━━━━━━━━━\u001b[0m\u001b[37m\u001b[0m \u001b[1m1047s\u001b[0m 3s/step - AUC: 0.7241 - LogLoss: 0.4146 - loss: 0.4172 - regularization_loss: 0.0000e+00 - total_loss: 0.4172\n",
            "\u001b[1m43/43\u001b[0m \u001b[32m━━━━━━━━━━━━━━━━━━━━\u001b[0m\u001b[37m\u001b[0m \u001b[1m122s\u001b[0m 3s/step - AUC: 0.7133 - LogLoss: 0.6150 - loss: 0.7193 - regularization_loss: 0.0000e+00 - total_loss: 0.7193\n",
            "\u001b[1m363/363\u001b[0m \u001b[32m━━━━━━━━━━━━━━━━━━━━\u001b[0m\u001b[37m\u001b[0m \u001b[1m1048s\u001b[0m 3s/step - AUC: 0.6937 - LogLoss: 0.4535 - loss: 0.4289 - regularization_loss: 0.0000e+00 - total_loss: 0.4289\n",
            "\u001b[1m43/43\u001b[0m \u001b[32m━━━━━━━━━━━━━━━━━━━━\u001b[0m\u001b[37m\u001b[0m \u001b[1m123s\u001b[0m 3s/step - AUC: 0.7162 - LogLoss: 0.4157 - loss: 0.4339 - regularization_loss: 0.0000e+00 - total_loss: 0.4339\n",
            "\u001b[1m363/363\u001b[0m \u001b[32m━━━━━━━━━━━━━━━━━━━━\u001b[0m\u001b[37m\u001b[0m \u001b[1m1049s\u001b[0m 3s/step - AUC: 0.7246 - LogLoss: 0.4146 - loss: 0.4089 - regularization_loss: 0.0000e+00 - total_loss: 0.4089\n",
            "\u001b[1m43/43\u001b[0m \u001b[32m━━━━━━━━━━━━━━━━━━━━\u001b[0m\u001b[37m\u001b[0m \u001b[1m127s\u001b[0m 3s/step - AUC: 0.7211 - LogLoss: 0.4106 - loss: 0.4529 - regularization_loss: 0.0000e+00 - total_loss: 0.4529\n",
            "\u001b[1m363/363\u001b[0m \u001b[32m━━━━━━━━━━━━━━━━━━━━\u001b[0m\u001b[37m\u001b[0m \u001b[1m1071s\u001b[0m 3s/step - AUC: 0.7330 - LogLoss: 0.4086 - loss: 0.4081 - regularization_loss: 0.0000e+00 - total_loss: 0.4081\n",
            "\u001b[1m43/43\u001b[0m \u001b[32m━━━━━━━━━━━━━━━━━━━━\u001b[0m\u001b[37m\u001b[0m \u001b[1m124s\u001b[0m 3s/step - AUC: 0.7285 - LogLoss: 0.4311 - loss: 0.4686 - regularization_loss: 0.0000e+00 - total_loss: 0.4686\n",
            "\u001b[1m363/363\u001b[0m \u001b[32m━━━━━━━━━━━━━━━━━━━━\u001b[0m\u001b[37m\u001b[0m \u001b[1m1046s\u001b[0m 3s/step - AUC: 0.7376 - LogLoss: 0.4068 - loss: 0.4039 - regularization_loss: 0.0000e+00 - total_loss: 0.4039\n",
            "\u001b[1m43/43\u001b[0m \u001b[32m━━━━━━━━━━━━━━━━━━━━\u001b[0m\u001b[37m\u001b[0m \u001b[1m121s\u001b[0m 3s/step - AUC: 0.7264 - LogLoss: 0.4201 - loss: 0.4656 - regularization_loss: 0.0000e+00 - total_loss: 0.4656\n",
            "\u001b[1m363/363\u001b[0m \u001b[32m━━━━━━━━━━━━━━━━━━━━\u001b[0m\u001b[37m\u001b[0m \u001b[1m1049s\u001b[0m 3s/step - AUC: 0.7160 - LogLoss: 0.4212 - loss: 0.4243 - regularization_loss: 0.0000e+00 - total_loss: 0.4243\n",
            "\u001b[1m43/43\u001b[0m \u001b[32m━━━━━━━━━━━━━━━━━━━━\u001b[0m\u001b[37m\u001b[0m \u001b[1m129s\u001b[0m 3s/step - AUC: 0.7230 - LogLoss: 0.4094 - loss: 0.4241 - regularization_loss: 0.0000e+00 - total_loss: 0.4241\n",
            "11th Epoch\n",
            "\u001b[1m363/363\u001b[0m \u001b[32m━━━━━━━━━━━━━━━━━━━━\u001b[0m\u001b[37m\u001b[0m \u001b[1m1070s\u001b[0m 3s/step - AUC: 0.7345 - LogLoss: 0.4077 - loss: 0.4064 - regularization_loss: 0.0000e+00 - total_loss: 0.4064\n",
            "\u001b[1m43/43\u001b[0m \u001b[32m━━━━━━━━━━━━━━━━━━━━\u001b[0m\u001b[37m\u001b[0m \u001b[1m128s\u001b[0m 3s/step - AUC: 0.7258 - LogLoss: 0.4043 - loss: 0.4305 - regularization_loss: 0.0000e+00 - total_loss: 0.4305\n",
            "\u001b[1m363/363\u001b[0m \u001b[32m━━━━━━━━━━━━━━━━━━━━\u001b[0m\u001b[37m\u001b[0m \u001b[1m1043s\u001b[0m 3s/step - AUC: 0.7372 - LogLoss: 0.4059 - loss: 0.4056 - regularization_loss: 0.0000e+00 - total_loss: 0.4056\n",
            "\u001b[1m43/43\u001b[0m \u001b[32m━━━━━━━━━━━━━━━━━━━━\u001b[0m\u001b[37m\u001b[0m \u001b[1m123s\u001b[0m 3s/step - AUC: 0.7242 - LogLoss: 0.4132 - loss: 0.4613 - regularization_loss: 0.0000e+00 - total_loss: 0.4613\n",
            "\u001b[1m363/363\u001b[0m \u001b[32m━━━━━━━━━━━━━━━━━━━━\u001b[0m\u001b[37m\u001b[0m \u001b[1m1049s\u001b[0m 3s/step - AUC: 0.7377 - LogLoss: 0.4061 - loss: 0.4034 - regularization_loss: 0.0000e+00 - total_loss: 0.4034\n",
            "\u001b[1m43/43\u001b[0m \u001b[32m━━━━━━━━━━━━━━━━━━━━\u001b[0m\u001b[37m\u001b[0m \u001b[1m121s\u001b[0m 3s/step - AUC: 0.7312 - LogLoss: 0.4035 - loss: 0.4345 - regularization_loss: 0.0000e+00 - total_loss: 0.4345\n",
            "\u001b[1m363/363\u001b[0m \u001b[32m━━━━━━━━━━━━━━━━━━━━\u001b[0m\u001b[37m\u001b[0m \u001b[1m1056s\u001b[0m 3s/step - AUC: 0.7408 - LogLoss: 0.4037 - loss: 0.4050 - regularization_loss: 0.0000e+00 - total_loss: 0.4050\n",
            "\u001b[1m43/43\u001b[0m \u001b[32m━━━━━━━━━━━━━━━━━━━━\u001b[0m\u001b[37m\u001b[0m \u001b[1m126s\u001b[0m 3s/step - AUC: 0.7038 - LogLoss: 0.5316 - loss: 0.7676 - regularization_loss: 0.0000e+00 - total_loss: 0.7676\n",
            "\u001b[1m363/363\u001b[0m \u001b[32m━━━━━━━━━━━━━━━━━━━━\u001b[0m\u001b[37m\u001b[0m \u001b[1m1065s\u001b[0m 3s/step - AUC: 0.7292 - LogLoss: 0.4136 - loss: 0.4052 - regularization_loss: 0.0000e+00 - total_loss: 0.4052\n",
            "\u001b[1m43/43\u001b[0m \u001b[32m━━━━━━━━━━━━━━━━━━━━\u001b[0m\u001b[37m\u001b[0m \u001b[1m124s\u001b[0m 3s/step - AUC: 0.7280 - LogLoss: 0.4121 - loss: 0.4330 - regularization_loss: 0.0000e+00 - total_loss: 0.4330\n",
            "\u001b[1m363/363\u001b[0m \u001b[32m━━━━━━━━━━━━━━━━━━━━\u001b[0m\u001b[37m\u001b[0m \u001b[1m1017s\u001b[0m 3s/step - AUC: 0.7398 - LogLoss: 0.4043 - loss: 0.4012 - regularization_loss: 0.0000e+00 - total_loss: 0.4012\n",
            "\u001b[1m43/43\u001b[0m \u001b[32m━━━━━━━━━━━━━━━━━━━━\u001b[0m\u001b[37m\u001b[0m \u001b[1m117s\u001b[0m 3s/step - AUC: 0.7299 - LogLoss: 0.4083 - loss: 0.4590 - regularization_loss: 0.0000e+00 - total_loss: 0.4590\n",
            "\u001b[1m363/363\u001b[0m \u001b[32m━━━━━━━━━━━━━━━━━━━━\u001b[0m\u001b[37m\u001b[0m \u001b[1m1022s\u001b[0m 3s/step - AUC: 0.7434 - LogLoss: 0.4022 - loss: 0.3997 - regularization_loss: 0.0000e+00 - total_loss: 0.3997\n",
            "\u001b[1m43/43\u001b[0m \u001b[32m━━━━━━━━━━━━━━━━━━━━\u001b[0m\u001b[37m\u001b[0m \u001b[1m120s\u001b[0m 3s/step - AUC: 0.7346 - LogLoss: 0.4016 - loss: 0.4419 - regularization_loss: 0.0000e+00 - total_loss: 0.4419\n",
            "\u001b[1m363/363\u001b[0m \u001b[32m━━━━━━━━━━━━━━━━━━━━\u001b[0m\u001b[37m\u001b[0m \u001b[1m1043s\u001b[0m 3s/step - AUC: 0.7397 - LogLoss: 0.4042 - loss: 0.4028 - regularization_loss: 0.0000e+00 - total_loss: 0.4028\n",
            "\u001b[1m43/43\u001b[0m \u001b[32m━━━━━━━━━━━━━━━━━━━━\u001b[0m\u001b[37m\u001b[0m \u001b[1m122s\u001b[0m 3s/step - AUC: 0.7322 - LogLoss: 0.4089 - loss: 0.4398 - regularization_loss: 0.0000e+00 - total_loss: 0.4398\n",
            "\u001b[1m363/363\u001b[0m \u001b[32m━━━━━━━━━━━━━━━━━━━━\u001b[0m\u001b[37m\u001b[0m \u001b[1m1048s\u001b[0m 3s/step - AUC: 0.7404 - LogLoss: 0.4037 - loss: 0.4028 - regularization_loss: 0.0000e+00 - total_loss: 0.4028\n",
            "\u001b[1m43/43\u001b[0m \u001b[32m━━━━━━━━━━━━━━━━━━━━\u001b[0m\u001b[37m\u001b[0m \u001b[1m125s\u001b[0m 3s/step - AUC: 0.7307 - LogLoss: 0.5029 - loss: 0.5518 - regularization_loss: 0.0000e+00 - total_loss: 0.5518\n",
            "\u001b[1m363/363\u001b[0m \u001b[32m━━━━━━━━━━━━━━━━━━━━\u001b[0m\u001b[37m\u001b[0m \u001b[1m1050s\u001b[0m 3s/step - AUC: 0.7434 - LogLoss: 0.4027 - loss: 0.4001 - regularization_loss: 0.0000e+00 - total_loss: 0.4001\n",
            "\u001b[1m43/43\u001b[0m \u001b[32m━━━━━━━━━━━━━━━━━━━━\u001b[0m\u001b[37m\u001b[0m \u001b[1m123s\u001b[0m 3s/step - AUC: 0.7215 - LogLoss: 0.4124 - loss: 0.4604 - regularization_loss: 0.0000e+00 - total_loss: 0.4604\n",
            "21th Epoch\n",
            "\u001b[1m363/363\u001b[0m \u001b[32m━━━━━━━━━━━━━━━━━━━━\u001b[0m\u001b[37m\u001b[0m \u001b[1m1063s\u001b[0m 3s/step - AUC: 0.7429 - LogLoss: 0.4026 - loss: 0.3999 - regularization_loss: 0.0000e+00 - total_loss: 0.3999\n",
            "\u001b[1m43/43\u001b[0m \u001b[32m━━━━━━━━━━━━━━━━━━━━\u001b[0m\u001b[37m\u001b[0m \u001b[1m124s\u001b[0m 3s/step - AUC: 0.7362 - LogLoss: 0.4143 - loss: 0.4602 - regularization_loss: 0.0000e+00 - total_loss: 0.4602\n",
            "\u001b[1m363/363\u001b[0m \u001b[32m━━━━━━━━━━━━━━━━━━━━\u001b[0m\u001b[37m\u001b[0m \u001b[1m1020s\u001b[0m 3s/step - AUC: 0.7470 - LogLoss: 0.4002 - loss: 0.3981 - regularization_loss: 0.0000e+00 - total_loss: 0.3981\n",
            "\u001b[1m43/43\u001b[0m \u001b[32m━━━━━━━━━━━━━━━━━━━━\u001b[0m\u001b[37m\u001b[0m \u001b[1m123s\u001b[0m 3s/step - AUC: 0.7307 - LogLoss: 0.4096 - loss: 0.4629 - regularization_loss: 0.0000e+00 - total_loss: 0.4629\n",
            "\u001b[1m363/363\u001b[0m \u001b[32m━━━━━━━━━━━━━━━━━━━━\u001b[0m\u001b[37m\u001b[0m \u001b[1m1047s\u001b[0m 3s/step - AUC: 0.7473 - LogLoss: 0.3996 - loss: 0.3973 - regularization_loss: 0.0000e+00 - total_loss: 0.3973\n",
            "\u001b[1m43/43\u001b[0m \u001b[32m━━━━━━━━━━━━━━━━━━━━\u001b[0m\u001b[37m\u001b[0m \u001b[1m122s\u001b[0m 3s/step - AUC: 0.7386 - LogLoss: 0.4149 - loss: 0.4637 - regularization_loss: 0.0000e+00 - total_loss: 0.4637\n",
            "\u001b[1m363/363\u001b[0m \u001b[32m━━━━━━━━━━━━━━━━━━━━\u001b[0m\u001b[37m\u001b[0m \u001b[1m1032s\u001b[0m 3s/step - AUC: 0.7481 - LogLoss: 0.3994 - loss: 0.3968 - regularization_loss: 0.0000e+00 - total_loss: 0.3968\n",
            "\u001b[1m43/43\u001b[0m \u001b[32m━━━━━━━━━━━━━━━━━━━━\u001b[0m\u001b[37m\u001b[0m \u001b[1m120s\u001b[0m 3s/step - AUC: 0.7390 - LogLoss: 0.4081 - loss: 0.4485 - regularization_loss: 0.0000e+00 - total_loss: 0.4485\n",
            "\u001b[1m363/363\u001b[0m \u001b[32m━━━━━━━━━━━━━━━━━━━━\u001b[0m\u001b[37m\u001b[0m \u001b[1m1027s\u001b[0m 3s/step - AUC: 0.7346 - LogLoss: 0.4122 - loss: 0.4082 - regularization_loss: 0.0000e+00 - total_loss: 0.4082\n",
            "\u001b[1m43/43\u001b[0m \u001b[32m━━━━━━━━━━━━━━━━━━━━\u001b[0m\u001b[37m\u001b[0m \u001b[1m121s\u001b[0m 3s/step - AUC: 0.7347 - LogLoss: 0.4047 - loss: 0.4411 - regularization_loss: 0.0000e+00 - total_loss: 0.4411\n",
            "\u001b[1m363/363\u001b[0m \u001b[32m━━━━━━━━━━━━━━━━━━━━\u001b[0m\u001b[37m\u001b[0m \u001b[1m1038s\u001b[0m 3s/step - AUC: 0.7350 - LogLoss: 0.4064 - loss: 0.4037 - regularization_loss: 0.0000e+00 - total_loss: 0.4037\n",
            "\u001b[1m43/43\u001b[0m \u001b[32m━━━━━━━━━━━━━━━━━━━━\u001b[0m\u001b[37m\u001b[0m \u001b[1m123s\u001b[0m 3s/step - AUC: 0.7341 - LogLoss: 0.4072 - loss: 0.4377 - regularization_loss: 0.0000e+00 - total_loss: 0.4377\n",
            "\u001b[1m363/363\u001b[0m \u001b[32m━━━━━━━━━━━━━━━━━━━━\u001b[0m\u001b[37m\u001b[0m \u001b[1m1045s\u001b[0m 3s/step - AUC: 0.7447 - LogLoss: 0.4015 - loss: 0.3996 - regularization_loss: 0.0000e+00 - total_loss: 0.3996\n",
            "\u001b[1m43/43\u001b[0m \u001b[32m━━━━━━━━━━━━━━━━━━━━\u001b[0m\u001b[37m\u001b[0m \u001b[1m123s\u001b[0m 3s/step - AUC: 0.7396 - LogLoss: 0.4229 - loss: 0.4394 - regularization_loss: 0.0000e+00 - total_loss: 0.4394\n",
            "\u001b[1m363/363\u001b[0m \u001b[32m━━━━━━━━━━━━━━━━━━━━\u001b[0m\u001b[37m\u001b[0m \u001b[1m1034s\u001b[0m 3s/step - AUC: 0.7460 - LogLoss: 0.4018 - loss: 0.3980 - regularization_loss: 0.0000e+00 - total_loss: 0.3980\n",
            "\u001b[1m43/43\u001b[0m \u001b[32m━━━━━━━━━━━━━━━━━━━━\u001b[0m\u001b[37m\u001b[0m \u001b[1m121s\u001b[0m 3s/step - AUC: 0.7402 - LogLoss: 0.3985 - loss: 0.4256 - regularization_loss: 0.0000e+00 - total_loss: 0.4256\n",
            "\u001b[1m363/363\u001b[0m \u001b[32m━━━━━━━━━━━━━━━━━━━━\u001b[0m\u001b[37m\u001b[0m \u001b[1m1042s\u001b[0m 3s/step - AUC: 0.7420 - LogLoss: 0.4027 - loss: 0.3983 - regularization_loss: 0.0000e+00 - total_loss: 0.3983\n",
            "\u001b[1m43/43\u001b[0m \u001b[32m━━━━━━━━━━━━━━━━━━━━\u001b[0m\u001b[37m\u001b[0m \u001b[1m120s\u001b[0m 3s/step - AUC: 0.7397 - LogLoss: 0.4063 - loss: 0.4380 - regularization_loss: 0.0000e+00 - total_loss: 0.4380\n",
            "\u001b[1m363/363\u001b[0m \u001b[32m━━━━━━━━━━━━━━━━━━━━\u001b[0m\u001b[37m\u001b[0m \u001b[1m1028s\u001b[0m 3s/step - AUC: 0.7494 - LogLoss: 0.3986 - loss: 0.3962 - regularization_loss: 0.0000e+00 - total_loss: 0.3962\n",
            "\u001b[1m43/43\u001b[0m \u001b[32m━━━━━━━━━━━━━━━━━━━━\u001b[0m\u001b[37m\u001b[0m \u001b[1m120s\u001b[0m 3s/step - AUC: 0.7384 - LogLoss: 0.4066 - loss: 0.4360 - regularization_loss: 0.0000e+00 - total_loss: 0.4360\n",
            "31th Epoch\n",
            "\u001b[1m363/363\u001b[0m \u001b[32m━━━━━━━━━━━━━━━━━━━━\u001b[0m\u001b[37m\u001b[0m \u001b[1m1025s\u001b[0m 3s/step - AUC: 0.7467 - LogLoss: 0.4002 - loss: 0.3990 - regularization_loss: 0.0000e+00 - total_loss: 0.3990\n",
            "\u001b[1m43/43\u001b[0m \u001b[32m━━━━━━━━━━━━━━━━━━━━\u001b[0m\u001b[37m\u001b[0m \u001b[1m120s\u001b[0m 3s/step - AUC: 0.7292 - LogLoss: 0.4051 - loss: 0.4341 - regularization_loss: 0.0000e+00 - total_loss: 0.4341\n",
            "\u001b[1m363/363\u001b[0m \u001b[32m━━━━━━━━━━━━━━━━━━━━\u001b[0m\u001b[37m\u001b[0m \u001b[1m1033s\u001b[0m 3s/step - AUC: 0.7462 - LogLoss: 0.4012 - loss: 0.3978 - regularization_loss: 0.0000e+00 - total_loss: 0.3978\n",
            "\u001b[1m43/43\u001b[0m \u001b[32m━━━━━━━━━━━━━━━━━━━━\u001b[0m\u001b[37m\u001b[0m \u001b[1m121s\u001b[0m 3s/step - AUC: 0.7380 - LogLoss: 0.4165 - loss: 0.4420 - regularization_loss: 0.0000e+00 - total_loss: 0.4420\n",
            "\u001b[1m363/363\u001b[0m \u001b[32m━━━━━━━━━━━━━━━━━━━━\u001b[0m\u001b[37m\u001b[0m \u001b[1m1044s\u001b[0m 3s/step - AUC: 0.7498 - LogLoss: 0.3984 - loss: 0.3966 - regularization_loss: 0.0000e+00 - total_loss: 0.3966\n",
            "\u001b[1m43/43\u001b[0m \u001b[32m━━━━━━━━━━━━━━━━━━━━\u001b[0m\u001b[37m\u001b[0m \u001b[1m120s\u001b[0m 3s/step - AUC: 0.7352 - LogLoss: 0.4020 - loss: 0.4385 - regularization_loss: 0.0000e+00 - total_loss: 0.4385\n",
            "\u001b[1m363/363\u001b[0m \u001b[32m━━━━━━━━━━━━━━━━━━━━\u001b[0m\u001b[37m\u001b[0m \u001b[1m1024s\u001b[0m 3s/step - AUC: 0.7484 - LogLoss: 0.3991 - loss: 0.3960 - regularization_loss: 0.0000e+00 - total_loss: 0.3960\n",
            "\u001b[1m43/43\u001b[0m \u001b[32m━━━━━━━━━━━━━━━━━━━━\u001b[0m\u001b[37m\u001b[0m \u001b[1m121s\u001b[0m 3s/step - AUC: 0.7383 - LogLoss: 0.4015 - loss: 0.4487 - regularization_loss: 0.0000e+00 - total_loss: 0.4487\n",
            "\u001b[1m363/363\u001b[0m \u001b[32m━━━━━━━━━━━━━━━━━━━━\u001b[0m\u001b[37m\u001b[0m \u001b[1m1026s\u001b[0m 3s/step - AUC: 0.7491 - LogLoss: 0.3986 - loss: 0.3995 - regularization_loss: 0.0000e+00 - total_loss: 0.3995\n",
            "\u001b[1m43/43\u001b[0m \u001b[32m━━━━━━━━━━━━━━━━━━━━\u001b[0m\u001b[37m\u001b[0m \u001b[1m121s\u001b[0m 3s/step - AUC: 0.7397 - LogLoss: 0.5405 - loss: 0.5533 - regularization_loss: 0.0000e+00 - total_loss: 0.5533\n",
            "\u001b[1m363/363\u001b[0m \u001b[32m━━━━━━━━━━━━━━━━━━━━\u001b[0m\u001b[37m\u001b[0m \u001b[1m1037s\u001b[0m 3s/step - AUC: 0.7302 - LogLoss: 0.4133 - loss: 0.4037 - regularization_loss: 0.0000e+00 - total_loss: 0.4037\n",
            "\u001b[1m43/43\u001b[0m \u001b[32m━━━━━━━━━━━━━━━━━━━━\u001b[0m\u001b[37m\u001b[0m \u001b[1m128s\u001b[0m 3s/step - AUC: 0.7297 - LogLoss: 0.4165 - loss: 0.4218 - regularization_loss: 0.0000e+00 - total_loss: 0.4218\n",
            "\u001b[1m363/363\u001b[0m \u001b[32m━━━━━━━━━━━━━━━━━━━━\u001b[0m\u001b[37m\u001b[0m \u001b[1m1092s\u001b[0m 3s/step - AUC: 0.7465 - LogLoss: 0.4010 - loss: 0.3972 - regularization_loss: 0.0000e+00 - total_loss: 0.3972\n",
            "\u001b[1m43/43\u001b[0m \u001b[32m━━━━━━━━━━━━━━━━━━━━\u001b[0m\u001b[37m\u001b[0m \u001b[1m129s\u001b[0m 3s/step - AUC: 0.7366 - LogLoss: 0.3988 - loss: 0.4267 - regularization_loss: 0.0000e+00 - total_loss: 0.4267\n",
            "\u001b[1m363/363\u001b[0m \u001b[32m━━━━━━━━━━━━━━━━━━━━\u001b[0m\u001b[37m\u001b[0m \u001b[1m1099s\u001b[0m 3s/step - AUC: 0.7515 - LogLoss: 0.3972 - loss: 0.3952 - regularization_loss: 0.0000e+00 - total_loss: 0.3952\n",
            "\u001b[1m43/43\u001b[0m \u001b[32m━━━━━━━━━━━━━━━━━━━━\u001b[0m\u001b[37m\u001b[0m \u001b[1m131s\u001b[0m 3s/step - AUC: 0.7343 - LogLoss: 0.3989 - loss: 0.4165 - regularization_loss: 0.0000e+00 - total_loss: 0.4165\n",
            "\u001b[1m363/363\u001b[0m \u001b[32m━━━━━━━━━━━━━━━━━━━━\u001b[0m\u001b[37m\u001b[0m \u001b[1m1093s\u001b[0m 3s/step - AUC: 0.7517 - LogLoss: 0.3971 - loss: 0.3963 - regularization_loss: 0.0000e+00 - total_loss: 0.3963\n",
            "\u001b[1m43/43\u001b[0m \u001b[32m━━━━━━━━━━━━━━━━━━━━\u001b[0m\u001b[37m\u001b[0m \u001b[1m119s\u001b[0m 3s/step - AUC: 0.7377 - LogLoss: 0.3971 - loss: 0.4119 - regularization_loss: 0.0000e+00 - total_loss: 0.4119\n",
            "\u001b[1m363/363\u001b[0m \u001b[32m━━━━━━━━━━━━━━━━━━━━\u001b[0m\u001b[37m\u001b[0m \u001b[1m992s\u001b[0m 3s/step - AUC: 0.7517 - LogLoss: 0.3972 - loss: 0.3950 - regularization_loss: 0.0000e+00 - total_loss: 0.3950\n",
            "\u001b[1m43/43\u001b[0m \u001b[32m━━━━━━━━━━━━━━━━━━━━\u001b[0m\u001b[37m\u001b[0m \u001b[1m117s\u001b[0m 3s/step - AUC: 0.7389 - LogLoss: 0.3962 - loss: 0.4175 - regularization_loss: 0.0000e+00 - total_loss: 0.4175\n",
            "41th Epoch\n",
            "\u001b[1m363/363\u001b[0m \u001b[32m━━━━━━━━━━━━━━━━━━━━\u001b[0m\u001b[37m\u001b[0m \u001b[1m984s\u001b[0m 3s/step - AUC: 0.7442 - LogLoss: 0.4011 - loss: 0.3975 - regularization_loss: 0.0000e+00 - total_loss: 0.3975\n",
            "\u001b[1m43/43\u001b[0m \u001b[32m━━━━━━━━━━━━━━━━━━━━\u001b[0m\u001b[37m\u001b[0m \u001b[1m116s\u001b[0m 3s/step - AUC: 0.7407 - LogLoss: 0.4110 - loss: 0.4329 - regularization_loss: 0.0000e+00 - total_loss: 0.4329\n",
            "\u001b[1m363/363\u001b[0m \u001b[32m━━━━━━━━━━━━━━━━━━━━\u001b[0m\u001b[37m\u001b[0m \u001b[1m978s\u001b[0m 3s/step - AUC: 0.7507 - LogLoss: 0.3983 - loss: 0.3959 - regularization_loss: 0.0000e+00 - total_loss: 0.3959\n",
            "\u001b[1m43/43\u001b[0m \u001b[32m━━━━━━━━━━━━━━━━━━━━\u001b[0m\u001b[37m\u001b[0m \u001b[1m115s\u001b[0m 3s/step - AUC: 0.7319 - LogLoss: 0.4254 - loss: 0.4254 - regularization_loss: 0.0000e+00 - total_loss: 0.4254\n",
            "\u001b[1m363/363\u001b[0m \u001b[32m━━━━━━━━━━━━━━━━━━━━\u001b[0m\u001b[37m\u001b[0m \u001b[1m1009s\u001b[0m 3s/step - AUC: 0.7494 - LogLoss: 0.3994 - loss: 0.3956 - regularization_loss: 0.0000e+00 - total_loss: 0.3956\n",
            "\u001b[1m43/43\u001b[0m \u001b[32m━━━━━━━━━━━━━━━━━━━━\u001b[0m\u001b[37m\u001b[0m \u001b[1m122s\u001b[0m 3s/step - AUC: 0.7419 - LogLoss: 0.3961 - loss: 0.4156 - regularization_loss: 0.0000e+00 - total_loss: 0.4156\n",
            "\u001b[1m363/363\u001b[0m \u001b[32m━━━━━━━━━━━━━━━━━━━━\u001b[0m\u001b[37m\u001b[0m \u001b[1m1049s\u001b[0m 3s/step - AUC: 0.7516 - LogLoss: 0.3974 - loss: 0.3944 - regularization_loss: 0.0000e+00 - total_loss: 0.3944\n",
            "\u001b[1m43/43\u001b[0m \u001b[32m━━━━━━━━━━━━━━━━━━━━\u001b[0m\u001b[37m\u001b[0m \u001b[1m121s\u001b[0m 3s/step - AUC: 0.7416 - LogLoss: 0.3941 - loss: 0.4145 - regularization_loss: 0.0000e+00 - total_loss: 0.4145\n",
            "\u001b[1m363/363\u001b[0m \u001b[32m━━━━━━━━━━━━━━━━━━━━\u001b[0m\u001b[37m\u001b[0m \u001b[1m1022s\u001b[0m 3s/step - AUC: 0.7542 - LogLoss: 0.3955 - loss: 0.3939 - regularization_loss: 0.0000e+00 - total_loss: 0.3939\n",
            "\u001b[1m43/43\u001b[0m \u001b[32m━━━━━━━━━━━━━━━━━━━━\u001b[0m\u001b[37m\u001b[0m \u001b[1m117s\u001b[0m 3s/step - AUC: 0.7421 - LogLoss: 0.3961 - loss: 0.4187 - regularization_loss: 0.0000e+00 - total_loss: 0.4187\n",
            "\u001b[1m363/363\u001b[0m \u001b[32m━━━━━━━━━━━━━━━━━━━━\u001b[0m\u001b[37m\u001b[0m \u001b[1m1032s\u001b[0m 3s/step - AUC: 0.7534 - LogLoss: 0.3962 - loss: 0.3952 - regularization_loss: 0.0000e+00 - total_loss: 0.3952\n",
            "\u001b[1m43/43\u001b[0m \u001b[32m━━━━━━━━━━━━━━━━━━━━\u001b[0m\u001b[37m\u001b[0m \u001b[1m126s\u001b[0m 3s/step - AUC: 0.7341 - LogLoss: 0.4057 - loss: 0.4226 - regularization_loss: 0.0000e+00 - total_loss: 0.4226\n",
            "\u001b[1m363/363\u001b[0m \u001b[32m━━━━━━━━━━━━━━━━━━━━\u001b[0m\u001b[37m\u001b[0m \u001b[1m1052s\u001b[0m 3s/step - AUC: 0.7442 - LogLoss: 0.4015 - loss: 0.3974 - regularization_loss: 0.0000e+00 - total_loss: 0.3974\n",
            "\u001b[1m43/43\u001b[0m \u001b[32m━━━━━━━━━━━━━━━━━━━━\u001b[0m\u001b[37m\u001b[0m \u001b[1m123s\u001b[0m 3s/step - AUC: 0.7395 - LogLoss: 0.3988 - loss: 0.4322 - regularization_loss: 0.0000e+00 - total_loss: 0.4322\n",
            "\u001b[1m363/363\u001b[0m \u001b[32m━━━━━━━━━━━━━━━━━━━━\u001b[0m\u001b[37m\u001b[0m \u001b[1m1020s\u001b[0m 3s/step - AUC: 0.7538 - LogLoss: 0.3960 - loss: 0.3945 - regularization_loss: 0.0000e+00 - total_loss: 0.3945\n",
            "\u001b[1m43/43\u001b[0m \u001b[32m━━━━━━━━━━━━━━━━━━━━\u001b[0m\u001b[37m\u001b[0m \u001b[1m120s\u001b[0m 3s/step - AUC: 0.7383 - LogLoss: 0.3981 - loss: 0.4214 - regularization_loss: 0.0000e+00 - total_loss: 0.4214\n",
            "\u001b[1m363/363\u001b[0m \u001b[32m━━━━━━━━━━━━━━━━━━━━\u001b[0m\u001b[37m\u001b[0m \u001b[1m1000s\u001b[0m 3s/step - AUC: 0.7543 - LogLoss: 0.3956 - loss: 0.3952 - regularization_loss: 0.0000e+00 - total_loss: 0.3952\n",
            "\u001b[1m43/43\u001b[0m \u001b[32m━━━━━━━━━━━━━━━━━━━━\u001b[0m\u001b[37m\u001b[0m \u001b[1m123s\u001b[0m 3s/step - AUC: 0.7420 - LogLoss: 0.3958 - loss: 0.4153 - regularization_loss: 0.0000e+00 - total_loss: 0.4153\n",
            "\u001b[1m363/363\u001b[0m \u001b[32m━━━━━━━━━━━━━━━━━━━━\u001b[0m\u001b[37m\u001b[0m \u001b[1m1092s\u001b[0m 3s/step - AUC: 0.5919 - LogLoss: 0.5735 - loss: 0.5722 - regularization_loss: 0.0000e+00 - total_loss: 0.5722\n",
            "\u001b[1m43/43\u001b[0m \u001b[32m━━━━━━━━━━━━━━━━━━━━\u001b[0m\u001b[37m\u001b[0m \u001b[1m128s\u001b[0m 3s/step - AUC: 0.6236 - LogLoss: 0.4939 - loss: 0.5714 - regularization_loss: 0.0000e+00 - total_loss: 0.5714\n",
            "1th Epoch\n",
            "\u001b[1m363/363\u001b[0m \u001b[32m━━━━━━━━━━━━━━━━━━━━\u001b[0m\u001b[37m\u001b[0m \u001b[1m1099s\u001b[0m 3s/step - AUC: 0.6361 - LogLoss: 0.5294 - loss: 0.5457 - regularization_loss: 0.0000e+00 - total_loss: 0.5457\n",
            "\u001b[1m43/43\u001b[0m \u001b[32m━━━━━━━━━━━━━━━━━━━━\u001b[0m\u001b[37m\u001b[0m \u001b[1m130s\u001b[0m 3s/step - AUC: 0.6636 - LogLoss: 0.4740 - loss: 0.4920 - regularization_loss: 0.0000e+00 - total_loss: 0.4920\n",
            "\u001b[1m363/363\u001b[0m \u001b[32m━━━━━━━━━━━━━━━━━━━━\u001b[0m\u001b[37m\u001b[0m \u001b[1m1084s\u001b[0m 3s/step - AUC: 0.6743 - LogLoss: 0.4419 - loss: 0.4383 - regularization_loss: 0.0000e+00 - total_loss: 0.4383\n",
            "\u001b[1m43/43\u001b[0m \u001b[32m━━━━━━━━━━━━━━━━━━━━\u001b[0m\u001b[37m\u001b[0m \u001b[1m126s\u001b[0m 3s/step - AUC: 0.6907 - LogLoss: 0.4219 - loss: 0.4394 - regularization_loss: 0.0000e+00 - total_loss: 0.4394\n",
            "\u001b[1m363/363\u001b[0m \u001b[32m━━━━━━━━━━━━━━━━━━━━\u001b[0m\u001b[37m\u001b[0m \u001b[1m1077s\u001b[0m 3s/step - AUC: 0.6963 - LogLoss: 0.4332 - loss: 0.4324 - regularization_loss: 0.0000e+00 - total_loss: 0.4324\n",
            "\u001b[1m43/43\u001b[0m \u001b[32m━━━━━━━━━━━━━━━━━━━━\u001b[0m\u001b[37m\u001b[0m \u001b[1m128s\u001b[0m 3s/step - AUC: 0.6944 - LogLoss: 0.4297 - loss: 0.4390 - regularization_loss: 0.0000e+00 - total_loss: 0.4390\n",
            "\u001b[1m363/363\u001b[0m \u001b[32m━━━━━━━━━━━━━━━━━━━━\u001b[0m\u001b[37m\u001b[0m \u001b[1m1079s\u001b[0m 3s/step - AUC: 0.6672 - LogLoss: 0.8497 - loss: 0.8882 - regularization_loss: 0.0000e+00 - total_loss: 0.8882\n",
            "\u001b[1m43/43\u001b[0m \u001b[32m━━━━━━━━━━━━━━━━━━━━\u001b[0m\u001b[37m\u001b[0m \u001b[1m123s\u001b[0m 3s/step - AUC: 0.6931 - LogLoss: 0.4370 - loss: 0.4704 - regularization_loss: 0.0000e+00 - total_loss: 0.4704\n",
            "\u001b[1m363/363\u001b[0m \u001b[32m━━━━━━━━━━━━━━━━━━━━\u001b[0m\u001b[37m\u001b[0m \u001b[1m1067s\u001b[0m 3s/step - AUC: 0.7034 - LogLoss: 0.4297 - loss: 0.4316 - regularization_loss: 0.0000e+00 - total_loss: 0.4316\n",
            "\u001b[1m43/43\u001b[0m \u001b[32m━━━━━━━━━━━━━━━━━━━━\u001b[0m\u001b[37m\u001b[0m \u001b[1m128s\u001b[0m 3s/step - AUC: 0.6519 - LogLoss: 0.5300 - loss: 0.4895 - regularization_loss: 0.0000e+00 - total_loss: 0.4895\n",
            "\u001b[1m363/363\u001b[0m \u001b[32m━━━━━━━━━━━━━━━━━━━━\u001b[0m\u001b[37m\u001b[0m \u001b[1m1150s\u001b[0m 3s/step - AUC: 0.6649 - LogLoss: 0.4706 - loss: 0.4803 - regularization_loss: 0.0000e+00 - total_loss: 0.4803\n",
            "\u001b[1m43/43\u001b[0m \u001b[32m━━━━━━━━━━━━━━━━━━━━\u001b[0m\u001b[37m\u001b[0m \u001b[1m136s\u001b[0m 3s/step - AUC: 0.6224 - LogLoss: 1.5021 - loss: 1.6181 - regularization_loss: 0.0000e+00 - total_loss: 1.6181\n",
            "\u001b[1m363/363\u001b[0m \u001b[32m━━━━━━━━━━━━━━━━━━━━\u001b[0m\u001b[37m\u001b[0m \u001b[1m1157s\u001b[0m 3s/step - AUC: 0.6732 - LogLoss: 0.4714 - loss: 0.4480 - regularization_loss: 0.0000e+00 - total_loss: 0.4480\n",
            "\u001b[1m43/43\u001b[0m \u001b[32m━━━━━━━━━━━━━━━━━━━━\u001b[0m\u001b[37m\u001b[0m \u001b[1m136s\u001b[0m 3s/step - AUC: 0.7131 - LogLoss: 0.4554 - loss: 0.4542 - regularization_loss: 0.0000e+00 - total_loss: 0.4542\n",
            "\u001b[1m363/363\u001b[0m \u001b[32m━━━━━━━━━━━━━━━━━━━━\u001b[0m\u001b[37m\u001b[0m \u001b[1m1163s\u001b[0m 3s/step - AUC: 0.6977 - LogLoss: 0.4312 - loss: 0.4219 - regularization_loss: 0.0000e+00 - total_loss: 0.4219\n",
            "\u001b[1m43/43\u001b[0m \u001b[32m━━━━━━━━━━━━━━━━━━━━\u001b[0m\u001b[37m\u001b[0m \u001b[1m134s\u001b[0m 3s/step - AUC: 0.7268 - LogLoss: 0.4259 - loss: 0.4377 - regularization_loss: 0.0000e+00 - total_loss: 0.4377\n",
            "\u001b[1m363/363\u001b[0m \u001b[32m━━━━━━━━━━━━━━━━━━━━\u001b[0m\u001b[37m\u001b[0m \u001b[1m1108s\u001b[0m 3s/step - AUC: 0.7038 - LogLoss: 0.4309 - loss: 0.4270 - regularization_loss: 0.0000e+00 - total_loss: 0.4270\n",
            "\u001b[1m43/43\u001b[0m \u001b[32m━━━━━━━━━━━━━━━━━━━━\u001b[0m\u001b[37m\u001b[0m \u001b[1m135s\u001b[0m 3s/step - AUC: 0.7295 - LogLoss: 0.4229 - loss: 0.4377 - regularization_loss: 0.0000e+00 - total_loss: 0.4377\n",
            "\u001b[1m363/363\u001b[0m \u001b[32m━━━━━━━━━━━━━━━━━━━━\u001b[0m\u001b[37m\u001b[0m \u001b[1m1142s\u001b[0m 3s/step - AUC: 0.7162 - LogLoss: 0.4199 - loss: 0.4198 - regularization_loss: 0.0000e+00 - total_loss: 0.4198\n",
            "\u001b[1m43/43\u001b[0m \u001b[32m━━━━━━━━━━━━━━━━━━━━\u001b[0m\u001b[37m\u001b[0m \u001b[1m135s\u001b[0m 3s/step - AUC: 0.7220 - LogLoss: 0.4136 - loss: 0.4332 - regularization_loss: 0.0000e+00 - total_loss: 0.4332\n",
            "11th Epoch\n",
            "\u001b[1m363/363\u001b[0m \u001b[32m━━━━━━━━━━━━━━━━━━━━\u001b[0m\u001b[37m\u001b[0m \u001b[1m1147s\u001b[0m 3s/step - AUC: 0.7076 - LogLoss: 0.4265 - loss: 0.4295 - regularization_loss: 0.0000e+00 - total_loss: 0.4295\n",
            "\u001b[1m43/43\u001b[0m \u001b[32m━━━━━━━━━━━━━━━━━━━━\u001b[0m\u001b[37m\u001b[0m \u001b[1m136s\u001b[0m 3s/step - AUC: 0.7184 - LogLoss: 0.4151 - loss: 0.4375 - regularization_loss: 0.0000e+00 - total_loss: 0.4375\n",
            "\u001b[1m363/363\u001b[0m \u001b[32m━━━━━━━━━━━━━━━━━━━━\u001b[0m\u001b[37m\u001b[0m \u001b[1m1143s\u001b[0m 3s/step - AUC: 0.7212 - LogLoss: 0.4159 - loss: 0.4164 - regularization_loss: 0.0000e+00 - total_loss: 0.4164\n",
            "\u001b[1m43/43\u001b[0m \u001b[32m━━━━━━━━━━━━━━━━━━━━\u001b[0m\u001b[37m\u001b[0m \u001b[1m136s\u001b[0m 3s/step - AUC: 0.7304 - LogLoss: 0.4106 - loss: 0.4296 - regularization_loss: 0.0000e+00 - total_loss: 0.4296\n",
            "\u001b[1m363/363\u001b[0m \u001b[32m━━━━━━━━━━━━━━━━━━━━\u001b[0m\u001b[37m\u001b[0m \u001b[1m1146s\u001b[0m 3s/step - AUC: 0.7265 - LogLoss: 0.4131 - loss: 0.4126 - regularization_loss: 0.0000e+00 - total_loss: 0.4126\n",
            "\u001b[1m43/43\u001b[0m \u001b[32m━━━━━━━━━━━━━━━━━━━━\u001b[0m\u001b[37m\u001b[0m \u001b[1m135s\u001b[0m 3s/step - AUC: 0.7291 - LogLoss: 0.4045 - loss: 0.4220 - regularization_loss: 0.0000e+00 - total_loss: 0.4220\n",
            "\u001b[1m363/363\u001b[0m \u001b[32m━━━━━━━━━━━━━━━━━━━━\u001b[0m\u001b[37m\u001b[0m \u001b[1m1150s\u001b[0m 3s/step - AUC: 0.7123 - LogLoss: 0.4215 - loss: 0.4164 - regularization_loss: 0.0000e+00 - total_loss: 0.4164\n",
            "\u001b[1m43/43\u001b[0m \u001b[32m━━━━━━━━━━━━━━━━━━━━\u001b[0m\u001b[37m\u001b[0m \u001b[1m134s\u001b[0m 3s/step - AUC: 0.7319 - LogLoss: 0.4168 - loss: 0.4215 - regularization_loss: 0.0000e+00 - total_loss: 0.4215\n",
            "\u001b[1m363/363\u001b[0m \u001b[32m━━━━━━━━━━━━━━━━━━━━\u001b[0m\u001b[37m\u001b[0m \u001b[1m1143s\u001b[0m 3s/step - AUC: 0.7276 - LogLoss: 0.4172 - loss: 0.4470 - regularization_loss: 0.0000e+00 - total_loss: 0.4470\n",
            "\u001b[1m43/43\u001b[0m \u001b[32m━━━━━━━━━━━━━━━━━━━━\u001b[0m\u001b[37m\u001b[0m \u001b[1m136s\u001b[0m 3s/step - AUC: 0.6975 - LogLoss: 0.4174 - loss: 0.4465 - regularization_loss: 0.0000e+00 - total_loss: 0.4465\n",
            "\u001b[1m363/363\u001b[0m \u001b[32m━━━━━━━━━━━━━━━━━━━━\u001b[0m\u001b[37m\u001b[0m \u001b[1m1149s\u001b[0m 3s/step - AUC: 0.7132 - LogLoss: 0.4213 - loss: 0.4202 - regularization_loss: 0.0000e+00 - total_loss: 0.4202\n",
            "\u001b[1m43/43\u001b[0m \u001b[32m━━━━━━━━━━━━━━━━━━━━\u001b[0m\u001b[37m\u001b[0m \u001b[1m135s\u001b[0m 3s/step - AUC: 0.7193 - LogLoss: 0.4066 - loss: 0.4155 - regularization_loss: 0.0000e+00 - total_loss: 0.4155\n",
            "\u001b[1m363/363\u001b[0m \u001b[32m━━━━━━━━━━━━━━━━━━━━\u001b[0m\u001b[37m\u001b[0m \u001b[1m1075s\u001b[0m 3s/step - AUC: 0.7239 - LogLoss: 0.4170 - loss: 0.4177 - regularization_loss: 0.0000e+00 - total_loss: 0.4177\n",
            "     20/Unknown \u001b[1m57s\u001b[0m 3s/step - AUC: 0.7369 - LogLoss: 0.4001 - loss: 0.4044 - regularization_loss: 0.0000e+00 - total_loss: 0.4044"
          ]
        }
      ],
      "source": [
        "node, deep_layer, cross_layer = 1024, 4, 1\n",
        "print(\"Node: {}, Deep Layer : {}, Cross Layer : {}\".format(node, deep_layer, cross_layer))\n",
        "\n",
        "fitting_history = run_models.run_models(\n",
        "    dcn_parallel=DCN_PARALLEL,\n",
        "    cross_layer_size=cross_layer,\n",
        "    deep_layer_sizes=[node]*deep_layer,\n",
        "    vocabularies=vocabularies,\n",
        "    str_features=str_features,\n",
        "    int_features=int_features,\n",
        "    train=train_batches,\n",
        "    test=test,\n",
        "    learning_rate=LEARNING_RATE,\n",
        "    epochs=FITTING_EPOCHS,\n",
        "    history_file_dir=HISTORY_FILE_DIR,\n",
        "    history_file_name=HISTORY_FILE_NAME\n",
        "    )"
      ]
    },
    {
      "cell_type": "code",
      "execution_count": null,
      "metadata": {
        "id": "MEbuc8wWVzwJ"
      },
      "outputs": [],
      "source": [
        "import pickle\n",
        "with open(HISTORY_FILE_PATH, 'wb') as f:\n",
        "    pickle.dump(fitting_history, f)"
      ]
    },
    {
      "cell_type": "code",
      "execution_count": null,
      "metadata": {
        "id": "qP-EJhyvWpbL"
      },
      "outputs": [],
      "source": []
    }
  ],
  "metadata": {
    "accelerator": "GPU",
    "colab": {
      "gpuType": "T4",
      "machine_shape": "hm",
      "provenance": []
    },
    "kernelspec": {
      "display_name": "Python 3",
      "name": "python3"
    },
    "language_info": {
      "name": "python"
    }
  },
  "nbformat": 4,
  "nbformat_minor": 0
}