{
  "nbformat": 4,
  "nbformat_minor": 0,
  "metadata": {
    "colab": {
      "private_outputs": true,
      "provenance": [],
      "machine_shape": "hm"
    },
    "kernelspec": {
      "name": "python3",
      "display_name": "Python 3"
    },
    "language_info": {
      "name": "python"
    }
  },
  "cells": [
    {
      "cell_type": "code",
      "execution_count": null,
      "metadata": {
        "id": "UiV_OVyOy8vL"
      },
      "outputs": [],
      "source": [
        "!pip install -q tensorflow-recommenders\n",
        "!pip install -q --upgrade tensorflow-datasets"
      ]
    },
    {
      "cell_type": "code",
      "source": [
        "import pprint\n",
        "\n",
        "%matplotlib inline\n",
        "import matplotlib.pyplot as plt\n",
        "from mpl_toolkits.axes_grid1 import make_axes_locatable\n",
        "\n",
        "import numpy as np\n",
        "import tensorflow as tf\n",
        "import tensorflow_datasets as tfds\n",
        "\n",
        "import tensorflow_recommenders as tfrs"
      ],
      "metadata": {
        "id": "d873gYbD0CGF"
      },
      "execution_count": null,
      "outputs": []
    },
    {
      "cell_type": "code",
      "source": [
        "# import packages\n",
        "import pandas as pd\n",
        "import seaborn as sns\n",
        "import matplotlib.pyplot as plt\n",
        "import random\n",
        "import sys\n",
        "import csv\n",
        "import gzip\n",
        "import copy\n",
        "import datetime\n",
        "from tqdm import tqdm\n",
        "from sklearn import metrics\n",
        "from tabulate import tabulate"
      ],
      "metadata": {
        "id": "8oRrlXZI0ETP"
      },
      "execution_count": null,
      "outputs": []
    },
    {
      "cell_type": "code",
      "source": [
        "seed_value = 42  # seed for reproducibility\n",
        "random.seed(seed_value)"
      ],
      "metadata": {
        "id": "tIqMLfCl0K2k"
      },
      "execution_count": null,
      "outputs": []
    },
    {
      "cell_type": "code",
      "source": [
        "import warnings\n",
        "warnings.filterwarnings(action='ignore')"
      ],
      "metadata": {
        "id": "HO3hrqUawL05"
      },
      "execution_count": null,
      "outputs": []
    },
    {
      "cell_type": "code",
      "source": [
        "from google.colab import drive\n",
        "drive.mount('/content/drive')"
      ],
      "metadata": {
        "id": "mtzzM19O0ZKB"
      },
      "execution_count": null,
      "outputs": []
    },
    {
      "cell_type": "code",
      "source": [
        "sys.path.append('/content/drive/MyDrive/ctr/code/model')"
      ],
      "metadata": {
        "id": "l_8Fpg8C9LZS"
      },
      "execution_count": null,
      "outputs": []
    },
    {
      "cell_type": "code",
      "source": [
        "import dcn\n",
        "import run_models"
      ],
      "metadata": {
        "id": "DEaL_7Vy9YD2"
      },
      "execution_count": null,
      "outputs": []
    },
    {
      "cell_type": "code",
      "source": [
        "subsample_ratio = 0.5\n",
        "skip_values = lambda i: i>0 and random.random() > subsample_ratio"
      ],
      "metadata": {
        "id": "8nL9Vsw-m2So"
      },
      "execution_count": null,
      "outputs": []
    },
    {
      "cell_type": "code",
      "source": [
        "FILE_PATH = '/content/drive/MyDrive/ctr/avazu/processed/train/train.csv'\n",
        "train = pd.read_csv(FILE_PATH, skiprows=skip_values)"
      ],
      "metadata": {
        "id": "WkfHADIhFAEM"
      },
      "execution_count": null,
      "outputs": []
    },
    {
      "cell_type": "code",
      "source": [
        "# id_null = train[train['device_id'] == 'a99f214a'].astype(str)\n",
        "id_filled = train[train['device_id'] != 'a99f214a'].astype(str)\n",
        "del train"
      ],
      "metadata": {
        "id": "v9W8L1BwThdx"
      },
      "execution_count": null,
      "outputs": []
    },
    {
      "cell_type": "code",
      "source": [
        "len(id_filled)"
      ],
      "metadata": {
        "id": "ceVg1TX_jsh-"
      },
      "execution_count": null,
      "outputs": []
    },
    {
      "cell_type": "code",
      "source": [
        "# 1. 몇 %의 User가 한개의 Featre 값을 갖는가\n",
        "# 2. 한개의 Feature 값을 한 User만 갖는, Feature 내에서의 비율"
      ],
      "metadata": {
        "id": "WeSu9DWcgerZ"
      },
      "execution_count": null,
      "outputs": []
    },
    {
      "cell_type": "code",
      "source": [
        "def get_unique_value_ratio(set_dict):\n",
        "    total_num = 0\n",
        "    unique_num = 0\n",
        "    for id, value_set in set_dict.items():\n",
        "        total_num += 1\n",
        "        if len(value_set) == 1:\n",
        "            unique_num += 1\n",
        "    return unique_num / total_num\n",
        "def get_unique_value_ratio_data(data, id_feature, target_feature):\n",
        "    set_dict = {}\n",
        "    def get_value_set(row, id_feature, target_feature):\n",
        "        id, target = row[id_feature], row[target_feature]\n",
        "        if id not in set_dict:\n",
        "            set_dict[id] = set()\n",
        "        set_dict[id].add(target)\n",
        "    data.apply(lambda row: get_value_set(row, id_feature, target_feature), axis=1)\n",
        "    unique_value_ratio = get_unique_value_ratio(set_dict)\n",
        "    return unique_value_ratio"
      ],
      "metadata": {
        "id": "OFWYNGZN7Gwx"
      },
      "execution_count": null,
      "outputs": []
    },
    {
      "cell_type": "code",
      "source": [
        "def get_unique_user_ratio(set_dict):\n",
        "    total_num = 0\n",
        "    unique_num = 0\n",
        "    for id, value_set in set_dict.items():\n",
        "        total_num += 1\n",
        "        if len(value_set) == 1:\n",
        "            unique_num += 1\n",
        "    return unique_num / total_num\n",
        "\n",
        "def get_unique_user_ratio_data(data, id_feature, target_feature):\n",
        "    set_dict = {}\n",
        "    def get_user_set(row, id_feature, target_feature):\n",
        "        id, target = row[id_feature], row[target_feature]\n",
        "        if target not in set_dict:\n",
        "            set_dict[target] = set()\n",
        "        set_dict[target].add(id)\n",
        "    data.apply(lambda row: get_user_set(row, id_feature, target_feature), axis=1)\n",
        "    unique_value_ratio = get_unique_user_ratio(set_dict)\n",
        "    return unique_value_ratio"
      ],
      "metadata": {
        "id": "SrwJOiJqe9NS"
      },
      "execution_count": null,
      "outputs": []
    },
    {
      "cell_type": "code",
      "source": [
        "def ret_user_ratio_df(data, id_feature):\n",
        "    columns = [\n",
        "        'site_id', 'site_domain', 'site_category',\n",
        "        'app_id', 'app_domain', 'app_category',\n",
        "        'device_ip', 'device_model', 'device_type', 'device_conn_type',\n",
        "        'C1', 'C14', 'C15', 'C16', 'C17', 'C18', 'C19', 'C20', 'C21'\n",
        "        ]\n",
        "    df = pd.DataFrame(columns=['target_feature',\n",
        "                               'unique value ratio',\n",
        "                               'unique user ratio'\n",
        "                               ])\n",
        "    for target_feature in columns:\n",
        "        print(target_feature)\n",
        "        value_ratio = get_unique_value_ratio_data(data, id_feature, target_feature)\n",
        "        user_ratio = get_unique_user_ratio_data(data, id_feature, target_feature)\n",
        "        df.loc[len(df)] = {\n",
        "            'target_feature' : target_feature,\n",
        "            'unique value ratio' : value_ratio,\n",
        "            'unique user ratio' : user_ratio\n",
        "        }\n",
        "    return df"
      ],
      "metadata": {
        "id": "fdPmN-jN-AAQ"
      },
      "execution_count": null,
      "outputs": []
    },
    {
      "cell_type": "code",
      "source": [],
      "metadata": {
        "id": "Oaox0xxOrk_e"
      },
      "execution_count": null,
      "outputs": []
    },
    {
      "cell_type": "code",
      "source": [
        "def ret_user_ratio_df_f2(data, id_feature):\n",
        "    columns = [\n",
        "        'site_id', 'site_domain', 'site_category',\n",
        "        'app_id', 'app_domain', 'app_category',\n",
        "        'device_ip', 'device_model', 'device_type', 'device_conn_type',\n",
        "        'C1', 'C14', 'C15', 'C16', 'C17', 'C18', 'C19', 'C20', 'C21'\n",
        "        ]\n",
        "    df = pd.DataFrame(columns=['target_feature',\n",
        "                            'unique value ratio',\n",
        "                            'unique user ratio'\n",
        "                            ])\n",
        "    for idx1 in tqdm(range(len(columns))):\n",
        "        for idx2 in range(idx1+1, len(columns)):\n",
        "            col1, col2 = columns[idx1], columns[idx2]\n",
        "            col = col1 + ' & ' + col2\n",
        "            data[col] = data[[col1, col2]].agg('-'.join, axis=1)\n",
        "            target_feature = col\n",
        "            value_ratio = get_unique_value_ratio_data(data, id_feature, target_feature)\n",
        "            user_ratio = get_unique_user_ratio_data(data, id_feature, target_feature)\n",
        "            df.loc[len(df)] = {\n",
        "                'target_feature' : target_feature,\n",
        "                'unique value ratio' : value_ratio,\n",
        "                'unique user ratio' : user_ratio\n",
        "            }\n",
        "            data.drop(col, axis=1, inplace=True)\n",
        "    return df"
      ],
      "metadata": {
        "id": "57x2b8GahnIL"
      },
      "execution_count": null,
      "outputs": []
    },
    {
      "cell_type": "code",
      "source": [
        "def ret_user_ratio_df_f3(data, id_feature):\n",
        "    columns = [\n",
        "        'site_id', 'site_domain', 'site_category',\n",
        "        'app_id', 'app_domain', 'app_category',\n",
        "        'device_ip', 'device_model', 'device_type', 'device_conn_type',\n",
        "        'C1', 'C14', 'C15', 'C16', 'C17', 'C18', 'C19', 'C20', 'C21'\n",
        "        ]\n",
        "    df = pd.DataFrame(columns=['target_feature',\n",
        "                            'unique value ratio',\n",
        "                            'unique user ratio'\n",
        "                            ])\n",
        "    for idx1 in tqdm(range(len(columns))):\n",
        "        for idx2 in range(idx1+1, len(columns)):\n",
        "            for idx3 in range(idx2+1, len(columns)):\n",
        "                col1, col2, col3 = columns[idx1], columns[idx2], columns[idx3]\n",
        "                col = col1 + ' & ' + col2 + ' & ' + col3\n",
        "                data[col] = data[[col1, col2, col3]].agg('-'.join, axis=1)\n",
        "                target_feature = col\n",
        "                value_ratio = get_unique_value_ratio_data(data, id_feature, target_feature)\n",
        "                user_ratio = get_unique_user_ratio_data(data, id_feature, target_feature)\n",
        "                df.loc[len(df)] = {\n",
        "                    'target_feature' : target_feature,\n",
        "                    'unique value ratio' : value_ratio,\n",
        "                    'unique user ratio' : user_ratio\n",
        "                }\n",
        "                data.drop(col, axis=1, inplace=True)\n",
        "    return df"
      ],
      "metadata": {
        "id": "tk8xHWh_ptvw"
      },
      "execution_count": null,
      "outputs": []
    },
    {
      "cell_type": "code",
      "source": [
        "# df = ret_user_ratio_df(id_filled, 'device_id')"
      ],
      "metadata": {
        "id": "eNR2_UZO_XoV"
      },
      "execution_count": null,
      "outputs": []
    },
    {
      "cell_type": "code",
      "source": [
        "# df_f2 = ret_user_ratio_df_f2(id_filled, 'device_id')\n",
        "# df_f2['unique value ratio'] = (df_f2['unique value ratio'] * 100).apply('{:.2f}'.format)\n",
        "# df_f2['unique user ratio'] = (df_f2['unique user ratio'] * 100).apply('{:.2f}'.format)\n",
        "# df_f2"
      ],
      "metadata": {
        "id": "56TYJR9_iFrW"
      },
      "execution_count": null,
      "outputs": []
    },
    {
      "cell_type": "code",
      "source": [
        "# import pickle\n",
        "# with open('/content/drive/MyDrive/ctr/data/df_f2.p', 'wb') as f:\n",
        "#     pickle.dump(df_f2, f)"
      ],
      "metadata": {
        "id": "sHxFPMAfcuPk"
      },
      "execution_count": null,
      "outputs": []
    },
    {
      "cell_type": "code",
      "source": [
        "df_f3 = ret_user_ratio_df_f3(id_filled, 'device_id')\n",
        "df_f3['unique value ratio'] = (df_f3['unique value ratio'] * 100).apply('{:.2f}'.format)\n",
        "df_f3['unique user ratio'] = (df_f3['unique user ratio'] * 100).apply('{:.2f}'.format)\n",
        "df_f3"
      ],
      "metadata": {
        "id": "mkdjCxXlkqov"
      },
      "execution_count": null,
      "outputs": []
    },
    {
      "cell_type": "code",
      "source": [
        "with open('/content/drive/MyDrive/ctr/data/df_f3.p', 'wb') as f:\n",
        "    pickle.dump(df_f3, f)"
      ],
      "metadata": {
        "id": "eCbF7gPbc1k5"
      },
      "execution_count": null,
      "outputs": []
    },
    {
      "cell_type": "code",
      "source": [
        "df_f2[df_f2['target_feature'] == 'device_ip & device_model']"
      ],
      "metadata": {
        "id": "erFXg9PPoZbu"
      },
      "execution_count": null,
      "outputs": []
    },
    {
      "cell_type": "code",
      "source": [
        "tmp_f2 = df_f2.astype({\n",
        "    'unique value ratio' : float,\n",
        "    'unique user ratio' : float\n",
        "})"
      ],
      "metadata": {
        "id": "oIkthevXguwk"
      },
      "execution_count": null,
      "outputs": []
    },
    {
      "cell_type": "code",
      "source": [
        "tmp_f2[(tmp_f2['unique value ratio'] > 93) & (tmp_f2['unique user ratio'] > 97)]"
      ],
      "metadata": {
        "id": "x5228HVahUbY"
      },
      "execution_count": null,
      "outputs": []
    },
    {
      "cell_type": "code",
      "source": [
        "tmp_f3 = df_f3.astype({\n",
        "    'unique value ratio' : float,\n",
        "    'unique user ratio' : float\n",
        "})"
      ],
      "metadata": {
        "id": "yGDm4GcLhFfI"
      },
      "execution_count": null,
      "outputs": []
    },
    {
      "cell_type": "code",
      "source": [
        "tmp_f3[(tmp_f3['unique value ratio'] > 93) & (tmp_f3['unique user ratio'] >97)]"
      ],
      "metadata": {
        "id": "BXPXe4dQoZUP"
      },
      "execution_count": null,
      "outputs": []
    },
    {
      "cell_type": "code",
      "source": [],
      "metadata": {
        "id": "kkV2whRloZM3"
      },
      "execution_count": null,
      "outputs": []
    },
    {
      "cell_type": "code",
      "source": [],
      "metadata": {
        "id": "-FYHjvrr_bQQ"
      },
      "execution_count": null,
      "outputs": []
    },
    {
      "cell_type": "code",
      "source": [],
      "metadata": {
        "id": "Ckdp1tab_bGL"
      },
      "execution_count": null,
      "outputs": []
    },
    {
      "cell_type": "code",
      "source": [],
      "metadata": {
        "id": "QdoSphQo8RFx"
      },
      "execution_count": null,
      "outputs": []
    },
    {
      "cell_type": "code",
      "source": [],
      "metadata": {
        "id": "c0eOjLKO6ZA8"
      },
      "execution_count": null,
      "outputs": []
    },
    {
      "cell_type": "code",
      "source": [],
      "metadata": {
        "id": "ZN8YEGJ66Y51"
      },
      "execution_count": null,
      "outputs": []
    },
    {
      "cell_type": "code",
      "source": [],
      "metadata": {
        "id": "kBEGixrEjrXS"
      },
      "execution_count": null,
      "outputs": []
    },
    {
      "cell_type": "code",
      "source": [],
      "metadata": {
        "id": "RYKuXzROgZoa"
      },
      "execution_count": null,
      "outputs": []
    },
    {
      "cell_type": "code",
      "source": [
        "def count_df():\n",
        "    # 한 유저가 보유하는 Model 개수 통계 - 99%가 1개 보유\n",
        "    count_df = ret_count_df(id_filled, 'device_id', 'device_model')\n",
        "    # 특정 Device Model을 사용하는 User의 수 통계 - 17%가 1명\n",
        "    count_df = ret_count_df(id_filled, 'device_model', 'device_id')\n",
        "    # 한 유저가 보유하는 IP 종류 통계 - 84%가 1개\n",
        "    count_df = ret_count_df(id_filled, 'device_id', 'device_ip')\n",
        "    # 특정 IP를 사용하는 User 수 통계 - 83%가 1명\n",
        "    count_df = ret_count_df(id_filled, 'device_ip', 'device_id')\n",
        "    # 한 유저가 보유하는 App ID 종류 통계 - 96%가 1개\n",
        "    count_df = ret_count_df(id_filled, 'device_id', 'app_id')\n",
        "    # 특정 App ID를 사용하는 User 수 통계 - 31%\n",
        "    count_df = ret_count_df(id_filled, 'app_id', 'device_id')"
      ],
      "metadata": {
        "id": "HjIEhGJmycv9"
      },
      "execution_count": null,
      "outputs": []
    },
    {
      "cell_type": "code",
      "source": [
        "def count_df2():\n",
        "    # 한 IP + Model + App 값에 대한 User 수 통계 - 94.5%가 한명\n",
        "    id_filled['IP + Model + App'] = id_filled[['device_ip', 'device_model', 'app_id']].agg('-'.join, axis=1)\n",
        "    count_df = ret_count_df(id_filled, 'IP + Model + App','device_id')\n",
        "\n",
        "    # 한 IP + Model 값에 대한 User 수 통계 - 93.1%가 한명\n",
        "    id_filled['IP + Model'] = id_filled[['device_ip', 'device_model']].agg('-'.join, axis=1)\n",
        "    count_df = ret_count_df(id_filled, 'IP + Model','device_id')"
      ],
      "metadata": {
        "id": "MTDWi8Bp5JvR"
      },
      "execution_count": null,
      "outputs": []
    },
    {
      "cell_type": "code",
      "source": [],
      "metadata": {
        "id": "L8jDLDxNuuYV"
      },
      "execution_count": null,
      "outputs": []
    },
    {
      "cell_type": "code",
      "source": [],
      "metadata": {
        "id": "PwIRNITUuuRS"
      },
      "execution_count": null,
      "outputs": []
    }
  ]
}