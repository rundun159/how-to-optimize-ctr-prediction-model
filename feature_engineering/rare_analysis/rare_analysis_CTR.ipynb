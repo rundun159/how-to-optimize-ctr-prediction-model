{
  "nbformat": 4,
  "nbformat_minor": 0,
  "metadata": {
    "colab": {
      "private_outputs": true,
      "provenance": [],
      "machine_shape": "hm"
    },
    "kernelspec": {
      "name": "python3",
      "display_name": "Python 3"
    },
    "language_info": {
      "name": "python"
    }
  },
  "cells": [
    {
      "cell_type": "code",
      "execution_count": null,
      "metadata": {
        "id": "UiV_OVyOy8vL"
      },
      "outputs": [],
      "source": [
        "!pip install -q tensorflow-recommenders\n",
        "!pip install -q --upgrade tensorflow-datasets"
      ]
    },
    {
      "cell_type": "code",
      "source": [
        "import pprint\n",
        "\n",
        "%matplotlib inline\n",
        "import matplotlib.pyplot as plt\n",
        "from mpl_toolkits.axes_grid1 import make_axes_locatable\n",
        "\n",
        "import numpy as np\n",
        "import tensorflow as tf\n",
        "import tensorflow_datasets as tfds\n",
        "\n",
        "import tensorflow_recommenders as tfrs"
      ],
      "metadata": {
        "id": "d873gYbD0CGF"
      },
      "execution_count": null,
      "outputs": []
    },
    {
      "cell_type": "code",
      "source": [
        "# import packages\n",
        "import pandas as pd\n",
        "import seaborn as sns\n",
        "import matplotlib.pyplot as plt\n",
        "import random\n",
        "import sys\n",
        "import csv\n",
        "import gzip\n",
        "import copy\n",
        "import datetime\n",
        "from tqdm import tqdm\n",
        "from sklearn import metrics\n",
        "from tabulate import tabulate"
      ],
      "metadata": {
        "id": "8oRrlXZI0ETP"
      },
      "execution_count": null,
      "outputs": []
    },
    {
      "cell_type": "code",
      "source": [
        "seed_value = 42  # seed for reproducibility\n",
        "random.seed(seed_value)"
      ],
      "metadata": {
        "id": "tIqMLfCl0K2k"
      },
      "execution_count": null,
      "outputs": []
    },
    {
      "cell_type": "code",
      "source": [
        "import warnings\n",
        "warnings.filterwarnings(action='ignore')"
      ],
      "metadata": {
        "id": "HO3hrqUawL05"
      },
      "execution_count": null,
      "outputs": []
    },
    {
      "cell_type": "code",
      "source": [
        "from google.colab import drive\n",
        "drive.mount('/content/drive')"
      ],
      "metadata": {
        "id": "mtzzM19O0ZKB"
      },
      "execution_count": null,
      "outputs": []
    },
    {
      "cell_type": "code",
      "source": [
        "sys.path.append('/content/drive/MyDrive/ctr/code/model')"
      ],
      "metadata": {
        "id": "l_8Fpg8C9LZS"
      },
      "execution_count": null,
      "outputs": []
    },
    {
      "cell_type": "code",
      "source": [
        "import dcn\n",
        "import run_models"
      ],
      "metadata": {
        "id": "DEaL_7Vy9YD2"
      },
      "execution_count": null,
      "outputs": []
    },
    {
      "cell_type": "code",
      "source": [
        "FILE_PATH = '/content/drive/MyDrive/ctr/avazu/processed/train/train.csv'\n",
        "train = pd.read_csv(FILE_PATH)"
      ],
      "metadata": {
        "id": "WkfHADIhFAEM"
      },
      "execution_count": null,
      "outputs": []
    },
    {
      "cell_type": "code",
      "source": [
        "multi_dimensional_features = {\n",
        "    'site' : ['site_id', 'site_domain'],\n",
        "    'device' : ['device_model'],\n",
        "    'app' : ['app_id', 'app_domain'],\n",
        "    'categorical' : ['C14', 'C17', 'C19', 'C20']\n",
        "}"
      ],
      "metadata": {
        "id": "LqxLQvaH5sp4"
      },
      "execution_count": null,
      "outputs": []
    },
    {
      "cell_type": "code",
      "source": [
        "import pickle\n",
        "with open('/content/drive/MyDrive/ctr/data/total_voca.p', 'rb') as f:\n",
        "    total_voca = pickle.load(f)\n",
        "FEATURE_ANALYSIS = '/content/drive/MyDrive/ctr/data/feature_analysis.csv'\n",
        "feature_analysis = pd.read_csv(FEATURE_ANALYSIS)\n",
        "RARE_COUNT_DF = '/content/drive/MyDrive/ctr/data/rare_count_df.csv'\n",
        "rare_count_df = pd.read_csv(RARE_COUNT_DF)"
      ],
      "metadata": {
        "id": "1CYNQIVTb9pq"
      },
      "execution_count": null,
      "outputs": []
    },
    {
      "cell_type": "markdown",
      "source": [
        "<h2>Category Imp Ratio & Average CTR Analysis</h2>"
      ],
      "metadata": {
        "id": "mpCiakkxj3tp"
      }
    },
    {
      "cell_type": "code",
      "source": [
        "def get_cate_imp_click_cnt(data, feature, voca):\n",
        "    cate_imp_click_cnt = {}\n",
        "    for cate in voca:\n",
        "        cate_imp_click_cnt[cate] = {'imp': 0, 'click': 0}\n",
        "        cate_imp_click_cnt['Rare'] = {'imp':0, 'click': 0}\n",
        "\n",
        "    def get_imp_click(row, feature):\n",
        "        click = row['click']\n",
        "        cate = row[feature]\n",
        "        if cate not in voca:\n",
        "            cate_imp_click_cnt['Rare']['imp'] += 1\n",
        "            cate_imp_click_cnt['Rare']['click'] += click\n",
        "        else:\n",
        "            cate_imp_click_cnt[cate]['imp'] += 1\n",
        "            cate_imp_click_cnt[cate]['click'] += click\n",
        "\n",
        "    data[['click', feature]].apply(lambda row: get_imp_click(row, feature), axis=1)\n",
        "    return cate_imp_click_cnt"
      ],
      "metadata": {
        "id": "VOOrkLhXjxSt"
      },
      "execution_count": null,
      "outputs": []
    },
    {
      "cell_type": "code",
      "source": [
        "def get_cate_analysis_ctr(cate_analysis_ctr, data, feature, param):\n",
        "    voca, selection_mode, value = param\n",
        "    cate_num = len(voca) + 1\n",
        "    cate_imp_click_cnt = get_cate_imp_click_cnt(data, feature, voca)\n",
        "    cate_analysis_ctr['selection mode'] += [selection_mode] * cate_num\n",
        "    cate_analysis_ctr['value'] += [value] * cate_num\n",
        "    cate_analysis_ctr['feature'] += [feature] * cate_num\n",
        "    cate_analysis_ctr['cate num'] += [cate_num] * cate_num\n",
        "\n",
        "    for idx, cate in enumerate(voca):\n",
        "        cate_value_idx = idx + 1\n",
        "        cate_analysis_ctr['cate value idx'].append(cate_value_idx)\n",
        "        cate_analysis_ctr['cate value'].append(cate)\n",
        "        imp, click = cate_imp_click_cnt[cate]['imp'], cate_imp_click_cnt[cate]['click']\n",
        "        cate_analysis_ctr['imp'].append(imp)\n",
        "        cate_analysis_ctr['imp frequency ratio'].append(imp / TOTAL_IMP * 100)\n",
        "        cate_analysis_ctr['click'].append(click)\n",
        "        if imp == 0:\n",
        "            cate_analysis_ctr['average CTR'].append(0)\n",
        "        else:\n",
        "            cate_analysis_ctr['average CTR'].append(click / imp * 100)\n",
        "\n",
        "    imp, click = cate_imp_click_cnt['Rare']['imp'], cate_imp_click_cnt['Rare']['click']\n",
        "    cate_analysis_ctr['cate value idx'].append(cate_num)\n",
        "    cate_analysis_ctr['cate value'].append('Rare')\n",
        "    cate_analysis_ctr['imp'].append(imp)\n",
        "    cate_analysis_ctr['imp frequency ratio'].append(imp / TOTAL_IMP * 100)\n",
        "    cate_analysis_ctr['click'].append(click)\n",
        "    if imp == 0:\n",
        "        cate_analysis_ctr['average CTR'].append(0)\n",
        "    else:\n",
        "        cate_analysis_ctr['average CTR'].append(click / imp * 100)\n",
        "    return cate_analysis_ctr"
      ],
      "metadata": {
        "id": "DTMMqj3U2pKZ"
      },
      "execution_count": null,
      "outputs": []
    },
    {
      "cell_type": "code",
      "source": [
        "data = train\n",
        "cate_analysis_ctr = {\n",
        "    'selection mode' : [],\n",
        "    'value' : [],\n",
        "    'feature' : [],\n",
        "    'cate num' : [],\n",
        "    'cate value idx' : [],\n",
        "    'cate value' : [],\n",
        "    'imp' : [],\n",
        "    'imp frequency ratio' : [],\n",
        "    'click' : [],\n",
        "    'average CTR' : []\n",
        "}\n",
        "\n",
        "TOTAL_IMP = len(data)\n",
        "for (top_num_val, threshold_val), voca in total_voca.items():\n",
        "    print(top_num_val, threshold_val)\n",
        "    for feature, voca_dict in voca.items():\n",
        "        print(feature)\n",
        "        top_num_voca, over_threshold_voca = voca_dict['top_num'], voca_dict['over_threshold']\n",
        "\n",
        "        param_tuple = {\n",
        "            'Top Num' : (top_num_voca, 'Top Num', top_num_val),\n",
        "            'Threshold' : (over_threshold_voca, 'Threshold', threshold_val)\n",
        "        }\n",
        "\n",
        "        cate_analysis_ctr = get_cate_analysis_ctr(cate_analysis_ctr, data, feature, param_tuple['Top Num'])\n",
        "        cate_analysis_ctr = get_cate_analysis_ctr(cate_analysis_ctr, data, feature, param_tuple['Threshold'])"
      ],
      "metadata": {
        "id": "DeJ58kevejbM"
      },
      "execution_count": null,
      "outputs": []
    },
    {
      "cell_type": "code",
      "source": [
        "cate_analysis_ctr_df = pd.DataFrame(cate_analysis_ctr)"
      ],
      "metadata": {
        "id": "G7Ud6V5dmJM6"
      },
      "execution_count": null,
      "outputs": []
    },
    {
      "cell_type": "code",
      "source": [
        "cate_analysis_ctr_df[(cate_analysis_ctr_df['cate value'] == 'Rare') & (cate_analysis_ctr_df['selection mode'] == 'Top Num')]"
      ],
      "metadata": {
        "id": "uRrWVD3H3_RM"
      },
      "execution_count": null,
      "outputs": []
    },
    {
      "cell_type": "code",
      "source": [
        "cate_analysis_ctr_df[(cate_analysis_ctr_df['cate value'] == 'Rare') & (cate_analysis_ctr_df['selection mode'] == 'Threshold')]"
      ],
      "metadata": {
        "id": "WYXyqXXy3pEM"
      },
      "execution_count": null,
      "outputs": []
    },
    {
      "cell_type": "code",
      "source": [],
      "metadata": {
        "id": "xTYbwgZml7yb"
      },
      "execution_count": null,
      "outputs": []
    },
    {
      "cell_type": "code",
      "source": [
        "cate_analysis_ctr_df.to_csv('/content/drive/MyDrive/ctr/data/cate_analysis_ctr_df.csv', index=False)"
      ],
      "metadata": {
        "id": "qRxOPU3miVNQ"
      },
      "execution_count": null,
      "outputs": []
    },
    {
      "cell_type": "code",
      "source": [],
      "metadata": {
        "id": "kXBCTcZZl9CM"
      },
      "execution_count": null,
      "outputs": []
    }
  ]
}