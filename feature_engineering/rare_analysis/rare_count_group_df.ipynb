{
  "nbformat": 4,
  "nbformat_minor": 0,
  "metadata": {
    "colab": {
      "private_outputs": true,
      "provenance": [],
      "machine_shape": "hm"
    },
    "kernelspec": {
      "name": "python3",
      "display_name": "Python 3"
    },
    "language_info": {
      "name": "python"
    }
  },
  "cells": [
    {
      "cell_type": "code",
      "execution_count": null,
      "metadata": {
        "id": "UiV_OVyOy8vL"
      },
      "outputs": [],
      "source": [
        "!pip install -q tensorflow-recommenders\n",
        "!pip install -q --upgrade tensorflow-datasets"
      ]
    },
    {
      "cell_type": "code",
      "source": [
        "import pprint\n",
        "\n",
        "%matplotlib inline\n",
        "import matplotlib.pyplot as plt\n",
        "from mpl_toolkits.axes_grid1 import make_axes_locatable\n",
        "\n",
        "import numpy as np\n",
        "import tensorflow as tf\n",
        "import tensorflow_datasets as tfds\n",
        "\n",
        "import tensorflow_recommenders as tfrs"
      ],
      "metadata": {
        "id": "d873gYbD0CGF"
      },
      "execution_count": null,
      "outputs": []
    },
    {
      "cell_type": "code",
      "source": [
        "# import packages\n",
        "import pandas as pd\n",
        "import seaborn as sns\n",
        "import matplotlib.pyplot as plt\n",
        "import random\n",
        "import sys\n",
        "import csv\n",
        "import gzip\n",
        "import copy\n",
        "import datetime\n",
        "from tqdm import tqdm\n",
        "from sklearn import metrics\n",
        "from tabulate import tabulate"
      ],
      "metadata": {
        "id": "8oRrlXZI0ETP"
      },
      "execution_count": null,
      "outputs": []
    },
    {
      "cell_type": "code",
      "source": [
        "seed_value = 42  # seed for reproducibility\n",
        "random.seed(seed_value)"
      ],
      "metadata": {
        "id": "tIqMLfCl0K2k"
      },
      "execution_count": null,
      "outputs": []
    },
    {
      "cell_type": "code",
      "source": [
        "import warnings\n",
        "warnings.filterwarnings(action='ignore')"
      ],
      "metadata": {
        "id": "HO3hrqUawL05"
      },
      "execution_count": null,
      "outputs": []
    },
    {
      "cell_type": "code",
      "source": [
        "from google.colab import drive\n",
        "drive.mount('/content/drive')"
      ],
      "metadata": {
        "id": "mtzzM19O0ZKB"
      },
      "execution_count": null,
      "outputs": []
    },
    {
      "cell_type": "code",
      "source": [
        "sys.path.append('/content/drive/MyDrive/ctr/code/model')"
      ],
      "metadata": {
        "id": "l_8Fpg8C9LZS"
      },
      "execution_count": null,
      "outputs": []
    },
    {
      "cell_type": "code",
      "source": [
        "import dcn\n",
        "import run_models"
      ],
      "metadata": {
        "id": "DEaL_7Vy9YD2"
      },
      "execution_count": null,
      "outputs": []
    },
    {
      "cell_type": "code",
      "source": [
        "FILE_PATH = '/content/drive/MyDrive/ctr/avazu/processed/train/train.csv'\n",
        "train = pd.read_csv(FILE_PATH)"
      ],
      "metadata": {
        "id": "WkfHADIhFAEM"
      },
      "execution_count": null,
      "outputs": []
    },
    {
      "cell_type": "code",
      "source": [
        "TOTAL_CLICK = np.sum(train['click'])\n",
        "CTR = TOTAL_CLICK / len(train) * 100"
      ],
      "metadata": {
        "id": "eCbqBPxUeFyo"
      },
      "execution_count": null,
      "outputs": []
    },
    {
      "cell_type": "code",
      "source": [
        "rare_count_df = pd.read_csv('/content/drive/MyDrive/ctr/data/total_rare_count_df.csv')"
      ],
      "metadata": {
        "id": "k8tGsRajU3RV"
      },
      "execution_count": null,
      "outputs": []
    },
    {
      "cell_type": "code",
      "source": [
        "mode_dict = {\n",
        "    'Top Num' : [10, 25, 50, 75, 100, 200],\n",
        "    'Threshold' : [10, 500, 1000, 2500, 5000, 10000]\n",
        "}\n",
        "\n",
        "rare_count_group = {\n",
        "    'selection mode' : [],\n",
        "    'value' : [],\n",
        "    'rare count' : [],\n",
        "    'imp' : [],\n",
        "    'imp frequency ratio' : [],\n",
        "    'click' : [],\n",
        "    'average CTR' : []\n",
        "}\n",
        "\n",
        "FEATURE_NUM = 9\n",
        "TOTAL_IMP = len(train)\n",
        "click_list = list(train['click'])\n",
        "\n",
        "for selection_mode, value_list in mode_dict.items():\n",
        "    for value in value_list:\n",
        "        print(selection_mode, value)\n",
        "        rare_count_list = list(rare_count_df[rare_count_df[selection_mode] == value][selection_mode + ' Rare Count'])\n",
        "\n",
        "        rare_count_dict = {}\n",
        "        for rare_count in range(FEATURE_NUM + 1):\n",
        "            rare_count_dict[rare_count] = {'imp':0, 'click':0}\n",
        "\n",
        "        for rare, click in zip(rare_count_list, click_list):\n",
        "            rare_count_dict[rare]['imp'] += 1\n",
        "            rare_count_dict[rare]['click'] += click\n",
        "\n",
        "        rare_count_group['selection mode'] += [selection_mode] * (FEATURE_NUM + 1)\n",
        "        rare_count_group['value'] += [value] * (FEATURE_NUM + 1)\n",
        "        rare_count_group['rare count'] += list(range(FEATURE_NUM + 1))\n",
        "\n",
        "        for rare_count in range(FEATURE_NUM + 1):\n",
        "            imp, click = rare_count_dict[rare_count]['imp'], rare_count_dict[rare_count]['click']\n",
        "            imp_frequency_ratio = imp / TOTAL_IMP * 100\n",
        "            average_CTR = click / imp * 100 if imp != 0 else 0\n",
        "\n",
        "            rare_count_group['imp'].append(imp)\n",
        "            rare_count_group['imp frequency ratio'].append(imp_frequency_ratio)\n",
        "            rare_count_group['click'].append(click)\n",
        "            rare_count_group['average CTR'].append(average_CTR)"
      ],
      "metadata": {
        "id": "HdbItMCBVv4U"
      },
      "execution_count": null,
      "outputs": []
    },
    {
      "cell_type": "code",
      "source": [
        "rare_count_group_df = pd.DataFrame(rare_count_group)"
      ],
      "metadata": {
        "id": "ByQJk-08XK-H"
      },
      "execution_count": null,
      "outputs": []
    },
    {
      "cell_type": "code",
      "source": [
        "rare_count_group_df.to_csv('/content/drive/MyDrive/ctr/data/rare_count_group_df.csv', index=False)"
      ],
      "metadata": {
        "id": "BC41uQX7fCtZ"
      },
      "execution_count": null,
      "outputs": []
    },
    {
      "cell_type": "code",
      "source": [
        "rare_count_group_df[rare_count_group_df['selection mode'] == 'Top Num']"
      ],
      "metadata": {
        "id": "ay2aqRmY4Qgi"
      },
      "execution_count": null,
      "outputs": []
    },
    {
      "cell_type": "code",
      "source": [
        "for selection_mode, value_list in mode_dict.items():\n",
        "    for value in value_list:\n",
        "        scores = rare_count_group_df[(rare_count_group_df['selection mode'] == selection_mode) & (rare_count_group_df['value'] == value)]\n",
        "        diff = scores['average CTR'] - CTR\n",
        "        diff[diff == -CTR] = 0\n",
        "        scores['diff'] = diff\n",
        "        scores.plot(kind='bar',x='rare count', y=['imp frequency ratio', 'diff'], title=selection_mode + '=' + str(value))"
      ],
      "metadata": {
        "id": "CjA1iTQOatbb"
      },
      "execution_count": null,
      "outputs": []
    },
    {
      "cell_type": "code",
      "source": [],
      "metadata": {
        "id": "svZwvwEIegoA"
      },
      "execution_count": null,
      "outputs": []
    }
  ]
}