{
  "nbformat": 4,
  "nbformat_minor": 0,
  "metadata": {
    "colab": {
      "private_outputs": true,
      "provenance": [],
      "machine_shape": "hm"
    },
    "kernelspec": {
      "name": "python3",
      "display_name": "Python 3"
    },
    "language_info": {
      "name": "python"
    }
  },
  "cells": [
    {
      "cell_type": "code",
      "execution_count": null,
      "metadata": {
        "id": "UiV_OVyOy8vL"
      },
      "outputs": [],
      "source": [
        "!pip install -q tensorflow-recommenders\n",
        "!pip install -q --upgrade tensorflow-datasets"
      ]
    },
    {
      "cell_type": "code",
      "source": [
        "import pprint\n",
        "\n",
        "%matplotlib inline\n",
        "import matplotlib.pyplot as plt\n",
        "from mpl_toolkits.axes_grid1 import make_axes_locatable\n",
        "\n",
        "import numpy as np\n",
        "import tensorflow as tf\n",
        "import tensorflow_datasets as tfds\n",
        "\n",
        "import tensorflow_recommenders as tfrs"
      ],
      "metadata": {
        "id": "d873gYbD0CGF"
      },
      "execution_count": null,
      "outputs": []
    },
    {
      "cell_type": "code",
      "source": [
        "# import packages\n",
        "import pandas as pd\n",
        "import seaborn as sns\n",
        "import matplotlib.pyplot as plt\n",
        "import random\n",
        "import sys\n",
        "import csv\n",
        "import gzip\n",
        "import copy\n",
        "import datetime\n",
        "from tqdm import tqdm\n",
        "from sklearn import metrics\n",
        "from tabulate import tabulate"
      ],
      "metadata": {
        "id": "8oRrlXZI0ETP"
      },
      "execution_count": null,
      "outputs": []
    },
    {
      "cell_type": "code",
      "source": [
        "import warnings\n",
        "warnings.filterwarnings(action='ignore')"
      ],
      "metadata": {
        "id": "HO3hrqUawL05"
      },
      "execution_count": null,
      "outputs": []
    },
    {
      "cell_type": "code",
      "source": [
        "from google.colab import drive\n",
        "drive.mount('/content/drive')"
      ],
      "metadata": {
        "id": "mtzzM19O0ZKB"
      },
      "execution_count": null,
      "outputs": []
    },
    {
      "cell_type": "code",
      "source": [
        "multi_dimensional_features = {\n",
        "    'site' : ['site_id', 'site_domain'],\n",
        "    'device' : ['device_model'],\n",
        "    'app' : ['app_id', 'app_domain'],\n",
        "    'categorical' : ['C14', 'C17', 'C19', 'C20']\n",
        "}"
      ],
      "metadata": {
        "id": "LqxLQvaH5sp4"
      },
      "execution_count": null,
      "outputs": []
    },
    {
      "cell_type": "code",
      "source": [
        "cate_num = {\n",
        "    'site_id' : 3056,\n",
        "    'site_domain' : 3545,\n",
        "    'device_model' : 5765,\n",
        "    'app_id' : 3912,\n",
        "    'app_domain' : 241,\n",
        "    'C14' : 2368,\n",
        "    'C17' : 426,\n",
        "    'C19' : 68,\n",
        "    'C20' : 165\n",
        "}"
      ],
      "metadata": {
        "id": "3arsMDT45YUX"
      },
      "execution_count": null,
      "outputs": []
    },
    {
      "cell_type": "code",
      "source": [
        "CATE_ANALYSIS_CTR_DF = '/content/drive/MyDrive/ctr/data/cate_analysis_ctr_df.csv'\n",
        "cate_analysis_ctr_df = pd.read_csv(CATE_ANALYSIS_CTR_DF)"
      ],
      "metadata": {
        "id": "1CYNQIVTb9pq"
      },
      "execution_count": null,
      "outputs": []
    },
    {
      "cell_type": "code",
      "source": [
        "SELECTION_MODE = 'Top Num'\n",
        "VALUE = 25\n",
        "for f_cate, f_list in multi_dimensional_features.items():\n",
        "    for feature in f_list:\n",
        "        print(\"{} : {}\".format(feature, cate_num[feature]))\n",
        "        f_top_num = cate_analysis_ctr_df[(cate_analysis_ctr_df['feature'] == feature) & (cate_analysis_ctr_df['selection mode'] == SELECTION_MODE) & (cate_analysis_ctr_df['value'] == VALUE)]\n",
        "        print(f_top_num[['cate value idx', 'imp', 'imp frequency ratio', 'average CTR']].head(10))\n",
        "        print(f_top_num.iloc[-3:][['cate value idx', 'imp', 'imp frequency ratio', 'average CTR']])\n",
        "        print()"
      ],
      "metadata": {
        "id": "g-WcBQRtqD2U"
      },
      "execution_count": null,
      "outputs": []
    },
    {
      "cell_type": "code",
      "source": [
        "SELECTION_MODE = 'Threshold'\n",
        "VALUE = 1000\n",
        "for f_cate, f_list in multi_dimensional_features.items():\n",
        "    for feature in f_list:\n",
        "        print(\"{} : {}\".format(feature, cate_num[feature]))\n",
        "        f_top_num = cate_analysis_ctr_df[(cate_analysis_ctr_df['feature'] == feature) & (cate_analysis_ctr_df['selection mode'] == SELECTION_MODE) & (cate_analysis_ctr_df['value'] == VALUE)]\n",
        "        print(f_top_num[['cate value idx', 'imp', 'imp frequency ratio', 'average CTR']].head(10))\n",
        "        print(f_top_num.iloc[-3:][['cate value idx', 'imp', 'imp frequency ratio', 'average CTR']])\n",
        "        print()"
      ],
      "metadata": {
        "id": "kFBxezF54f3h"
      },
      "execution_count": null,
      "outputs": []
    },
    {
      "cell_type": "code",
      "source": [],
      "metadata": {
        "id": "ePNjIt5nqZn0"
      },
      "execution_count": null,
      "outputs": []
    }
  ]
}