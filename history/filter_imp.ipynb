{
  "nbformat": 4,
  "nbformat_minor": 0,
  "metadata": {
    "colab": {
      "private_outputs": true,
      "provenance": [],
      "machine_shape": "hm"
    },
    "kernelspec": {
      "name": "python3",
      "display_name": "Python 3"
    },
    "language_info": {
      "name": "python"
    }
  },
  "cells": [
    {
      "cell_type": "code",
      "execution_count": null,
      "metadata": {
        "id": "UiV_OVyOy8vL"
      },
      "outputs": [],
      "source": [
        "!pip install -q tensorflow-recommenders\n",
        "!pip install -q --upgrade tensorflow-datasets"
      ]
    },
    {
      "cell_type": "code",
      "source": [
        "import pprint\n",
        "\n",
        "%matplotlib inline\n",
        "import matplotlib.pyplot as plt\n",
        "from mpl_toolkits.axes_grid1 import make_axes_locatable\n",
        "\n",
        "import numpy as np\n",
        "import tensorflow as tf\n",
        "import tensorflow_datasets as tfds\n",
        "\n",
        "import tensorflow_recommenders as tfrs"
      ],
      "metadata": {
        "id": "d873gYbD0CGF"
      },
      "execution_count": null,
      "outputs": []
    },
    {
      "cell_type": "code",
      "source": [
        "# import packages\n",
        "import pandas as pd\n",
        "import seaborn as sns\n",
        "import matplotlib.pyplot as plt\n",
        "import random\n",
        "import sys\n",
        "import csv\n",
        "import gzip\n",
        "import copy\n",
        "import datetime\n",
        "from tqdm import tqdm\n",
        "from sklearn import metrics\n",
        "from tabulate import tabulate"
      ],
      "metadata": {
        "id": "8oRrlXZI0ETP"
      },
      "execution_count": null,
      "outputs": []
    },
    {
      "cell_type": "code",
      "source": [
        "seed_value = 42  # seed for reproducibility\n",
        "random.seed(seed_value)"
      ],
      "metadata": {
        "id": "tIqMLfCl0K2k"
      },
      "execution_count": null,
      "outputs": []
    },
    {
      "cell_type": "code",
      "source": [
        "import warnings\n",
        "warnings.filterwarnings(action='ignore')"
      ],
      "metadata": {
        "id": "HO3hrqUawL05"
      },
      "execution_count": null,
      "outputs": []
    },
    {
      "cell_type": "code",
      "source": [
        "from google.colab import drive\n",
        "drive.mount('/content/drive')"
      ],
      "metadata": {
        "id": "mtzzM19O0ZKB"
      },
      "execution_count": null,
      "outputs": []
    },
    {
      "cell_type": "code",
      "source": [
        "sys.path.append('/content/drive/MyDrive/ctr/code/model')"
      ],
      "metadata": {
        "id": "l_8Fpg8C9LZS"
      },
      "execution_count": null,
      "outputs": []
    },
    {
      "cell_type": "code",
      "source": [
        "import dcn\n",
        "import run_models"
      ],
      "metadata": {
        "id": "DEaL_7Vy9YD2"
      },
      "execution_count": null,
      "outputs": []
    },
    {
      "cell_type": "code",
      "source": [
        "FIGSIZE = (6,3)\n",
        "\n",
        "seed_value = 42  # seed for reproducibility\n",
        "random.seed(seed_value)\n",
        "subsample_ratio = 0.05\n",
        "\n",
        "n = 40428967  # total number of records in the clickstream data\n",
        "sample_size = int(n * subsample_ratio)\n",
        "\n",
        "parse_date = lambda val : datetime.datetime.strptime(val, '%y%m%d%H')\n",
        "skip_values = lambda i: i>0 and random.random() > subsample_ratio"
      ],
      "metadata": {
        "id": "8nL9Vsw-m2So"
      },
      "execution_count": null,
      "outputs": []
    },
    {
      "cell_type": "code",
      "source": [
        "# indicate the datatypes to use in the reading process\n",
        "types_train = {\n",
        "    'id': np.dtype(int),\n",
        "    'click': np.dtype(int),\n",
        "    'hour': np.dtype(int),\n",
        "    'C1': np.dtype(int),\n",
        "    'banner_pos': np.dtype(int),\n",
        "    'site_id': np.dtype(str),\n",
        "    'site_domain': np.dtype(str),\n",
        "    'site_category': np.dtype(str),\n",
        "    'app_id': np.dtype(str),\n",
        "    'app_domain': np.dtype(str),\n",
        "    'app_category': np.dtype(str),\n",
        "    'device_id': np.dtype(str),\n",
        "    'device_ip': np.dtype(str),\n",
        "    'device_model': np.dtype(str),\n",
        "    'device_type': np.dtype(int),\n",
        "    'device_conn_type': np.dtype(int),\n",
        "    'C14': np.dtype(int),\n",
        "    'C15': np.dtype(int),\n",
        "    'C16': np.dtype(int),\n",
        "    'C17': np.dtype(int),\n",
        "    'C18': np.dtype(int),\n",
        "    'C19': np.dtype(int),\n",
        "    'C20': np.dtype(int),\n",
        "    'C21':np.dtype(int)\n",
        "}"
      ],
      "metadata": {
        "id": "2_687hIu_aCc"
      },
      "execution_count": null,
      "outputs": []
    },
    {
      "cell_type": "code",
      "source": [
        "FILE_PATH = '/content/drive/MyDrive/ctr/avazu/processed/train/train.csv'\n",
        "train = pd.read_csv(FILE_PATH)"
      ],
      "metadata": {
        "id": "WkfHADIhFAEM"
      },
      "execution_count": null,
      "outputs": []
    },
    {
      "cell_type": "code",
      "source": [
        "FILE_PATH = '/content/drive/MyDrive/ctr/avazu/processed/train/test.csv'\n",
        "test = pd.read_csv(FILE_PATH)"
      ],
      "metadata": {
        "id": "fldUAYCWwovu"
      },
      "execution_count": null,
      "outputs": []
    },
    {
      "cell_type": "markdown",
      "source": [],
      "metadata": {
        "id": "LZ8CgPOnyCM6"
      }
    },
    {
      "cell_type": "code",
      "source": [
        "data = train"
      ],
      "metadata": {
        "id": "5xxt1py7M9u4"
      },
      "execution_count": null,
      "outputs": []
    },
    {
      "cell_type": "code",
      "source": [
        "NULL_ID = 'a99f214a'\n",
        "user_id = []\n",
        "for row in tqdm(data[['device_id', 'device_ip', 'device_model']].values):\n",
        "    device_id, device_ip, device_model = row\n",
        "    if device_id != NULL_ID:\n",
        "        user_id.append(device_id)\n",
        "    else:\n",
        "        user_id.append(device_ip + '-' + device_model)"
      ],
      "metadata": {
        "id": "_sF6lMveM-Zz"
      },
      "execution_count": null,
      "outputs": []
    },
    {
      "cell_type": "code",
      "source": [
        "train['user_id'] = user_id"
      ],
      "metadata": {
        "id": "XXiH2xZHNgMM"
      },
      "execution_count": null,
      "outputs": []
    },
    {
      "cell_type": "code",
      "source": [
        "user_data = {}\n",
        "click_list, imp_list = [], []\n",
        "for user_id, click in tqdm(data[['user_id', 'click']].values):\n",
        "    if user_id not in user_data:\n",
        "        user_data[user_id] = {\n",
        "            'click' : click,\n",
        "            'imp' : 1\n",
        "        }\n",
        "        click_list.append(click)\n",
        "        imp_list.append(1)\n",
        "    else:\n",
        "        now_imp, now_click = user_data[user_id]['imp'], user_data[user_id]['click']\n",
        "\n",
        "        click_list.append(now_click)\n",
        "        imp_list.append(now_imp)\n",
        "\n",
        "        user_data[user_id]['imp'] += 1\n",
        "        user_data[user_id]['click'] += click"
      ],
      "metadata": {
        "id": "ajHdyDSZOxjs"
      },
      "execution_count": null,
      "outputs": []
    },
    {
      "cell_type": "code",
      "source": [
        "train['history click'] = click_list\n",
        "train['history imp'] = imp_list\n",
        "train['CTR'] = train['history click'] / train['history imp'] * 100\n",
        "train = train.round({'CTR':2})"
      ],
      "metadata": {
        "id": "5NCZxgeGQqZU"
      },
      "execution_count": null,
      "outputs": []
    },
    {
      "cell_type": "code",
      "source": [
        "HISTORY_FILE_PATH = '/content/drive/MyDrive/ctr/avazu/processed/train/train_imp_3.csv'\n",
        "train.loc[train['history imp'] >= 3].to_csv(HISTORY_FILE_PATH, index=False)\n",
        "\n",
        "HISTORY_FILE_PATH = '/content/drive/MyDrive/ctr/avazu/processed/train/train_imp_5.csv'\n",
        "train.loc[train['history imp'] >= 5].to_csv(HISTORY_FILE_PATH, index=False)\n",
        "\n",
        "HISTORY_FILE_PATH = '/content/drive/MyDrive/ctr/avazu/processed/train/train_imp_7.csv'\n",
        "train.loc[train['history imp'] >= 7].to_csv(HISTORY_FILE_PATH, index=False)\n",
        "\n",
        "HISTORY_FILE_PATH = '/content/drive/MyDrive/ctr/avazu/processed/train/train_imp_10.csv'\n",
        "train.loc[train['history imp'] >= 10].to_csv(HISTORY_FILE_PATH, index=False)"
      ],
      "metadata": {
        "id": "s5y7DpVkvZoS"
      },
      "execution_count": null,
      "outputs": []
    },
    {
      "cell_type": "code",
      "source": [
        "data = test"
      ],
      "metadata": {
        "id": "4mPEZ9luwnjK"
      },
      "execution_count": null,
      "outputs": []
    },
    {
      "cell_type": "code",
      "source": [
        "NULL_ID = 'a99f214a'\n",
        "user_id = []\n",
        "for row in tqdm(data[['device_id', 'device_ip', 'device_model']].values):\n",
        "    device_id, device_ip, device_model = row\n",
        "    if device_id != NULL_ID:\n",
        "        user_id.append(device_id)\n",
        "    else:\n",
        "        user_id.append(device_ip + '-' + device_model)\n",
        "test['user_id'] = user_id"
      ],
      "metadata": {
        "id": "K0AQB9osyGqi"
      },
      "execution_count": null,
      "outputs": []
    },
    {
      "cell_type": "code",
      "source": [
        "click_list, imp_list = [], []\n",
        "for user_id, click in tqdm(data[['user_id', 'click']].values):\n",
        "    if user_id not in user_data:\n",
        "        user_data[user_id] = {\n",
        "            'click' : click,\n",
        "            'imp' : 1\n",
        "        }\n",
        "        click_list.append(click)\n",
        "        imp_list.append(1)\n",
        "    else:\n",
        "        now_imp, now_click = user_data[user_id]['imp'], user_data[user_id]['click']\n",
        "\n",
        "        click_list.append(now_click)\n",
        "        imp_list.append(now_imp)\n",
        "\n",
        "        user_data[user_id]['imp'] += 1\n",
        "        user_data[user_id]['click'] += click"
      ],
      "metadata": {
        "id": "78Yd_kaTwJqk"
      },
      "execution_count": null,
      "outputs": []
    },
    {
      "cell_type": "code",
      "source": [
        "test['history click'] = click_list\n",
        "test['history imp'] = imp_list\n",
        "test['CTR'] = test['history click'] / test['history imp'] * 100\n",
        "test = test.round({'CTR':2})"
      ],
      "metadata": {
        "id": "-qH4VVIGxdvU"
      },
      "execution_count": null,
      "outputs": []
    },
    {
      "cell_type": "code",
      "source": [
        "HISTORY_FILE_PATH = '/content/drive/MyDrive/ctr/avazu/processed/train/test_imp_3.csv'\n",
        "test.loc[test['history imp'] >= 3].to_csv(HISTORY_FILE_PATH, index=False)\n",
        "\n",
        "HISTORY_FILE_PATH = '/content/drive/MyDrive/ctr/avazu/processed/train/test_imp_5.csv'\n",
        "test.loc[test['history imp'] >= 5].to_csv(HISTORY_FILE_PATH, index=False)\n",
        "\n",
        "HISTORY_FILE_PATH = '/content/drive/MyDrive/ctr/avazu/processed/train/test_imp_7.csv'\n",
        "test.loc[test['history imp'] >= 7].to_csv(HISTORY_FILE_PATH, index=False)\n",
        "\n",
        "HISTORY_FILE_PATH = '/content/drive/MyDrive/ctr/avazu/processed/train/test_imp_10.csv'\n",
        "test.loc[test['history imp'] >= 10].to_csv(HISTORY_FILE_PATH, index=False)"
      ],
      "metadata": {
        "id": "3dabNgjAxk9e"
      },
      "execution_count": null,
      "outputs": []
    }
  ]
}