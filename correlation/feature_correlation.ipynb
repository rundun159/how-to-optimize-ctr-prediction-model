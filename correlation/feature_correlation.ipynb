{
  "cells": [
    {
      "cell_type": "code",
      "execution_count": 1,
      "metadata": {
        "id": "RM36IzyterrU"
      },
      "outputs": [],
      "source": [
        "# import packages\n",
        "import pandas as pd\n",
        "import numpy as np\n",
        "import seaborn as sns\n",
        "import matplotlib.pyplot as plt\n",
        "import random\n",
        "import sys\n",
        "import gzip\n",
        "import datetime\n",
        "from tabulate import tabulate"
      ]
    },
    {
      "cell_type": "code",
      "execution_count": 2,
      "metadata": {
        "id": "WRz5NjeEe0a7"
      },
      "outputs": [],
      "source": [
        "FIGSIZE = (6,3)\n",
        "\n",
        "seed_value = 42  # seed for reproducibility\n",
        "random.seed(seed_value)\n",
        "subsample_ratio = 0.05\n",
        "\n",
        "n = 40428967  # total number of records in the clickstream data\n",
        "sample_size = int(n * subsample_ratio)\n",
        "\n",
        "parse_date = lambda val : datetime.datetime.strptime(val, '%y%m%d%H')\n",
        "skip_values = lambda i: i>0 and random.random() > subsample_ratio"
      ]
    },
    {
      "cell_type": "code",
      "execution_count": 3,
      "metadata": {
        "id": "KgdZt_DafTqE"
      },
      "outputs": [],
      "source": [
        "# indicate the datatypes to use in the reading process\n",
        "types_train = {\n",
        "    'id': np.dtype(int),\n",
        "    'click': np.dtype(int),\n",
        "    'hour': np.dtype(int),\n",
        "    'C1': np.dtype(int),\n",
        "    'banner_pos': np.dtype(int),\n",
        "    'site_id': np.dtype(str),\n",
        "    'site_domain': np.dtype(str),\n",
        "    'site_category': np.dtype(str),\n",
        "    'app_id': np.dtype(str),\n",
        "    'app_domain': np.dtype(str),\n",
        "    'app_category': np.dtype(str),\n",
        "    'device_id': np.dtype(str),\n",
        "    'device_ip': np.dtype(str),\n",
        "    'device_model': np.dtype(str),\n",
        "    'device_type': np.dtype(int),\n",
        "    'device_conn_type': np.dtype(int),\n",
        "    'C14': np.dtype(int),\n",
        "    'C15': np.dtype(int),\n",
        "    'C16': np.dtype(int),\n",
        "    'C17': np.dtype(int),\n",
        "    'C18': np.dtype(int),\n",
        "    'C19': np.dtype(int),\n",
        "    'C20': np.dtype(int),\n",
        "    'C21':np.dtype(int)\n",
        "}"
      ]
    },
    {
      "cell_type": "code",
      "execution_count": 4,
      "metadata": {
        "colab": {
          "base_uri": "https://localhost:8080/"
        },
        "id": "UnuwVwHlfZBv",
        "outputId": "0c8338ff-fe36-4bb2-d914-c97e5c0baff3"
      },
      "outputs": [
        {
          "output_type": "stream",
          "name": "stdout",
          "text": [
            "Mounted at /content/drive\n"
          ]
        }
      ],
      "source": [
        "from google.colab import drive\n",
        "drive.mount('/content/drive')"
      ]
    },
    {
      "cell_type": "code",
      "execution_count": 5,
      "metadata": {
        "id": "BJN6w5eQV3KD"
      },
      "outputs": [],
      "source": [
        "import warnings\n",
        "warnings.filterwarnings(action='ignore')\n",
        "# warnings.filterwarnings(action='default')"
      ]
    },
    {
      "cell_type": "code",
      "execution_count": 6,
      "metadata": {
        "id": "d64OuKpsH1eF"
      },
      "outputs": [],
      "source": [
        "with gzip.open('/content/drive/MyDrive/ctr/avazu-gzip/train.gz') as f:\n",
        "    train = pd.read_csv(f, dtype=types_train)"
      ]
    },
    {
      "cell_type": "code",
      "execution_count": 7,
      "metadata": {
        "id": "3pynPRw22iN6"
      },
      "outputs": [],
      "source": [
        "sample = train.sample(frac=0.01, random_state=42)"
      ]
    },
    {
      "cell_type": "code",
      "source": [
        "data = train"
      ],
      "metadata": {
        "id": "f21Kb7OQIxPg"
      },
      "execution_count": 8,
      "outputs": []
    },
    {
      "cell_type": "code",
      "execution_count": 11,
      "metadata": {
        "id": "0Io6Q0X_0zp7"
      },
      "outputs": [],
      "source": [
        "click = data.groupby(by=['C17', 'site_category'])['click'].sum()"
      ]
    },
    {
      "cell_type": "code",
      "execution_count": 12,
      "metadata": {
        "id": "9ILbL9MBzjLa"
      },
      "outputs": [],
      "source": [
        "imp = data.groupby(by=['C17', 'site_category'])['id'].count()"
      ]
    },
    {
      "cell_type": "code",
      "execution_count": 45,
      "metadata": {
        "id": "lY0JfiNK1Nw6"
      },
      "outputs": [],
      "source": [
        "corr_check = pd.concat({'click':click, 'impression':imp}, axis=1)\n",
        "corr_check['CTR'] = click / imp * 100"
      ]
    },
    {
      "cell_type": "code",
      "execution_count": 34,
      "metadata": {
        "id": "4by6LiGAZgr7"
      },
      "outputs": [],
      "source": [
        "comb_dict = {}\n",
        "for c17, cate in data.groupby(by=['C17', 'site_category']).count().index:\n",
        "    if c17 not in comb_dict:\n",
        "        comb_dict[c17] = [cate]\n",
        "    else:\n",
        "        comb_dict[c17].append(cate)"
      ]
    },
    {
      "cell_type": "code",
      "execution_count": 41,
      "metadata": {
        "id": "0wweA1DQaEtJ"
      },
      "outputs": [],
      "source": [
        "c17_list, cate_num_list = [], []\n",
        "for c17, cate_list in comb_dict.items():\n",
        "    c17_list.append(c17)\n",
        "    cate_num_list.append(len(cate_list))"
      ]
    },
    {
      "cell_type": "code",
      "execution_count": 20,
      "metadata": {
        "id": "FHEdjs9w5Yi3"
      },
      "outputs": [],
      "source": [
        "ctr_list = list(data.groupby(['C17'])['click'].sum() / data.groupby(['C17'])['id'].count() * 100)"
      ]
    },
    {
      "cell_type": "code",
      "source": [
        "cate_num_full_list = []\n",
        "for cate_num in cate_num_list:\n",
        "    cate_num_full_list += [cate_num] * cate_num"
      ],
      "metadata": {
        "id": "XdelH53sKLxJ"
      },
      "execution_count": 49,
      "outputs": []
    },
    {
      "cell_type": "code",
      "source": [
        "c17_ctr = data.groupby(['C17'])['click'].sum() / data.groupby(['C17'])['id'].count() * 100"
      ],
      "metadata": {
        "id": "BRJf07AUNRmc"
      },
      "execution_count": 52,
      "outputs": []
    },
    {
      "cell_type": "code",
      "source": [
        "cate_ctr = data.groupby(['site_category'])['click'].sum() / data.groupby(['site_category'])['id'].count() * 100"
      ],
      "metadata": {
        "id": "eS2Szc3BNgs-"
      },
      "execution_count": 55,
      "outputs": []
    },
    {
      "cell_type": "code",
      "source": [
        "c17_ctr_list = []\n",
        "cate_ctr_list = []\n",
        "for c17, cate in corr_check.index:\n",
        "    c17_ctr_list.append(c17_ctr.loc[c17])\n",
        "    cate_ctr_list.append(cate_ctr.loc[cate])"
      ],
      "metadata": {
        "id": "sDMQekF6NrAE"
      },
      "execution_count": 63,
      "outputs": []
    },
    {
      "cell_type": "code",
      "source": [
        "corr_check['C17 CTR'], corr_check['site_category CTR'] = c17_ctr_list, cate_ctr_list"
      ],
      "metadata": {
        "id": "DHxlar_FOLUk"
      },
      "execution_count": 64,
      "outputs": []
    },
    {
      "cell_type": "code",
      "source": [
        "corr_check['cate num'] = cate_num_full_list"
      ],
      "metadata": {
        "id": "8gUnnZhMOVU9"
      },
      "execution_count": 66,
      "outputs": []
    },
    {
      "cell_type": "code",
      "source": [
        "corr_check['C17 CTR Diff'] = corr_check['CTR'] - corr_check['C17 CTR']\n",
        "corr_check['site_category CTR Diff'] = corr_check['CTR'] - corr_check['site_category CTR']\n",
        "corr_check['CTR Diff sum'] = corr_check['C17 CTR Diff'] + corr_check['site_category CTR Diff']"
      ],
      "metadata": {
        "id": "CWEKBxliOfQP"
      },
      "execution_count": 71,
      "outputs": []
    },
    {
      "cell_type": "code",
      "execution_count": 73,
      "metadata": {
        "id": "dF1bZK935sPM"
      },
      "outputs": [],
      "source": [
        "THRESHOLD = 1000\n",
        "corr_check_filtered = corr_check.loc[corr_check['impression'] > THRESHOLD]"
      ]
    },
    {
      "cell_type": "code",
      "source": [
        "DIR_PATH = '/content/drive/MyDrive/ctr/data/feature_correlation/corr_check/'"
      ],
      "metadata": {
        "id": "rHvdf2_XVDBa"
      },
      "execution_count": 87,
      "outputs": []
    },
    {
      "cell_type": "code",
      "source": [
        "def ret_corr_check(data, f1, f2, dir_path, THRESHOLD=1000):\n",
        "    click = data.groupby(by=[f1, f2])['click'].sum()\n",
        "    imp = data.groupby(by=[f1, f2])['id'].count()\n",
        "\n",
        "    corr_check = pd.concat({'click':click, 'impression':imp}, axis=1)\n",
        "    corr_check['CTR'] = click / imp * 100\n",
        "\n",
        "    comb_dict = {}\n",
        "    for c1, c2 in data.groupby(by=[f1, f2]).count().index:\n",
        "        if c1 not in comb_dict:\n",
        "            comb_dict[c1] = [c2]\n",
        "        else:\n",
        "            comb_dict[c1].append(c2)\n",
        "\n",
        "    f1_list, cate_num_list = [], []\n",
        "    for c1, c2_list in comb_dict.items():\n",
        "        f1_list.append(c1)\n",
        "        cate_num_list.append(len(c2_list))\n",
        "\n",
        "    ctr_list = list(data.groupby([f1])['click'].sum() / data.groupby([f1])['id'].count() * 100)\n",
        "\n",
        "    cate_num_full_list = []\n",
        "    for cate_num in cate_num_list:\n",
        "        cate_num_full_list += [cate_num] * cate_num\n",
        "\n",
        "    f1_ctr = data.groupby([f1])['click'].sum() / data.groupby([f1])['id'].count() * 100\n",
        "    f2_ctr = data.groupby([f2])['click'].sum() / data.groupby([f2])['id'].count() * 100\n",
        "\n",
        "    f1_ctr_list = []\n",
        "    f2_ctr_list = []\n",
        "    for c1, c2 in corr_check.index:\n",
        "        f1_ctr_list.append(f1_ctr.loc[c1])\n",
        "        f2_ctr_list.append(f2_ctr.loc[c2])\n",
        "\n",
        "    corr_check[f1 + ' CTR'], corr_check[f2 + ' CTR'] = f1_ctr_list, f2_ctr_list\n",
        "    corr_check['cate num'] = cate_num_full_list\n",
        "    corr_check[f1 + ' CTR Diff'] = corr_check['CTR'] - corr_check[f1 + ' CTR']\n",
        "    corr_check[f2 + ' CTR Diff'] = corr_check['CTR'] - corr_check[f2 + ' CTR']\n",
        "    corr_check['CTR Diff Sum'] = corr_check[f1 + ' CTR Diff'] + corr_check[f2 + ' CTR Diff']\n",
        "\n",
        "    THRESHOLD = 1000\n",
        "    corr_check_filtered = corr_check.loc[corr_check['impression'] > THRESHOLD]\n",
        "\n",
        "    corr_check_filtered = corr_check_filtered[['cate num', 'click', 'impression', 'CTR', f1 + ' CTR', f2 + ' CTR', f1 + ' CTR Diff', f2 + ' CTR Diff', 'CTR Diff Sum']]\n",
        "    corr_check_filtered = corr_check_filtered.round({\n",
        "    \t'CTR' : 2,\n",
        "    \tf1 + ' CTR' : 2,\n",
        "    \tf2 + ' CTR' : 2,\n",
        "    \tf1 + ' CTR Diff' : 2,\n",
        "    \tf2 + ' CTR Diff' : 2,\n",
        "    \t'CTR Diff Sum' : 2\n",
        "    \t})\n",
        "    corr_check_filtered.to_csv(dir_path + f1 + '_' + f2 + '.csv')\n",
        "    return corr_check_filtered"
      ],
      "metadata": {
        "id": "GxSmUSz8KHHx"
      },
      "execution_count": 85,
      "outputs": []
    },
    {
      "cell_type": "code",
      "source": [
        "f_list = [\n",
        "    'site_category',\n",
        "    'C17',\n",
        "    'C21'\n",
        "    ]\n",
        "f_num = len(f_list)\n",
        "for f1 in f_list:\n",
        "    for f2 in f_list:\n",
        "        if f1 == f2 :\n",
        "            continue\n",
        "        print(f1, f2)\n",
        "        corr_check = ret_corr_check(data, f1, f2, DIR_PATH)"
      ],
      "metadata": {
        "colab": {
          "base_uri": "https://localhost:8080/"
        },
        "id": "moh7bA_pKHEK",
        "outputId": "9e051038-fb53-4bad-a61c-4fa6703934a5"
      },
      "execution_count": 89,
      "outputs": [
        {
          "output_type": "stream",
          "name": "stdout",
          "text": [
            "site_category C17\n",
            "site_category C21\n",
            "C17 site_category\n",
            "C17 C21\n",
            "C21 site_category\n",
            "C21 C17\n"
          ]
        }
      ]
    },
    {
      "cell_type": "code",
      "source": [],
      "metadata": {
        "id": "zLEKedLLYAve"
      },
      "execution_count": null,
      "outputs": []
    }
  ],
  "metadata": {
    "colab": {
      "machine_shape": "hm",
      "provenance": []
    },
    "kernelspec": {
      "display_name": "Python 3",
      "name": "python3"
    },
    "language_info": {
      "name": "python"
    }
  },
  "nbformat": 4,
  "nbformat_minor": 0
}