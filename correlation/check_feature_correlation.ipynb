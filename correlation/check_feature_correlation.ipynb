{
  "cells": [
    {
      "cell_type": "code",
      "execution_count": null,
      "metadata": {
        "id": "RM36IzyterrU"
      },
      "outputs": [],
      "source": [
        "# import packages\n",
        "import pandas as pd\n",
        "import numpy as np\n",
        "import seaborn as sns\n",
        "import matplotlib.pyplot as plt\n",
        "import random\n",
        "import sys\n",
        "import gzip\n",
        "import datetime\n",
        "from tabulate import tabulate\n",
        "from tqdm import tqdm"
      ]
    },
    {
      "cell_type": "code",
      "execution_count": null,
      "metadata": {
        "colab": {
          "base_uri": "https://localhost:8080/"
        },
        "id": "UnuwVwHlfZBv",
        "outputId": "e8245769-e887-4df6-e49a-636bcbb76b88"
      },
      "outputs": [
        {
          "output_type": "stream",
          "name": "stdout",
          "text": [
            "Mounted at /content/drive\n"
          ]
        }
      ],
      "source": [
        "from google.colab import drive\n",
        "drive.mount('/content/drive')"
      ]
    },
    {
      "cell_type": "code",
      "execution_count": null,
      "metadata": {
        "id": "BJN6w5eQV3KD"
      },
      "outputs": [],
      "source": [
        "import warnings\n",
        "warnings.filterwarnings(action='ignore')\n",
        "# warnings.filterwarnings(action='default')"
      ]
    },
    {
      "cell_type": "code",
      "source": [
        "def ret_feature_correlation():\n",
        "\tDIR_PATH = '/content/drive/MyDrive/ctr/data/feature_correlation/corr_check/'\n",
        "\tf_list = [\n",
        "\t    'site_id', 'site_domain', 'site_category',\n",
        "\t    'app_id', 'app_domain', 'app_category',\n",
        "\t    'device_model', 'device_type',\n",
        "\t    'C1', 'C14', 'C15', 'C16', 'C17', 'C18', 'C19', 'C20', 'C21'\n",
        "\t]\n",
        "\tIMP_THRESHOLD_LIST = [1000, 2500, 5000, 10000, 20000]\n",
        "\tCTR_THRESHOLD_LIST = [1, 2.5, 5, 7.5, 10]\n",
        "\n",
        "\n",
        "\tfeature_comb_list = []\n",
        "\ttotal_imp_list = []\n",
        "\tdiff_above_num_list = []\n",
        "\tdiff_below_num_list = []\n",
        "\tdiff_none_num_list = []\n",
        "\tdiff_above_ratio_list = []\n",
        "\tdiff_below_ratio_list = []\n",
        "\tdiff_none_ratio_list = []\n",
        "\timp_threhold_list = []\n",
        "\tctr_threshold_list = []\n",
        "\n",
        "\tf_num = len(f_list)\n",
        "\tfor idx1 in tqdm(range(f_num)):\n",
        "\t\tfor idx2 in range(idx1+1, f_num):\n",
        "\t\t\tf1, f2 = f_list[idx1], f_list[idx2]\n",
        "\t\t\tdata = pd.read_csv(DIR_PATH + f1 + '_' + f2 + '.csv')\n",
        "\t\t\tfor IMP_THRESHOLD in IMP_THRESHOLD_LIST:\n",
        "\t\t\t\tfor CTR_THRESHOLD in CTR_THRESHOLD_LIST:\n",
        "\t\t\t\t\ttarget = data.loc[data['impression'] >= IMP_THRESHOLD]\n",
        "\t\t\t\t\ttotal_imp = len(target)\n",
        "\t\t\t\t\tdiff_above = target.loc[(target[f1 + ' CTR Diff'] >= CTR_THRESHOLD) & (target[f2 + ' CTR Diff'] >= CTR_THRESHOLD)]\n",
        "\t\t\t\t\tdiff_above_num = len(diff_above)\n",
        "\t\t\t\t\tdiff_below = target.loc[(target[f1 + ' CTR Diff'] <= -CTR_THRESHOLD) & (target[f2 + ' CTR Diff'] <= -CTR_THRESHOLD)]\n",
        "\t\t\t\t\tdiff_below_num = len(diff_below)\n",
        "\t\t\t\t\tdiff_none = target.loc[\n",
        "\t\t\t\t\t    (target[f1 + ' CTR Diff'] > -CTR_THRESHOLD) & (target[f1 + ' CTR Diff'] < CTR_THRESHOLD) &\n",
        "\t\t\t\t\t    (target[f2 + ' CTR Diff'] > -CTR_THRESHOLD) & (target[f2 + ' CTR Diff'] < CTR_THRESHOLD)\n",
        "\t\t\t\t\t]\n",
        "\t\t\t\t\tdiff_none_num = len(diff_none)\n",
        "\n",
        "\t\t\t\t\tfeature_comb_list.append(f1 + '-' + f2)\n",
        "\t\t\t\t\ttotal_imp_list.append(total_imp)\n",
        "\t\t\t\t\tdiff_above_num_list.append(diff_above_num)\n",
        "\t\t\t\t\tdiff_below_num_list.append(diff_below_num)\n",
        "\t\t\t\t\tdiff_none_num_list.append(diff_none_num)\n",
        "\t\t\t\t\tif total_imp != 0:\n",
        "\t\t\t\t\t\tdiff_above_ratio_list.append(diff_above_num / total_imp * 100)\n",
        "\t\t\t\t\t\tdiff_below_ratio_list.append(diff_below_num / total_imp * 100)\n",
        "\t\t\t\t\t\tdiff_none_ratio_list.append(diff_none_num / total_imp * 100)\n",
        "\t\t\t\t\telse:\n",
        "\t\t\t\t\t\tdiff_above_ratio_list.append(0)\n",
        "\t\t\t\t\t\tdiff_below_ratio_list.append(0)\n",
        "\t\t\t\t\t\tdiff_none_ratio_list.append(0)\n",
        "\t\t\t\t\timp_threhold_list.append(IMP_THRESHOLD)\n",
        "\t\t\t\t\tctr_threshold_list.append(CTR_THRESHOLD)\n",
        "\n",
        "\tdf = pd.DataFrame(\n",
        "\t    { 'feature' : feature_comb_list,\n",
        "\t     'total imp' : total_imp_list,\n",
        "\t      'diff above num' : diff_above_num_list,\n",
        "\t      'diff below num' : diff_below_num_list,\n",
        "\t      'diff none num' : diff_none_num_list,\n",
        "\t      'diff above ratio' : diff_above_ratio_list,\n",
        "\t      'diff below ratio' : diff_below_ratio_list,\n",
        "\t      'diff none ratio' : diff_none_ratio_list,\n",
        "\t      'imp threshold' : imp_threhold_list,\n",
        "\t      'ctr threshold' : ctr_threshold_list\n",
        "\t      })\n",
        "\n",
        "\treturn df"
      ],
      "metadata": {
        "id": "fwzc4Q9X3pUR"
      },
      "execution_count": null,
      "outputs": []
    },
    {
      "cell_type": "code",
      "source": [
        "df = ret_feature_correlation()"
      ],
      "metadata": {
        "colab": {
          "base_uri": "https://localhost:8080/"
        },
        "id": "oMeTzmJf38Ow",
        "outputId": "025b1ca3-65a7-4cf4-8521-e090e8fd340c"
      },
      "execution_count": null,
      "outputs": [
        {
          "output_type": "stream",
          "name": "stderr",
          "text": [
            "100%|██████████| 17/17 [00:05<00:00,  2.98it/s]\n"
          ]
        }
      ]
    },
    {
      "cell_type": "code",
      "source": [
        "df.to_csv('/content/drive/MyDrive/ctr/data/feature_correlation/check_feature_correlation/feature_correlation.csv', index=False)"
      ],
      "metadata": {
        "id": "mQjfH3ly4EMP"
      },
      "execution_count": null,
      "outputs": []
    },
    {
      "cell_type": "code",
      "source": [],
      "metadata": {
        "id": "NvE3509t4kvp"
      },
      "execution_count": null,
      "outputs": []
    }
  ],
  "metadata": {
    "colab": {
      "machine_shape": "hm",
      "provenance": []
    },
    "kernelspec": {
      "display_name": "Python 3",
      "name": "python3"
    },
    "language_info": {
      "name": "python"
    }
  },
  "nbformat": 4,
  "nbformat_minor": 0
}